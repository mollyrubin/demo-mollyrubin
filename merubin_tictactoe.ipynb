{
 "cells": [
  {
   "cell_type": "code",
   "execution_count": 7,
   "metadata": {},
   "outputs": [],
   "source": [
    "import pandas as pd"
   ]
  },
  {
   "cell_type": "code",
   "execution_count": 8,
   "metadata": {},
   "outputs": [],
   "source": [
    "def wincheck( listx ):\n",
    "    A=0\n",
    "    B=0\n",
    "    C=0\n",
    "    one=0\n",
    "    two=0\n",
    "    three=0\n",
    "    diag1 = 0\n",
    "    diag2 = 0\n",
    "    for moves in listx:\n",
    "        if moves == 'A1' or moves == 'B2' or moves == 'C3': \n",
    "            diag1 = diag1 + 1\n",
    "        if moves == 'C1' or moves == 'B2' or moves == 'A3': \n",
    "            diag2 = diag2 + 1\n",
    "        if 'A' in moves: \n",
    "            A = A + 1\n",
    "        elif 'B' in moves: \n",
    "            B = B + 1\n",
    "        elif 'C' in moves: \n",
    "            C = C + 1\n",
    "        if '1' in moves: \n",
    "            one = one + 1\n",
    "        elif '2' in moves: \n",
    "            two = two + 1\n",
    "        elif '3' in moves: \n",
    "            three = three + 1\n",
    "    counts = [A, B, C, one, two, three, diag1, diag2]\n",
    "    if max(counts) == 3:\n",
    "        return(\"win\")\n",
    "    else:\n",
    "        return(\"no win\")"
   ]
  },
  {
   "cell_type": "code",
   "execution_count": 9,
   "metadata": {
    "scrolled": false
   },
   "outputs": [
    {
     "name": "stdout",
     "output_type": "stream",
     "text": [
      "Time to play tic-tac-toe.\n",
      "    0   1   2\n",
      "0  A1  A2  A3\n",
      "1  B1  B2  B3\n",
      "2  C1  C2  C3\n",
      "Player 1's name?: Molly\n",
      "Player 2's name?: Bridget\n",
      "Molly's move: A1\n",
      "    0   1   2\n",
      "0   X  A2  A3\n",
      "1  B1  B2  B3\n",
      "2  C1  C2  C3\n",
      "Bridget's move: B1\n",
      "    0   1   2\n",
      "0   X  A2  A3\n",
      "1   O  B2  B3\n",
      "2  C1  C2  C3\n",
      "Molly's move: B2\n",
      "    0   1   2\n",
      "0   X  A2  A3\n",
      "1   O   X  B3\n",
      "2  C1  C2  C3\n",
      "Bridget's move: C1\n",
      "   0   1   2\n",
      "0  X  A2  A3\n",
      "1  O   X  B3\n",
      "2  O  C2  C3\n",
      "Molly's move: C3\n",
      "   0   1   2\n",
      "0  X  A2  A3\n",
      "1  O   X  B3\n",
      "2  O  C2   X\n",
      "Molly is the winner!\n",
      "Game Over.\n"
     ]
    }
   ],
   "source": [
    "\n",
    "data = [['A1','A2','A3'],['B1','B2','B3'],['C1','C2', 'C3']]\n",
    "board = pd.DataFrame(data)\n",
    "list1 =[]\n",
    "list2 =[]\n",
    "combo=[]\n",
    "valid_moves= ['A1', 'A2', 'A3', 'B1', 'B2', 'B3', 'C1', 'C2', 'C3']\n",
    "print(\"Time to play tic-tac-toe.\")\n",
    "print (board)\n",
    "player1 = input(\"Player 1's name?: \")\n",
    "player2= input(\"Player 2's name?: \")\n",
    "\n",
    "i = 1\n",
    "while i <= 9:\n",
    "    if wincheck(list1) == 'win' or wincheck(list2) == 'win':\n",
    "        print (\"Game Over.\")\n",
    "        break\n",
    "    if i %2 ==1:\n",
    "        turn1 = input(player1 + \"'s move: \")\n",
    "        while (turn1 not in valid_moves) or (turn1 in combo):\n",
    "            turn1= input(\"Invalid move. \" + player1 + \", try again: \")\n",
    "        list1.append(turn1)\n",
    "        combo.append(turn1)\n",
    "        board = board.replace(turn1, 'X')\n",
    "        print (board)\n",
    "        if wincheck(list1) == 'win':    \n",
    "            print(player1 + \" is the winner!\")\n",
    "    else:\n",
    "        turn2 = input(player2 + \"'s move: \")\n",
    "        while (turn2 not in valid_moves) or (turn2 in combo):\n",
    "            turn2= input(\"Invalid move. \" + player2 + \", try again: \")\n",
    "        list2.append(turn2)\n",
    "        combo.append(turn2)\n",
    "        board = board.replace(turn2, 'O')\n",
    "        print (board)\n",
    "        if wincheck(list2) == 'win':\n",
    "            print(player2 + \" is the winner!\")\n",
    "    i = i + 1\n",
    "if (wincheck(list1) == 'no win') and  (wincheck(list2) == 'no win'):\n",
    "    print(player1 + \" and \" + player2 + \" have tied.\")\n",
    "    print(\"Game Over.\")"
   ]
  },
  {
   "cell_type": "code",
   "execution_count": null,
   "metadata": {},
   "outputs": [],
   "source": []
  },
  {
   "cell_type": "code",
   "execution_count": null,
   "metadata": {},
   "outputs": [],
   "source": []
  }
 ],
 "metadata": {
  "kernelspec": {
   "display_name": "Python 3",
   "language": "python",
   "name": "python3"
  },
  "language_info": {
   "codemirror_mode": {
    "name": "ipython",
    "version": 3
   },
   "file_extension": ".py",
   "mimetype": "text/x-python",
   "name": "python",
   "nbconvert_exporter": "python",
   "pygments_lexer": "ipython3",
   "version": "3.6.5"
  }
 },
 "nbformat": 4,
 "nbformat_minor": 2
}
