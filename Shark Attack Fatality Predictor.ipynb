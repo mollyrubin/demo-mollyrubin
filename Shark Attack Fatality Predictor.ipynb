{
 "cells": [
  {
   "cell_type": "markdown",
   "metadata": {},
   "source": [
    "## Step 1: Importing\n",
    "\n",
    "#### Import all necessary Python libraries, read in data"
   ]
  },
  {
   "cell_type": "code",
   "execution_count": 1,
   "metadata": {
    "collapsed": true
   },
   "outputs": [],
   "source": [
    "import pandas as pd\n",
    "from matplotlib import pyplot as plt\n",
    "pd.options.mode.chained_assignment = None\n",
    "from IPython.display import HTML\n",
    "import numpy as np\n",
    "import seaborn as sns\n",
    "plt.style.use('fivethirtyeight')\n",
    "%matplotlib inline\n",
    "plt.rcParams['figure.figsize'] = (8, 6)\n",
    "plt.rcParams['font.size'] = 14\n",
    "\n",
    "\n",
    "\n",
    "#import\n",
    "shark_raw = pd.read_csv('data/Shark Attack Data.csv')\n"
   ]
  },
  {
   "cell_type": "code",
   "execution_count": 2,
   "metadata": {},
   "outputs": [
    {
     "data": {
      "text/html": [
       "<div>\n",
       "<style>\n",
       "    .dataframe thead tr:only-child th {\n",
       "        text-align: right;\n",
       "    }\n",
       "\n",
       "    .dataframe thead th {\n",
       "        text-align: left;\n",
       "    }\n",
       "\n",
       "    .dataframe tbody tr th {\n",
       "        vertical-align: top;\n",
       "    }\n",
       "</style>\n",
       "<table border=\"1\" class=\"dataframe\">\n",
       "  <thead>\n",
       "    <tr style=\"text-align: right;\">\n",
       "      <th></th>\n",
       "      <th>Case Number</th>\n",
       "      <th>Date</th>\n",
       "      <th>Year</th>\n",
       "      <th>Type</th>\n",
       "      <th>Country</th>\n",
       "      <th>Area</th>\n",
       "      <th>Location</th>\n",
       "      <th>Activity</th>\n",
       "      <th>Name</th>\n",
       "      <th>Sex</th>\n",
       "      <th>...</th>\n",
       "      <th>Fatal (Y/N)</th>\n",
       "      <th>Time</th>\n",
       "      <th>Species</th>\n",
       "      <th>Investigator or Source</th>\n",
       "      <th>pdf</th>\n",
       "      <th>href formula</th>\n",
       "      <th>href</th>\n",
       "      <th>Case Number.1</th>\n",
       "      <th>Case Number.2</th>\n",
       "      <th>original order</th>\n",
       "    </tr>\n",
       "  </thead>\n",
       "  <tbody>\n",
       "    <tr>\n",
       "      <th>0</th>\n",
       "      <td>2017.06.11</td>\n",
       "      <td>11-Jun-17</td>\n",
       "      <td>2017.0</td>\n",
       "      <td>Unprovoked</td>\n",
       "      <td>AUSTRALIA</td>\n",
       "      <td>Western Australia</td>\n",
       "      <td>Point Casuarina, Bunbury</td>\n",
       "      <td>Body boarding</td>\n",
       "      <td>Paul Goff</td>\n",
       "      <td>M</td>\n",
       "      <td>...</td>\n",
       "      <td>N</td>\n",
       "      <td>08h30</td>\n",
       "      <td>White shark, 4 m</td>\n",
       "      <td>WA Today, 6/11/2017</td>\n",
       "      <td>2017.06.11-Goff.pdf</td>\n",
       "      <td>http://sharkattackfile.net/spreadsheets/pdf_di...</td>\n",
       "      <td>http://sharkattackfile.net/spreadsheets/pdf_di...</td>\n",
       "      <td>2017.06.11</td>\n",
       "      <td>2017.06.11</td>\n",
       "      <td>6095.0</td>\n",
       "    </tr>\n",
       "    <tr>\n",
       "      <th>1</th>\n",
       "      <td>2017.06.10.b</td>\n",
       "      <td>10-Jun-17</td>\n",
       "      <td>2017.0</td>\n",
       "      <td>Unprovoked</td>\n",
       "      <td>AUSTRALIA</td>\n",
       "      <td>Victoria</td>\n",
       "      <td>Flinders, Mornington Penisula</td>\n",
       "      <td>Surfing</td>\n",
       "      <td>female</td>\n",
       "      <td>F</td>\n",
       "      <td>...</td>\n",
       "      <td>N</td>\n",
       "      <td>15h45</td>\n",
       "      <td>7 gill shark</td>\n",
       "      <td>NaN</td>\n",
       "      <td>2017.06.10.b-Flinders.pdf</td>\n",
       "      <td>http://sharkattackfile.net/spreadsheets/pdf_di...</td>\n",
       "      <td>http://sharkattackfile.net/spreadsheets/pdf_di...</td>\n",
       "      <td>2017.06.10.b</td>\n",
       "      <td>2017.06.10.b</td>\n",
       "      <td>6094.0</td>\n",
       "    </tr>\n",
       "    <tr>\n",
       "      <th>2</th>\n",
       "      <td>2017.06.10.a</td>\n",
       "      <td>10-Jun-17</td>\n",
       "      <td>2017.0</td>\n",
       "      <td>Unprovoked</td>\n",
       "      <td>USA</td>\n",
       "      <td>Florida</td>\n",
       "      <td>Ponce Inlet, Volusia County</td>\n",
       "      <td>Surfing</td>\n",
       "      <td>Bryan Brock</td>\n",
       "      <td>M</td>\n",
       "      <td>...</td>\n",
       "      <td>N</td>\n",
       "      <td>10h00</td>\n",
       "      <td>NaN</td>\n",
       "      <td>Daytona Beach News-Journal, 6/10/2017</td>\n",
       "      <td>2017.06.10.a-Brock.pdf</td>\n",
       "      <td>http://sharkattackfile.net/spreadsheets/pdf_di...</td>\n",
       "      <td>http://sharkattackfile.net/spreadsheets/pdf_di...</td>\n",
       "      <td>2017.06.10.a</td>\n",
       "      <td>2017.06.10.a</td>\n",
       "      <td>6093.0</td>\n",
       "    </tr>\n",
       "    <tr>\n",
       "      <th>3</th>\n",
       "      <td>2017.06.07.R</td>\n",
       "      <td>Reported 07-Jun-2017</td>\n",
       "      <td>2017.0</td>\n",
       "      <td>Unprovoked</td>\n",
       "      <td>UNITED KINGDOM</td>\n",
       "      <td>South Devon</td>\n",
       "      <td>Bantham Beach</td>\n",
       "      <td>Surfing</td>\n",
       "      <td>Rich Thomson</td>\n",
       "      <td>M</td>\n",
       "      <td>...</td>\n",
       "      <td>N</td>\n",
       "      <td>NaN</td>\n",
       "      <td>3m shark, probably a smooth hound</td>\n",
       "      <td>C. Moore, GSAF</td>\n",
       "      <td>2017.06.07.R-Thomson.pdf</td>\n",
       "      <td>http://sharkattackfile.net/spreadsheets/pdf_di...</td>\n",
       "      <td>http://sharkattackfile.net/spreadsheets/pdf_di...</td>\n",
       "      <td>2017.06.07.R</td>\n",
       "      <td>2017.06.07.R</td>\n",
       "      <td>6092.0</td>\n",
       "    </tr>\n",
       "    <tr>\n",
       "      <th>4</th>\n",
       "      <td>2017.06.04</td>\n",
       "      <td>04-Jun-17</td>\n",
       "      <td>2017.0</td>\n",
       "      <td>Unprovoked</td>\n",
       "      <td>USA</td>\n",
       "      <td>Florida</td>\n",
       "      <td>Middle Sambo Reef off Boca Chica, Monroe County</td>\n",
       "      <td>Spearfishing</td>\n",
       "      <td>Parker Simpson</td>\n",
       "      <td>M</td>\n",
       "      <td>...</td>\n",
       "      <td>N</td>\n",
       "      <td>NaN</td>\n",
       "      <td>8' shark</td>\n",
       "      <td>Nine News, 6/7/2017</td>\n",
       "      <td>2017.06.04-Simpson.pdf</td>\n",
       "      <td>http://sharkattackfile.net/spreadsheets/pdf_di...</td>\n",
       "      <td>http://sharkattackfile.net/spreadsheets/pdf_di...</td>\n",
       "      <td>2017.06.04</td>\n",
       "      <td>2017.06.04</td>\n",
       "      <td>6091.0</td>\n",
       "    </tr>\n",
       "  </tbody>\n",
       "</table>\n",
       "<p>5 rows × 22 columns</p>\n",
       "</div>"
      ],
      "text/plain": [
       "    Case Number                  Date    Year        Type         Country  \\\n",
       "0    2017.06.11             11-Jun-17  2017.0  Unprovoked       AUSTRALIA   \n",
       "1  2017.06.10.b             10-Jun-17  2017.0  Unprovoked       AUSTRALIA   \n",
       "2  2017.06.10.a             10-Jun-17  2017.0  Unprovoked             USA   \n",
       "3  2017.06.07.R  Reported 07-Jun-2017  2017.0  Unprovoked  UNITED KINGDOM   \n",
       "4    2017.06.04             04-Jun-17  2017.0  Unprovoked             USA   \n",
       "\n",
       "                Area                                         Location  \\\n",
       "0  Western Australia                         Point Casuarina, Bunbury   \n",
       "1           Victoria                    Flinders, Mornington Penisula   \n",
       "2            Florida                      Ponce Inlet, Volusia County   \n",
       "3        South Devon                                    Bantham Beach   \n",
       "4            Florida  Middle Sambo Reef off Boca Chica, Monroe County   \n",
       "\n",
       "        Activity            Name Sex       ...       Fatal (Y/N)   Time  \\\n",
       "0  Body boarding       Paul Goff    M      ...                 N  08h30   \n",
       "1        Surfing          female    F      ...                 N  15h45   \n",
       "2        Surfing     Bryan Brock    M      ...                 N  10h00   \n",
       "3       Surfing     Rich Thomson    M      ...                 N    NaN   \n",
       "4   Spearfishing  Parker Simpson    M      ...                 N    NaN   \n",
       "\n",
       "                            Species                  Investigator or Source  \\\n",
       "0                   White shark, 4 m                    WA Today, 6/11/2017   \n",
       "1                       7 gill shark                                    NaN   \n",
       "2                                NaN  Daytona Beach News-Journal, 6/10/2017   \n",
       "3  3m shark, probably a smooth hound                         C. Moore, GSAF   \n",
       "4                           8' shark                    Nine News, 6/7/2017   \n",
       "\n",
       "                         pdf  \\\n",
       "0        2017.06.11-Goff.pdf   \n",
       "1  2017.06.10.b-Flinders.pdf   \n",
       "2     2017.06.10.a-Brock.pdf   \n",
       "3   2017.06.07.R-Thomson.pdf   \n",
       "4     2017.06.04-Simpson.pdf   \n",
       "\n",
       "                                        href formula  \\\n",
       "0  http://sharkattackfile.net/spreadsheets/pdf_di...   \n",
       "1  http://sharkattackfile.net/spreadsheets/pdf_di...   \n",
       "2  http://sharkattackfile.net/spreadsheets/pdf_di...   \n",
       "3  http://sharkattackfile.net/spreadsheets/pdf_di...   \n",
       "4  http://sharkattackfile.net/spreadsheets/pdf_di...   \n",
       "\n",
       "                                                href Case Number.1  \\\n",
       "0  http://sharkattackfile.net/spreadsheets/pdf_di...    2017.06.11   \n",
       "1  http://sharkattackfile.net/spreadsheets/pdf_di...  2017.06.10.b   \n",
       "2  http://sharkattackfile.net/spreadsheets/pdf_di...  2017.06.10.a   \n",
       "3  http://sharkattackfile.net/spreadsheets/pdf_di...  2017.06.07.R   \n",
       "4  http://sharkattackfile.net/spreadsheets/pdf_di...    2017.06.04   \n",
       "\n",
       "  Case Number.2 original order  \n",
       "0    2017.06.11         6095.0  \n",
       "1  2017.06.10.b         6094.0  \n",
       "2  2017.06.10.a         6093.0  \n",
       "3  2017.06.07.R         6092.0  \n",
       "4    2017.06.04         6091.0  \n",
       "\n",
       "[5 rows x 22 columns]"
      ]
     },
     "execution_count": 2,
     "metadata": {},
     "output_type": "execute_result"
    }
   ],
   "source": [
    "shark_raw.head()"
   ]
  },
  {
   "cell_type": "markdown",
   "metadata": {},
   "source": [
    "## Step 2: Preparing\n",
    "\n",
    "#### Remove unneeded variables\n"
   ]
  },
  {
   "cell_type": "code",
   "execution_count": 3,
   "metadata": {
    "collapsed": true
   },
   "outputs": [],
   "source": [
    "shark_col_clean = shark_raw.drop(['Case Number', 'Name', 'Investigator or Source', \n",
    "                                  'pdf', 'href formula', 'href', 'Injury', 'Location', 'Case Number.1', 'Case Number.2',\n",
    "                                  'original order', 'Year'], axis=1)"
   ]
  },
  {
   "cell_type": "markdown",
   "metadata": {},
   "source": [
    "#### Rename variable names that contain spaces or special characters"
   ]
  },
  {
   "cell_type": "code",
   "execution_count": 4,
   "metadata": {
    "collapsed": true
   },
   "outputs": [],
   "source": [
    "shark_col_clean.rename(columns={'Fatal (Y/N)': 'Fatal', 'Species ': 'Shark', 'Sex ':'Sex'}, inplace=True)"
   ]
  },
  {
   "cell_type": "markdown",
   "metadata": {},
   "source": [
    "#### Filter to only United States attacks to simplify dataset"
   ]
  },
  {
   "cell_type": "code",
   "execution_count": 5,
   "metadata": {},
   "outputs": [
    {
     "data": {
      "text/html": [
       "<div>\n",
       "<style>\n",
       "    .dataframe thead tr:only-child th {\n",
       "        text-align: right;\n",
       "    }\n",
       "\n",
       "    .dataframe thead th {\n",
       "        text-align: left;\n",
       "    }\n",
       "\n",
       "    .dataframe tbody tr th {\n",
       "        vertical-align: top;\n",
       "    }\n",
       "</style>\n",
       "<table border=\"1\" class=\"dataframe\">\n",
       "  <thead>\n",
       "    <tr style=\"text-align: right;\">\n",
       "      <th></th>\n",
       "      <th>Date</th>\n",
       "      <th>Type</th>\n",
       "      <th>Area</th>\n",
       "      <th>Activity</th>\n",
       "      <th>Sex</th>\n",
       "      <th>Age</th>\n",
       "      <th>Fatal</th>\n",
       "      <th>Time</th>\n",
       "      <th>Shark</th>\n",
       "    </tr>\n",
       "  </thead>\n",
       "  <tbody>\n",
       "    <tr>\n",
       "      <th>2</th>\n",
       "      <td>10-Jun-17</td>\n",
       "      <td>Unprovoked</td>\n",
       "      <td>Florida</td>\n",
       "      <td>Surfing</td>\n",
       "      <td>M</td>\n",
       "      <td>19</td>\n",
       "      <td>N</td>\n",
       "      <td>10h00</td>\n",
       "      <td>NaN</td>\n",
       "    </tr>\n",
       "    <tr>\n",
       "      <th>4</th>\n",
       "      <td>04-Jun-17</td>\n",
       "      <td>Unprovoked</td>\n",
       "      <td>Florida</td>\n",
       "      <td>Spearfishing</td>\n",
       "      <td>M</td>\n",
       "      <td>NaN</td>\n",
       "      <td>N</td>\n",
       "      <td>NaN</td>\n",
       "      <td>8' shark</td>\n",
       "    </tr>\n",
       "    <tr>\n",
       "      <th>6</th>\n",
       "      <td>30-May-17</td>\n",
       "      <td>Provoked</td>\n",
       "      <td>South Carolina</td>\n",
       "      <td>Touching a shark</td>\n",
       "      <td>F</td>\n",
       "      <td>20</td>\n",
       "      <td>N</td>\n",
       "      <td>NaN</td>\n",
       "      <td>3' shark</td>\n",
       "    </tr>\n",
       "    <tr>\n",
       "      <th>7</th>\n",
       "      <td>28-May-17</td>\n",
       "      <td>Unprovoked</td>\n",
       "      <td>Florida</td>\n",
       "      <td>Feeding sharks</td>\n",
       "      <td>M</td>\n",
       "      <td>NaN</td>\n",
       "      <td>N</td>\n",
       "      <td>Morning</td>\n",
       "      <td>Tiger shark</td>\n",
       "    </tr>\n",
       "    <tr>\n",
       "      <th>12</th>\n",
       "      <td>03-May-17</td>\n",
       "      <td>Invalid</td>\n",
       "      <td>California</td>\n",
       "      <td>Surfing</td>\n",
       "      <td>F</td>\n",
       "      <td>18</td>\n",
       "      <td>N</td>\n",
       "      <td>14h30</td>\n",
       "      <td>Shark involvement highly doubtful</td>\n",
       "    </tr>\n",
       "    <tr>\n",
       "      <th>13</th>\n",
       "      <td>29-Apr-17</td>\n",
       "      <td>Unprovoked</td>\n",
       "      <td>California</td>\n",
       "      <td>NaN</td>\n",
       "      <td>F</td>\n",
       "      <td>NaN</td>\n",
       "      <td>N</td>\n",
       "      <td>17h34</td>\n",
       "      <td>NaN</td>\n",
       "    </tr>\n",
       "    <tr>\n",
       "      <th>15</th>\n",
       "      <td>29-Apr-17</td>\n",
       "      <td>Unprovoked</td>\n",
       "      <td>South Carolina</td>\n",
       "      <td>Surfing</td>\n",
       "      <td>F</td>\n",
       "      <td>33</td>\n",
       "      <td>N</td>\n",
       "      <td>11h00</td>\n",
       "      <td>NaN</td>\n",
       "    </tr>\n",
       "    <tr>\n",
       "      <th>18</th>\n",
       "      <td>26-Apr-17</td>\n",
       "      <td>Invalid</td>\n",
       "      <td>Florida</td>\n",
       "      <td>Photo shoot</td>\n",
       "      <td>F</td>\n",
       "      <td>NaN</td>\n",
       "      <td>NaN</td>\n",
       "      <td>NaN</td>\n",
       "      <td>No shark invovlement - it ws a publicity stunt</td>\n",
       "    </tr>\n",
       "    <tr>\n",
       "      <th>20</th>\n",
       "      <td>20-Apr-17</td>\n",
       "      <td>Invalid</td>\n",
       "      <td>South Carolina</td>\n",
       "      <td>Swimming</td>\n",
       "      <td>M</td>\n",
       "      <td>NaN</td>\n",
       "      <td>N</td>\n",
       "      <td>08h50</td>\n",
       "      <td>Shark involvement not confirmed</td>\n",
       "    </tr>\n",
       "    <tr>\n",
       "      <th>21</th>\n",
       "      <td>17-Apr-17</td>\n",
       "      <td>Unprovoked</td>\n",
       "      <td>Florida</td>\n",
       "      <td>NaN</td>\n",
       "      <td>NaN</td>\n",
       "      <td>NaN</td>\n",
       "      <td>N</td>\n",
       "      <td>Afternoon</td>\n",
       "      <td>NaN</td>\n",
       "    </tr>\n",
       "    <tr>\n",
       "      <th>23</th>\n",
       "      <td>14-Apr-17</td>\n",
       "      <td>Unprovoked</td>\n",
       "      <td>Hawaii</td>\n",
       "      <td>Surfing</td>\n",
       "      <td>M</td>\n",
       "      <td>28</td>\n",
       "      <td>N</td>\n",
       "      <td>09h00</td>\n",
       "      <td>Tiger shark, 12'</td>\n",
       "    </tr>\n",
       "    <tr>\n",
       "      <th>24</th>\n",
       "      <td>13-Apr-17</td>\n",
       "      <td>Unprovoked</td>\n",
       "      <td>Florida</td>\n",
       "      <td>Surfing</td>\n",
       "      <td>M</td>\n",
       "      <td>17</td>\n",
       "      <td>N</td>\n",
       "      <td>13h30</td>\n",
       "      <td>NaN</td>\n",
       "    </tr>\n",
       "    <tr>\n",
       "      <th>25</th>\n",
       "      <td>12-Apr-17</td>\n",
       "      <td>Unprovoked</td>\n",
       "      <td>Florida</td>\n",
       "      <td>Surfing</td>\n",
       "      <td>F</td>\n",
       "      <td>NaN</td>\n",
       "      <td>N</td>\n",
       "      <td>13h45</td>\n",
       "      <td>NaN</td>\n",
       "    </tr>\n",
       "    <tr>\n",
       "      <th>27</th>\n",
       "      <td>11-Apr-17</td>\n",
       "      <td>Unprovoked</td>\n",
       "      <td>Florida</td>\n",
       "      <td>Surfing</td>\n",
       "      <td>F</td>\n",
       "      <td>35</td>\n",
       "      <td>N</td>\n",
       "      <td>16h00</td>\n",
       "      <td>NaN</td>\n",
       "    </tr>\n",
       "    <tr>\n",
       "      <th>28</th>\n",
       "      <td>10-Apr-17</td>\n",
       "      <td>Unprovoked</td>\n",
       "      <td>Florida</td>\n",
       "      <td>Paddle boarding</td>\n",
       "      <td>F</td>\n",
       "      <td>10</td>\n",
       "      <td>N</td>\n",
       "      <td>17h45</td>\n",
       "      <td>NaN</td>\n",
       "    </tr>\n",
       "  </tbody>\n",
       "</table>\n",
       "</div>"
      ],
      "text/plain": [
       "         Date        Type            Area          Activity  Sex  Age Fatal  \\\n",
       "2   10-Jun-17  Unprovoked         Florida           Surfing    M   19     N   \n",
       "4   04-Jun-17  Unprovoked         Florida      Spearfishing    M  NaN     N   \n",
       "6   30-May-17    Provoked  South Carolina  Touching a shark    F   20     N   \n",
       "7   28-May-17  Unprovoked         Florida    Feeding sharks    M  NaN     N   \n",
       "12  03-May-17     Invalid      California           Surfing    F   18     N   \n",
       "13  29-Apr-17  Unprovoked      California               NaN    F  NaN     N   \n",
       "15  29-Apr-17  Unprovoked  South Carolina           Surfing    F   33     N   \n",
       "18  26-Apr-17     Invalid         Florida       Photo shoot    F  NaN   NaN   \n",
       "20  20-Apr-17     Invalid  South Carolina          Swimming    M  NaN     N   \n",
       "21  17-Apr-17  Unprovoked         Florida               NaN  NaN  NaN     N   \n",
       "23  14-Apr-17  Unprovoked          Hawaii           Surfing    M   28     N   \n",
       "24  13-Apr-17  Unprovoked         Florida           Surfing    M   17     N   \n",
       "25  12-Apr-17  Unprovoked         Florida           Surfing    F  NaN     N   \n",
       "27  11-Apr-17  Unprovoked         Florida           Surfing    F   35     N   \n",
       "28  10-Apr-17  Unprovoked         Florida   Paddle boarding    F   10     N   \n",
       "\n",
       "         Time                                           Shark  \n",
       "2       10h00                                             NaN  \n",
       "4         NaN                                        8' shark  \n",
       "6         NaN                                        3' shark  \n",
       "7     Morning                                     Tiger shark  \n",
       "12      14h30               Shark involvement highly doubtful  \n",
       "13      17h34                                             NaN  \n",
       "15      11h00                                             NaN  \n",
       "18        NaN  No shark invovlement - it ws a publicity stunt  \n",
       "20      08h50                 Shark involvement not confirmed  \n",
       "21  Afternoon                                             NaN  \n",
       "23      09h00                                Tiger shark, 12'  \n",
       "24      13h30                                             NaN  \n",
       "25      13h45                                             NaN  \n",
       "27      16h00                                             NaN  \n",
       "28      17h45                                             NaN  "
      ]
     },
     "execution_count": 5,
     "metadata": {},
     "output_type": "execute_result"
    }
   ],
   "source": [
    "shark_usa = shark_col_clean[(shark_col_clean.Country == 'USA')]     \n",
    "\n",
    "shark_usa = shark_usa.drop(['Country'], axis=1)\n",
    "\n",
    "\n",
    "\n",
    "shark_usa.head(15)                  "
   ]
  },
  {
   "cell_type": "markdown",
   "metadata": {},
   "source": [
    "#### Identify missing data"
   ]
  },
  {
   "cell_type": "code",
   "execution_count": 6,
   "metadata": {},
   "outputs": [
    {
     "name": "stdout",
     "output_type": "stream",
     "text": [
      "Date          0\n",
      "Type          2\n",
      "Area          4\n",
      "Activity    129\n",
      "Sex         103\n",
      "Age         696\n",
      "Fatal         4\n",
      "Time        818\n",
      "Shark       941\n",
      "dtype: int64\n"
     ]
    }
   ],
   "source": [
    "print(shark_usa.isnull().sum())"
   ]
  },
  {
   "cell_type": "markdown",
   "metadata": {},
   "source": [
    "#### Replace null values with \"Unknown\" for Shark variable, but otherwise delete observations with any missing data"
   ]
  },
  {
   "cell_type": "code",
   "execution_count": 7,
   "metadata": {
    "scrolled": true
   },
   "outputs": [
    {
     "name": "stdout",
     "output_type": "stream",
     "text": [
      "<class 'pandas.core.frame.DataFrame'>\n",
      "Int64Index: 1100 entries, 2 to 5992\n",
      "Data columns (total 9 columns):\n",
      "Date        1100 non-null object\n",
      "Type        1100 non-null object\n",
      "Area        1100 non-null object\n",
      "Activity    1100 non-null object\n",
      "Sex         1100 non-null object\n",
      "Age         1100 non-null object\n",
      "Fatal       1100 non-null object\n",
      "Time        1100 non-null object\n",
      "Shark       1100 non-null object\n",
      "dtypes: object(9)\n",
      "memory usage: 85.9+ KB\n"
     ]
    }
   ],
   "source": [
    "shark_usa.Shark.fillna(value='Unknown', inplace=True)\n",
    "\n",
    "shark_usa1 = shark_usa.dropna()\n",
    "\n",
    "shark_usa1.info()"
   ]
  },
  {
   "cell_type": "markdown",
   "metadata": {},
   "source": [
    "#### Check Fatal variable, make data consistent\n"
   ]
  },
  {
   "cell_type": "code",
   "execution_count": 8,
   "metadata": {},
   "outputs": [
    {
     "data": {
      "text/plain": [
       "N          1035\n",
       "Y            64\n",
       "UNKNOWN       1\n",
       "Name: Fatal, dtype: int64"
      ]
     },
     "execution_count": 8,
     "metadata": {},
     "output_type": "execute_result"
    }
   ],
   "source": [
    "shark_usa1['Fatal'].value_counts()"
   ]
  },
  {
   "cell_type": "code",
   "execution_count": 9,
   "metadata": {},
   "outputs": [
    {
     "data": {
      "text/plain": [
       "N    1035\n",
       "Y      64\n",
       "Name: Fatal, dtype: int64"
      ]
     },
     "execution_count": 9,
     "metadata": {},
     "output_type": "execute_result"
    }
   ],
   "source": [
    "shark_usa2 = shark_usa1[(shark_usa1.Fatal == 'N') | (shark_usa1.Fatal == 'Y')]\n",
    "\n",
    "shark_usa2['Fatal'].value_counts()"
   ]
  },
  {
   "cell_type": "markdown",
   "metadata": {},
   "source": [
    "#### Check Type variable, make data consistent"
   ]
  },
  {
   "cell_type": "code",
   "execution_count": 10,
   "metadata": {},
   "outputs": [
    {
     "data": {
      "text/plain": [
       "Unprovoked      986\n",
       "Provoked         55\n",
       "Invalid          48\n",
       "Sea Disaster      6\n",
       "Boat              4\n",
       "Name: Type, dtype: int64"
      ]
     },
     "execution_count": 10,
     "metadata": {},
     "output_type": "execute_result"
    }
   ],
   "source": [
    "shark_usa2['Type'].value_counts()"
   ]
  },
  {
   "cell_type": "code",
   "execution_count": 11,
   "metadata": {},
   "outputs": [
    {
     "data": {
      "text/plain": [
       "Unprovoked    996\n",
       "Provoked       55\n",
       "Name: Type, dtype: int64"
      ]
     },
     "execution_count": 11,
     "metadata": {},
     "output_type": "execute_result"
    }
   ],
   "source": [
    "shark_usa3 = shark_usa2[(shark_usa2.Type != 'Invalid')]\n",
    "\n",
    "shark_usa3.Type.replace('Sea Disaster', 'Unprovoked', inplace=True)\n",
    "shark_usa3.Type.replace('Boat', 'Unprovoked', inplace=True)\n",
    "shark_usa3['Type'].value_counts()"
   ]
  },
  {
   "cell_type": "markdown",
   "metadata": {},
   "source": [
    "#### From free form text in Activity field, use key words to categorize and mine the text to create Activity_Category, grouping similar activities together"
   ]
  },
  {
   "cell_type": "code",
   "execution_count": 12,
   "metadata": {},
   "outputs": [
    {
     "data": {
      "text/html": [
       "<div>\n",
       "<style>\n",
       "    .dataframe thead tr:only-child th {\n",
       "        text-align: right;\n",
       "    }\n",
       "\n",
       "    .dataframe thead th {\n",
       "        text-align: left;\n",
       "    }\n",
       "\n",
       "    .dataframe tbody tr th {\n",
       "        vertical-align: top;\n",
       "    }\n",
       "</style>\n",
       "<table border=\"1\" class=\"dataframe\">\n",
       "  <thead>\n",
       "    <tr style=\"text-align: right;\">\n",
       "      <th></th>\n",
       "      <th>Date</th>\n",
       "      <th>Type</th>\n",
       "      <th>Area</th>\n",
       "      <th>Activity</th>\n",
       "      <th>Sex</th>\n",
       "      <th>Age</th>\n",
       "      <th>Fatal</th>\n",
       "      <th>Time</th>\n",
       "      <th>Shark</th>\n",
       "      <th>Activity_category</th>\n",
       "    </tr>\n",
       "  </thead>\n",
       "  <tbody>\n",
       "    <tr>\n",
       "      <th>4932</th>\n",
       "      <td>16-Mar-29</td>\n",
       "      <td>Unprovoked</td>\n",
       "      <td>Florida</td>\n",
       "      <td>Swimming</td>\n",
       "      <td>M</td>\n",
       "      <td>26</td>\n",
       "      <td>N</td>\n",
       "      <td>12h00</td>\n",
       "      <td>Unknown</td>\n",
       "      <td>Swimming</td>\n",
       "    </tr>\n",
       "    <tr>\n",
       "      <th>5003</th>\n",
       "      <td>08-Jul-26</td>\n",
       "      <td>Unprovoked</td>\n",
       "      <td>California</td>\n",
       "      <td>Swimming with dog near canning factory</td>\n",
       "      <td>M</td>\n",
       "      <td>15</td>\n",
       "      <td>N</td>\n",
       "      <td></td>\n",
       "      <td>1.5 m [5'] white shark or sevengill shark</td>\n",
       "      <td>Swimming</td>\n",
       "    </tr>\n",
       "    <tr>\n",
       "      <th>5031</th>\n",
       "      <td>21-Nov-24</td>\n",
       "      <td>Unprovoked</td>\n",
       "      <td>Puerto Rico</td>\n",
       "      <td>Bathing</td>\n",
       "      <td>M</td>\n",
       "      <td>35</td>\n",
       "      <td>Y</td>\n",
       "      <td>Late afternon</td>\n",
       "      <td>Unknown</td>\n",
       "      <td>Swimming</td>\n",
       "    </tr>\n",
       "    <tr>\n",
       "      <th>5107</th>\n",
       "      <td>29-Jun-20</td>\n",
       "      <td>Unprovoked</td>\n",
       "      <td>Florida</td>\n",
       "      <td>Swimming</td>\n",
       "      <td>M</td>\n",
       "      <td>13</td>\n",
       "      <td>N</td>\n",
       "      <td>18h30</td>\n",
       "      <td>Unknown</td>\n",
       "      <td>Swimming</td>\n",
       "    </tr>\n",
       "    <tr>\n",
       "      <th>5160</th>\n",
       "      <td>12-Jul-16</td>\n",
       "      <td>Unprovoked</td>\n",
       "      <td>New Jersey</td>\n",
       "      <td>Swimming</td>\n",
       "      <td>M</td>\n",
       "      <td>10</td>\n",
       "      <td>Y</td>\n",
       "      <td>A.M.</td>\n",
       "      <td>Unknown</td>\n",
       "      <td>Swimming</td>\n",
       "    </tr>\n",
       "    <tr>\n",
       "      <th>5165</th>\n",
       "      <td>01-Jul-16</td>\n",
       "      <td>Unprovoked</td>\n",
       "      <td>New Jersey</td>\n",
       "      <td>Swimming</td>\n",
       "      <td>M</td>\n",
       "      <td>24</td>\n",
       "      <td>Y</td>\n",
       "      <td>17h00</td>\n",
       "      <td>Thought to involve a 2.6 m [8.5'] white shark</td>\n",
       "      <td>Swimming</td>\n",
       "    </tr>\n",
       "    <tr>\n",
       "      <th>5341</th>\n",
       "      <td>29-Jul-05</td>\n",
       "      <td>Unprovoked</td>\n",
       "      <td>North Carolina</td>\n",
       "      <td>Wading</td>\n",
       "      <td>M</td>\n",
       "      <td>16</td>\n",
       "      <td>Y</td>\n",
       "      <td>Afternoon</td>\n",
       "      <td>Unknown</td>\n",
       "      <td>Swimming</td>\n",
       "    </tr>\n",
       "    <tr>\n",
       "      <th>5467</th>\n",
       "      <td>25-Jul-1896</td>\n",
       "      <td>Unprovoked</td>\n",
       "      <td>Hawaii</td>\n",
       "      <td>Fishing</td>\n",
       "      <td>M</td>\n",
       "      <td>35</td>\n",
       "      <td>Y</td>\n",
       "      <td>10h30</td>\n",
       "      <td>Unknown</td>\n",
       "      <td>Fishing</td>\n",
       "    </tr>\n",
       "    <tr>\n",
       "      <th>5478</th>\n",
       "      <td>11-Aug-1895</td>\n",
       "      <td>Unprovoked</td>\n",
       "      <td>Rhode Island</td>\n",
       "      <td>Swimming</td>\n",
       "      <td>M</td>\n",
       "      <td>26</td>\n",
       "      <td>Y</td>\n",
       "      <td>05h00</td>\n",
       "      <td>Unknown</td>\n",
       "      <td>Swimming</td>\n",
       "    </tr>\n",
       "    <tr>\n",
       "      <th>5681</th>\n",
       "      <td>08-Aug-1878</td>\n",
       "      <td>Unprovoked</td>\n",
       "      <td>New York</td>\n",
       "      <td>Swimming</td>\n",
       "      <td>M</td>\n",
       "      <td>14</td>\n",
       "      <td>Y</td>\n",
       "      <td>Afternoon</td>\n",
       "      <td>Unknown</td>\n",
       "      <td>Swimming</td>\n",
       "    </tr>\n",
       "    <tr>\n",
       "      <th>5763</th>\n",
       "      <td>02-Sep-1865</td>\n",
       "      <td>Unprovoked</td>\n",
       "      <td>New York</td>\n",
       "      <td>Swimming alongside the schooner Catherine Wilcox</td>\n",
       "      <td>M</td>\n",
       "      <td>17</td>\n",
       "      <td>N</td>\n",
       "      <td>09h00</td>\n",
       "      <td>Unknown</td>\n",
       "      <td>Swimming</td>\n",
       "    </tr>\n",
       "    <tr>\n",
       "      <th>5992</th>\n",
       "      <td>Before 2009</td>\n",
       "      <td>Unprovoked</td>\n",
       "      <td>Florida</td>\n",
       "      <td>Shark tagging</td>\n",
       "      <td>F</td>\n",
       "      <td>21</td>\n",
       "      <td>N</td>\n",
       "      <td>18h00</td>\n",
       "      <td>Blacktip shark, 5'</td>\n",
       "      <td>NaN</td>\n",
       "    </tr>\n",
       "  </tbody>\n",
       "</table>\n",
       "</div>"
      ],
      "text/plain": [
       "             Date        Type            Area  \\\n",
       "4932    16-Mar-29  Unprovoked         Florida   \n",
       "5003    08-Jul-26  Unprovoked      California   \n",
       "5031    21-Nov-24  Unprovoked     Puerto Rico   \n",
       "5107    29-Jun-20  Unprovoked         Florida   \n",
       "5160    12-Jul-16  Unprovoked      New Jersey   \n",
       "5165    01-Jul-16  Unprovoked      New Jersey   \n",
       "5341    29-Jul-05  Unprovoked  North Carolina   \n",
       "5467  25-Jul-1896  Unprovoked          Hawaii   \n",
       "5478  11-Aug-1895  Unprovoked    Rhode Island   \n",
       "5681  08-Aug-1878  Unprovoked        New York   \n",
       "5763  02-Sep-1865  Unprovoked        New York   \n",
       "5992  Before 2009  Unprovoked         Florida   \n",
       "\n",
       "                                              Activity Sex Age Fatal  \\\n",
       "4932                                          Swimming   M  26     N   \n",
       "5003            Swimming with dog near canning factory   M  15     N   \n",
       "5031                                           Bathing   M  35     Y   \n",
       "5107                                         Swimming    M  13     N   \n",
       "5160                                          Swimming   M  10     Y   \n",
       "5165                                          Swimming   M  24     Y   \n",
       "5341                                            Wading   M  16     Y   \n",
       "5467                                           Fishing   M  35     Y   \n",
       "5478                                          Swimming   M  26     Y   \n",
       "5681                                          Swimming   M  14     Y   \n",
       "5763  Swimming alongside the schooner Catherine Wilcox   M  17     N   \n",
       "5992                                     Shark tagging   F  21     N   \n",
       "\n",
       "               Time                                          Shark  \\\n",
       "4932          12h00                                        Unknown   \n",
       "5003                     1.5 m [5'] white shark or sevengill shark   \n",
       "5031  Late afternon                                        Unknown   \n",
       "5107          18h30                                        Unknown   \n",
       "5160           A.M.                                        Unknown   \n",
       "5165          17h00  Thought to involve a 2.6 m [8.5'] white shark   \n",
       "5341      Afternoon                                        Unknown   \n",
       "5467          10h30                                        Unknown   \n",
       "5478          05h00                                        Unknown   \n",
       "5681      Afternoon                                        Unknown   \n",
       "5763          09h00                                        Unknown   \n",
       "5992          18h00                             Blacktip shark, 5'   \n",
       "\n",
       "     Activity_category  \n",
       "4932          Swimming  \n",
       "5003          Swimming  \n",
       "5031          Swimming  \n",
       "5107          Swimming  \n",
       "5160          Swimming  \n",
       "5165          Swimming  \n",
       "5341          Swimming  \n",
       "5467           Fishing  \n",
       "5478          Swimming  \n",
       "5681          Swimming  \n",
       "5763          Swimming  \n",
       "5992               NaN  "
      ]
     },
     "execution_count": 12,
     "metadata": {},
     "output_type": "execute_result"
    }
   ],
   "source": [
    "shark_usa3.loc[shark_usa3['Activity'].str.contains('surf', case=False), 'Activity_category'] = 'Surfing'\n",
    "shark_usa3.loc[shark_usa3['Activity'].str.contains('swim', case=False), 'Activity_category'] = 'Swimming'\n",
    "shark_usa3.loc[shark_usa3['Activity'].str.contains('wading', case=False), 'Activity_category'] = 'Swimming'\n",
    "shark_usa3.loc[shark_usa3['Activity'].str.contains('float', case=False), 'Activity_category'] = 'Swimming'\n",
    "shark_usa3.loc[shark_usa3['Activity'].str.contains('play', case=False), 'Activity_category'] = 'Swimming'\n",
    "shark_usa3.loc[shark_usa3['Activity'].str.contains('walk', case=False), 'Activity_category'] = 'Swimming'\n",
    "shark_usa3.loc[shark_usa3['Activity'].str.contains('bath', case=False), 'Activity_category'] = 'Swimming'\n",
    "shark_usa3.loc[shark_usa3['Activity'].str.contains('stand', case=False), 'Activity_category'] = 'Swimming'\n",
    "shark_usa3.loc[shark_usa3['Activity'].str.contains('paddle', case=False), 'Activity_category'] = 'Boarding'\n",
    "shark_usa3.loc[shark_usa3['Activity'].str.contains('boogie', case=False), 'Activity_category'] = 'Boarding'\n",
    "shark_usa3.loc[shark_usa3['Activity'].str.contains('body', case=False), 'Activity_category'] = 'Boarding'\n",
    "shark_usa3.loc[shark_usa3['Activity'].str.contains('board', case=False), 'Activity_category'] = 'Boarding'\n",
    "shark_usa3.loc[shark_usa3['Activity'].str.contains('snork', case=False), 'Activity_category'] = 'Snorkeling/Diving'\n",
    "shark_usa3.loc[shark_usa3['Activity'].str.contains('scuba', case=False), 'Activity_category'] = 'Snorkeling/Diving'\n",
    "shark_usa3.loc[shark_usa3['Activity'].str.contains('diving', case=False), 'Activity_category'] = 'Snorkeling/Diving'\n",
    "shark_usa3.loc[shark_usa3['Activity'].str.contains('photo', case=False), 'Activity_category'] = 'Snorkeling/Diving'\n",
    "shark_usa3.loc[shark_usa3['Activity'].str.contains('fishing', case=False), 'Activity_category'] = 'Fishing'\n",
    "shark_usa3.loc[shark_usa3['Activity'].str.contains('raft', case=False), 'Activity_category'] = 'Boating'\n",
    "shark_usa3.loc[shark_usa3['Activity'].str.contains('boat', case=False), 'Activity_category'] = 'Boating'\n",
    "shark_usa3.loc[shark_usa3['Activity'].str.contains('overboard', case=False), 'Activity_category'] = 'Boating'\n",
    "\n",
    "shark_usa3.tail(12)\n"
   ]
  },
  {
   "cell_type": "code",
   "execution_count": 13,
   "metadata": {},
   "outputs": [
    {
     "data": {
      "text/plain": [
       "Surfing              393\n",
       "Swimming             343\n",
       "Boarding             109\n",
       "Snorkeling/Diving     77\n",
       "Fishing               73\n",
       "Other                 42\n",
       "Boating               14\n",
       "Name: Activity_category, dtype: int64"
      ]
     },
     "execution_count": 13,
     "metadata": {},
     "output_type": "execute_result"
    }
   ],
   "source": [
    "shark_usa4 = shark_usa3.drop(['Activity'], axis=1)\n",
    "shark_usa4.Activity_category.fillna(value='Other', inplace=True)\n",
    "\n",
    "shark_usa4.Activity_category.value_counts()"
   ]
  },
  {
   "cell_type": "markdown",
   "metadata": {},
   "source": [
    "#### Use the Time variable to determine Time of Day, so instead of an exact hour:minute number, there are 5 buckets"
   ]
  },
  {
   "cell_type": "code",
   "execution_count": 14,
   "metadata": {},
   "outputs": [
    {
     "data": {
      "text/html": [
       "<div>\n",
       "<style>\n",
       "    .dataframe thead tr:only-child th {\n",
       "        text-align: right;\n",
       "    }\n",
       "\n",
       "    .dataframe thead th {\n",
       "        text-align: left;\n",
       "    }\n",
       "\n",
       "    .dataframe tbody tr th {\n",
       "        vertical-align: top;\n",
       "    }\n",
       "</style>\n",
       "<table border=\"1\" class=\"dataframe\">\n",
       "  <thead>\n",
       "    <tr style=\"text-align: right;\">\n",
       "      <th></th>\n",
       "      <th>Date</th>\n",
       "      <th>Type</th>\n",
       "      <th>Area</th>\n",
       "      <th>Sex</th>\n",
       "      <th>Age</th>\n",
       "      <th>Fatal</th>\n",
       "      <th>Time</th>\n",
       "      <th>Shark</th>\n",
       "      <th>Activity_category</th>\n",
       "      <th>Time_of_day</th>\n",
       "    </tr>\n",
       "  </thead>\n",
       "  <tbody>\n",
       "    <tr>\n",
       "      <th>5467</th>\n",
       "      <td>25-Jul-1896</td>\n",
       "      <td>Unprovoked</td>\n",
       "      <td>Hawaii</td>\n",
       "      <td>M</td>\n",
       "      <td>35</td>\n",
       "      <td>Y</td>\n",
       "      <td>10h30</td>\n",
       "      <td>Unknown</td>\n",
       "      <td>Fishing</td>\n",
       "      <td>Morning</td>\n",
       "    </tr>\n",
       "    <tr>\n",
       "      <th>5478</th>\n",
       "      <td>11-Aug-1895</td>\n",
       "      <td>Unprovoked</td>\n",
       "      <td>Rhode Island</td>\n",
       "      <td>M</td>\n",
       "      <td>26</td>\n",
       "      <td>Y</td>\n",
       "      <td>05h00</td>\n",
       "      <td>Unknown</td>\n",
       "      <td>Swimming</td>\n",
       "      <td>Early Morning</td>\n",
       "    </tr>\n",
       "    <tr>\n",
       "      <th>5681</th>\n",
       "      <td>08-Aug-1878</td>\n",
       "      <td>Unprovoked</td>\n",
       "      <td>New York</td>\n",
       "      <td>M</td>\n",
       "      <td>14</td>\n",
       "      <td>Y</td>\n",
       "      <td>Afternoon</td>\n",
       "      <td>Unknown</td>\n",
       "      <td>Swimming</td>\n",
       "      <td>Afternoon</td>\n",
       "    </tr>\n",
       "    <tr>\n",
       "      <th>5763</th>\n",
       "      <td>02-Sep-1865</td>\n",
       "      <td>Unprovoked</td>\n",
       "      <td>New York</td>\n",
       "      <td>M</td>\n",
       "      <td>17</td>\n",
       "      <td>N</td>\n",
       "      <td>09h00</td>\n",
       "      <td>Unknown</td>\n",
       "      <td>Swimming</td>\n",
       "      <td>Morning</td>\n",
       "    </tr>\n",
       "    <tr>\n",
       "      <th>5992</th>\n",
       "      <td>Before 2009</td>\n",
       "      <td>Unprovoked</td>\n",
       "      <td>Florida</td>\n",
       "      <td>F</td>\n",
       "      <td>21</td>\n",
       "      <td>N</td>\n",
       "      <td>18h00</td>\n",
       "      <td>Blacktip shark, 5'</td>\n",
       "      <td>Other</td>\n",
       "      <td>Evening</td>\n",
       "    </tr>\n",
       "  </tbody>\n",
       "</table>\n",
       "</div>"
      ],
      "text/plain": [
       "             Date        Type          Area Sex Age Fatal       Time  \\\n",
       "5467  25-Jul-1896  Unprovoked        Hawaii   M  35     Y      10h30   \n",
       "5478  11-Aug-1895  Unprovoked  Rhode Island   M  26     Y      05h00   \n",
       "5681  08-Aug-1878  Unprovoked      New York   M  14     Y  Afternoon   \n",
       "5763  02-Sep-1865  Unprovoked      New York   M  17     N      09h00   \n",
       "5992  Before 2009  Unprovoked       Florida   F  21     N      18h00   \n",
       "\n",
       "                   Shark Activity_category    Time_of_day  \n",
       "5467             Unknown           Fishing        Morning  \n",
       "5478             Unknown          Swimming  Early Morning  \n",
       "5681             Unknown          Swimming      Afternoon  \n",
       "5763             Unknown          Swimming        Morning  \n",
       "5992  Blacktip shark, 5'             Other        Evening  "
      ]
     },
     "execution_count": 14,
     "metadata": {},
     "output_type": "execute_result"
    }
   ],
   "source": [
    "shark_usa4.loc[shark_usa4['Time'].str.contains('04h', case=False), 'Time_of_day'] = 'Early Morning'\n",
    "shark_usa4.loc[shark_usa4['Time'].str.contains('05h', case=False), 'Time_of_day'] = 'Early Morning'\n",
    "shark_usa4.loc[shark_usa4['Time'].str.contains('06h', case=False), 'Time_of_day'] = 'Early Morning'\n",
    "shark_usa4.loc[shark_usa4['Time'].str.contains('07h', case=False), 'Time_of_day'] = 'Early Morning'\n",
    "shark_usa4.loc[shark_usa4['Time'].str.contains('08h', case=False), 'Time_of_day'] = 'Morning'\n",
    "shark_usa4.loc[shark_usa4['Time'].str.contains('09h', case=False), 'Time_of_day'] = 'Morning'\n",
    "shark_usa4.loc[shark_usa4['Time'].str.contains('10h', case=False), 'Time_of_day'] = 'Morning'\n",
    "shark_usa4.loc[shark_usa4['Time'].str.contains('11h', case=False), 'Time_of_day'] = 'Morning'\n",
    "shark_usa4.loc[shark_usa4['Time'].str.contains('12h', case=False), 'Time_of_day'] = 'Afternoon'\n",
    "shark_usa4.loc[shark_usa4['Time'].str.contains('13h', case=False), 'Time_of_day'] = 'Afternoon'\n",
    "shark_usa4.loc[shark_usa4['Time'].str.contains('14h', case=False), 'Time_of_day'] = 'Afternoon'\n",
    "shark_usa4.loc[shark_usa4['Time'].str.contains('15h', case=False), 'Time_of_day'] = 'Afternoon'\n",
    "shark_usa4.loc[shark_usa4['Time'].str.contains('16h', case=False), 'Time_of_day'] = 'Evening'\n",
    "shark_usa4.loc[shark_usa4['Time'].str.contains('17h', case=False), 'Time_of_day'] = 'Evening'\n",
    "shark_usa4.loc[shark_usa4['Time'].str.contains('18h', case=False), 'Time_of_day'] = 'Evening'\n",
    "shark_usa4.loc[shark_usa4['Time'].str.contains('19h', case=False), 'Time_of_day'] = 'Evening'\n",
    "shark_usa4.loc[shark_usa4['Time'].str.contains('20h', case=False), 'Time_of_day'] = 'Night'\n",
    "shark_usa4.loc[shark_usa4['Time'].str.contains('21h', case=False), 'Time_of_day'] = 'Night'\n",
    "shark_usa4.loc[shark_usa4['Time'].str.contains('22h', case=False), 'Time_of_day'] = 'Night'\n",
    "shark_usa4.loc[shark_usa4['Time'].str.contains('23h', case=False), 'Time_of_day'] = 'Night'\n",
    "shark_usa4.loc[shark_usa4['Time'].str.contains('00h', case=False), 'Time_of_day'] = 'Night'\n",
    "shark_usa4.loc[shark_usa4['Time'].str.contains('01h', case=False), 'Time_of_day'] = 'Night'\n",
    "shark_usa4.loc[shark_usa4['Time'].str.contains('02h', case=False), 'Time_of_day'] = 'Night'\n",
    "shark_usa4.loc[shark_usa4['Time'].str.contains('03h', case=False), 'Time_of_day'] = 'Night'\n",
    "shark_usa4.loc[shark_usa4['Time'].str.contains('noon', case=False), 'Time_of_day'] = 'Afternoon'\n",
    "shark_usa4.loc[shark_usa4['Time'].str.contains('morning', case=False), 'Time_of_day'] = 'Morning'\n",
    "shark_usa4.loc[shark_usa4['Time'].str.contains('night', case=False), 'Time_of_day'] = 'Night'\n",
    "shark_usa4.loc[shark_usa4['Time'].str.contains('a.m', case=False), 'Time_of_day'] = 'Morning'\n",
    "shark_usa4.loc[shark_usa4['Time'].str.contains('p.m', case=False), 'Time_of_day'] = 'Afternoon'\n",
    "\n",
    "shark_usa4.tail()"
   ]
  },
  {
   "cell_type": "code",
   "execution_count": 15,
   "metadata": {},
   "outputs": [
    {
     "data": {
      "text/plain": [
       "Afternoon        445\n",
       "Morning          282\n",
       "Evening          244\n",
       "Early Morning     30\n",
       "Night             26\n",
       "Name: Time_of_day, dtype: int64"
      ]
     },
     "execution_count": 15,
     "metadata": {},
     "output_type": "execute_result"
    }
   ],
   "source": [
    "shark_usa5 = shark_usa4.drop(['Time'], axis=1)\n",
    "shark_usa5 = shark_usa5[shark_usa5.Time_of_day.notnull()]\n",
    "\n",
    "shark_usa5.Time_of_day.value_counts(dropna=False)"
   ]
  },
  {
   "cell_type": "markdown",
   "metadata": {},
   "source": [
    "#### Use the Date variable to turn the approximate MM/DD/YY date into Month and Season categorical objects"
   ]
  },
  {
   "cell_type": "code",
   "execution_count": 16,
   "metadata": {},
   "outputs": [
    {
     "data": {
      "text/html": [
       "<div>\n",
       "<style>\n",
       "    .dataframe thead tr:only-child th {\n",
       "        text-align: right;\n",
       "    }\n",
       "\n",
       "    .dataframe thead th {\n",
       "        text-align: left;\n",
       "    }\n",
       "\n",
       "    .dataframe tbody tr th {\n",
       "        vertical-align: top;\n",
       "    }\n",
       "</style>\n",
       "<table border=\"1\" class=\"dataframe\">\n",
       "  <thead>\n",
       "    <tr style=\"text-align: right;\">\n",
       "      <th></th>\n",
       "      <th>Date</th>\n",
       "      <th>Type</th>\n",
       "      <th>Area</th>\n",
       "      <th>Sex</th>\n",
       "      <th>Age</th>\n",
       "      <th>Fatal</th>\n",
       "      <th>Shark</th>\n",
       "      <th>Activity_category</th>\n",
       "      <th>Time_of_day</th>\n",
       "      <th>Season</th>\n",
       "    </tr>\n",
       "  </thead>\n",
       "  <tbody>\n",
       "    <tr>\n",
       "      <th>4932</th>\n",
       "      <td>16-Mar-29</td>\n",
       "      <td>Unprovoked</td>\n",
       "      <td>Florida</td>\n",
       "      <td>M</td>\n",
       "      <td>26</td>\n",
       "      <td>N</td>\n",
       "      <td>Unknown</td>\n",
       "      <td>Swimming</td>\n",
       "      <td>Afternoon</td>\n",
       "      <td>Spring</td>\n",
       "    </tr>\n",
       "    <tr>\n",
       "      <th>5107</th>\n",
       "      <td>29-Jun-20</td>\n",
       "      <td>Unprovoked</td>\n",
       "      <td>Florida</td>\n",
       "      <td>M</td>\n",
       "      <td>13</td>\n",
       "      <td>N</td>\n",
       "      <td>Unknown</td>\n",
       "      <td>Swimming</td>\n",
       "      <td>Evening</td>\n",
       "      <td>Summer</td>\n",
       "    </tr>\n",
       "    <tr>\n",
       "      <th>5160</th>\n",
       "      <td>12-Jul-16</td>\n",
       "      <td>Unprovoked</td>\n",
       "      <td>New Jersey</td>\n",
       "      <td>M</td>\n",
       "      <td>10</td>\n",
       "      <td>Y</td>\n",
       "      <td>Unknown</td>\n",
       "      <td>Swimming</td>\n",
       "      <td>Morning</td>\n",
       "      <td>Summer</td>\n",
       "    </tr>\n",
       "    <tr>\n",
       "      <th>5165</th>\n",
       "      <td>01-Jul-16</td>\n",
       "      <td>Unprovoked</td>\n",
       "      <td>New Jersey</td>\n",
       "      <td>M</td>\n",
       "      <td>24</td>\n",
       "      <td>Y</td>\n",
       "      <td>Thought to involve a 2.6 m [8.5'] white shark</td>\n",
       "      <td>Swimming</td>\n",
       "      <td>Evening</td>\n",
       "      <td>Summer</td>\n",
       "    </tr>\n",
       "    <tr>\n",
       "      <th>5341</th>\n",
       "      <td>29-Jul-05</td>\n",
       "      <td>Unprovoked</td>\n",
       "      <td>North Carolina</td>\n",
       "      <td>M</td>\n",
       "      <td>16</td>\n",
       "      <td>Y</td>\n",
       "      <td>Unknown</td>\n",
       "      <td>Swimming</td>\n",
       "      <td>Afternoon</td>\n",
       "      <td>Summer</td>\n",
       "    </tr>\n",
       "    <tr>\n",
       "      <th>5467</th>\n",
       "      <td>25-Jul-1896</td>\n",
       "      <td>Unprovoked</td>\n",
       "      <td>Hawaii</td>\n",
       "      <td>M</td>\n",
       "      <td>35</td>\n",
       "      <td>Y</td>\n",
       "      <td>Unknown</td>\n",
       "      <td>Fishing</td>\n",
       "      <td>Morning</td>\n",
       "      <td>Summer</td>\n",
       "    </tr>\n",
       "    <tr>\n",
       "      <th>5478</th>\n",
       "      <td>11-Aug-1895</td>\n",
       "      <td>Unprovoked</td>\n",
       "      <td>Rhode Island</td>\n",
       "      <td>M</td>\n",
       "      <td>26</td>\n",
       "      <td>Y</td>\n",
       "      <td>Unknown</td>\n",
       "      <td>Swimming</td>\n",
       "      <td>Early Morning</td>\n",
       "      <td>Summer</td>\n",
       "    </tr>\n",
       "    <tr>\n",
       "      <th>5681</th>\n",
       "      <td>08-Aug-1878</td>\n",
       "      <td>Unprovoked</td>\n",
       "      <td>New York</td>\n",
       "      <td>M</td>\n",
       "      <td>14</td>\n",
       "      <td>Y</td>\n",
       "      <td>Unknown</td>\n",
       "      <td>Swimming</td>\n",
       "      <td>Afternoon</td>\n",
       "      <td>Summer</td>\n",
       "    </tr>\n",
       "    <tr>\n",
       "      <th>5763</th>\n",
       "      <td>02-Sep-1865</td>\n",
       "      <td>Unprovoked</td>\n",
       "      <td>New York</td>\n",
       "      <td>M</td>\n",
       "      <td>17</td>\n",
       "      <td>N</td>\n",
       "      <td>Unknown</td>\n",
       "      <td>Swimming</td>\n",
       "      <td>Morning</td>\n",
       "      <td>Fall</td>\n",
       "    </tr>\n",
       "    <tr>\n",
       "      <th>5992</th>\n",
       "      <td>Before 2009</td>\n",
       "      <td>Unprovoked</td>\n",
       "      <td>Florida</td>\n",
       "      <td>F</td>\n",
       "      <td>21</td>\n",
       "      <td>N</td>\n",
       "      <td>Blacktip shark, 5'</td>\n",
       "      <td>Other</td>\n",
       "      <td>Evening</td>\n",
       "      <td>NaN</td>\n",
       "    </tr>\n",
       "  </tbody>\n",
       "</table>\n",
       "</div>"
      ],
      "text/plain": [
       "             Date        Type            Area Sex Age Fatal  \\\n",
       "4932    16-Mar-29  Unprovoked         Florida   M  26     N   \n",
       "5107    29-Jun-20  Unprovoked         Florida   M  13     N   \n",
       "5160    12-Jul-16  Unprovoked      New Jersey   M  10     Y   \n",
       "5165    01-Jul-16  Unprovoked      New Jersey   M  24     Y   \n",
       "5341    29-Jul-05  Unprovoked  North Carolina   M  16     Y   \n",
       "5467  25-Jul-1896  Unprovoked          Hawaii   M  35     Y   \n",
       "5478  11-Aug-1895  Unprovoked    Rhode Island   M  26     Y   \n",
       "5681  08-Aug-1878  Unprovoked        New York   M  14     Y   \n",
       "5763  02-Sep-1865  Unprovoked        New York   M  17     N   \n",
       "5992  Before 2009  Unprovoked         Florida   F  21     N   \n",
       "\n",
       "                                              Shark Activity_category  \\\n",
       "4932                                        Unknown          Swimming   \n",
       "5107                                        Unknown          Swimming   \n",
       "5160                                        Unknown          Swimming   \n",
       "5165  Thought to involve a 2.6 m [8.5'] white shark          Swimming   \n",
       "5341                                        Unknown          Swimming   \n",
       "5467                                        Unknown           Fishing   \n",
       "5478                                        Unknown          Swimming   \n",
       "5681                                        Unknown          Swimming   \n",
       "5763                                        Unknown          Swimming   \n",
       "5992                             Blacktip shark, 5'             Other   \n",
       "\n",
       "        Time_of_day  Season  \n",
       "4932      Afternoon  Spring  \n",
       "5107        Evening  Summer  \n",
       "5160        Morning  Summer  \n",
       "5165        Evening  Summer  \n",
       "5341      Afternoon  Summer  \n",
       "5467        Morning  Summer  \n",
       "5478  Early Morning  Summer  \n",
       "5681      Afternoon  Summer  \n",
       "5763        Morning    Fall  \n",
       "5992        Evening     NaN  "
      ]
     },
     "execution_count": 16,
     "metadata": {},
     "output_type": "execute_result"
    }
   ],
   "source": [
    "shark_usa5.loc[shark_usa5['Date'].str.contains('mar', case=False), 'Season'] = 'Spring'\n",
    "shark_usa5.loc[shark_usa5['Date'].str.contains('apr', case=False), 'Season'] = 'Spring'\n",
    "shark_usa5.loc[shark_usa5['Date'].str.contains('may', case=False), 'Season'] = 'Spring'\n",
    "shark_usa5.loc[shark_usa5['Date'].str.contains('jun', case=False), 'Season'] = 'Summer'\n",
    "shark_usa5.loc[shark_usa5['Date'].str.contains('jul', case=False), 'Season'] = 'Summer'\n",
    "shark_usa5.loc[shark_usa5['Date'].str.contains('aug', case=False), 'Season'] = 'Summer'\n",
    "shark_usa5.loc[shark_usa5['Date'].str.contains('sep', case=False), 'Season'] = 'Fall'\n",
    "shark_usa5.loc[shark_usa5['Date'].str.contains('oct', case=False), 'Season'] = 'Fall'\n",
    "shark_usa5.loc[shark_usa5['Date'].str.contains('nov', case=False), 'Season'] = 'Fall'\n",
    "shark_usa5.loc[shark_usa5['Date'].str.contains('dec', case=False), 'Season'] = 'Winter'\n",
    "shark_usa5.loc[shark_usa5['Date'].str.contains('jan', case=False), 'Season'] = 'Winter'\n",
    "shark_usa5.loc[shark_usa5['Date'].str.contains('feb', case=False), 'Season'] = 'Winter'\n",
    "\n",
    "shark_usa5.tail(10)"
   ]
  },
  {
   "cell_type": "code",
   "execution_count": 17,
   "metadata": {},
   "outputs": [
    {
     "data": {
      "text/plain": [
       "Summer    419\n",
       "Fall      321\n",
       "Spring    219\n",
       "Winter     65\n",
       "Name: Season, dtype: int64"
      ]
     },
     "execution_count": 17,
     "metadata": {},
     "output_type": "execute_result"
    }
   ],
   "source": [
    "shark_usa6 = shark_usa5.drop(['Date'], axis=1)\n",
    "shark_usa6 = shark_usa6[shark_usa6.Season.notnull()]\n",
    "\n",
    "shark_usa6.Season.value_counts(dropna=False)"
   ]
  },
  {
   "cell_type": "markdown",
   "metadata": {},
   "source": [
    "#### Use the Shark variable to turn a free-form text field into a categorical data point called Species"
   ]
  },
  {
   "cell_type": "code",
   "execution_count": 18,
   "metadata": {},
   "outputs": [
    {
     "data": {
      "text/html": [
       "<div>\n",
       "<style>\n",
       "    .dataframe thead tr:only-child th {\n",
       "        text-align: right;\n",
       "    }\n",
       "\n",
       "    .dataframe thead th {\n",
       "        text-align: left;\n",
       "    }\n",
       "\n",
       "    .dataframe tbody tr th {\n",
       "        vertical-align: top;\n",
       "    }\n",
       "</style>\n",
       "<table border=\"1\" class=\"dataframe\">\n",
       "  <thead>\n",
       "    <tr style=\"text-align: right;\">\n",
       "      <th></th>\n",
       "      <th>Type</th>\n",
       "      <th>Area</th>\n",
       "      <th>Sex</th>\n",
       "      <th>Age</th>\n",
       "      <th>Fatal</th>\n",
       "      <th>Shark</th>\n",
       "      <th>Activity_category</th>\n",
       "      <th>Time_of_day</th>\n",
       "      <th>Season</th>\n",
       "      <th>Species</th>\n",
       "    </tr>\n",
       "  </thead>\n",
       "  <tbody>\n",
       "    <tr>\n",
       "      <th>2</th>\n",
       "      <td>Unprovoked</td>\n",
       "      <td>Florida</td>\n",
       "      <td>M</td>\n",
       "      <td>19</td>\n",
       "      <td>N</td>\n",
       "      <td>Unknown</td>\n",
       "      <td>Surfing</td>\n",
       "      <td>Morning</td>\n",
       "      <td>Summer</td>\n",
       "      <td>NaN</td>\n",
       "    </tr>\n",
       "    <tr>\n",
       "      <th>15</th>\n",
       "      <td>Unprovoked</td>\n",
       "      <td>South Carolina</td>\n",
       "      <td>F</td>\n",
       "      <td>33</td>\n",
       "      <td>N</td>\n",
       "      <td>Unknown</td>\n",
       "      <td>Surfing</td>\n",
       "      <td>Morning</td>\n",
       "      <td>Spring</td>\n",
       "      <td>NaN</td>\n",
       "    </tr>\n",
       "    <tr>\n",
       "      <th>23</th>\n",
       "      <td>Unprovoked</td>\n",
       "      <td>Hawaii</td>\n",
       "      <td>M</td>\n",
       "      <td>28</td>\n",
       "      <td>N</td>\n",
       "      <td>Tiger shark, 12'</td>\n",
       "      <td>Surfing</td>\n",
       "      <td>Morning</td>\n",
       "      <td>Spring</td>\n",
       "      <td>Tiger Shark</td>\n",
       "    </tr>\n",
       "    <tr>\n",
       "      <th>24</th>\n",
       "      <td>Unprovoked</td>\n",
       "      <td>Florida</td>\n",
       "      <td>M</td>\n",
       "      <td>17</td>\n",
       "      <td>N</td>\n",
       "      <td>Unknown</td>\n",
       "      <td>Surfing</td>\n",
       "      <td>Afternoon</td>\n",
       "      <td>Spring</td>\n",
       "      <td>NaN</td>\n",
       "    </tr>\n",
       "    <tr>\n",
       "      <th>27</th>\n",
       "      <td>Unprovoked</td>\n",
       "      <td>Florida</td>\n",
       "      <td>F</td>\n",
       "      <td>35</td>\n",
       "      <td>N</td>\n",
       "      <td>Unknown</td>\n",
       "      <td>Surfing</td>\n",
       "      <td>Evening</td>\n",
       "      <td>Spring</td>\n",
       "      <td>NaN</td>\n",
       "    </tr>\n",
       "  </tbody>\n",
       "</table>\n",
       "</div>"
      ],
      "text/plain": [
       "          Type            Area Sex Age Fatal             Shark  \\\n",
       "2   Unprovoked         Florida   M  19     N           Unknown   \n",
       "15  Unprovoked  South Carolina   F  33     N           Unknown   \n",
       "23  Unprovoked          Hawaii   M  28     N  Tiger shark, 12'   \n",
       "24  Unprovoked         Florida   M  17     N           Unknown   \n",
       "27  Unprovoked         Florida   F  35     N           Unknown   \n",
       "\n",
       "   Activity_category Time_of_day  Season      Species  \n",
       "2            Surfing     Morning  Summer          NaN  \n",
       "15           Surfing     Morning  Spring          NaN  \n",
       "23           Surfing     Morning  Spring  Tiger Shark  \n",
       "24           Surfing   Afternoon  Spring          NaN  \n",
       "27           Surfing     Evening  Spring          NaN  "
      ]
     },
     "execution_count": 18,
     "metadata": {},
     "output_type": "execute_result"
    }
   ],
   "source": [
    "shark_usa6.loc[shark_usa6['Shark'].str.contains('tiger', case=False), 'Species'] = 'Tiger Shark'\n",
    "shark_usa6.loc[shark_usa6['Shark'].str.contains('bull', case=False), 'Species'] = 'Bull Shark'\n",
    "shark_usa6.loc[shark_usa6['Shark'].str.contains('white', case=False), 'Species'] = 'White Shark'\n",
    "shark_usa6.loc[shark_usa6['Shark'].str.contains('nurse', case=False), 'Species'] = 'Nurse Shark'\n",
    "shark_usa6.loc[shark_usa6['Shark'].str.contains('sand', case=False), 'Species'] = 'Sand Shark'\n",
    "shark_usa6.loc[shark_usa6['Shark'].str.contains('spinner', case=False), 'Species'] = 'Spinner Shark'\n",
    "shark_usa6.loc[shark_usa6['Shark'].str.contains('black', case=False), 'Species'] = 'Blacktip Shark'\n",
    "shark_usa6.loc[shark_usa6['Shark'].str.contains('angel', case=False), 'Species'] = 'Angel Shark'\n",
    "shark_usa6.loc[shark_usa6['Shark'].str.contains('hammer', case=False), 'Species'] = 'Hammerhead Shark'\n",
    "shark_usa6.loc[shark_usa6['Shark'].str.contains('lemon', case=False), 'Species'] = 'Lemon Shark'\n",
    "shark_usa6.loc[shark_usa6['Shark'].str.contains('mako', case=False), 'Species'] = 'Mako Shark'\n",
    "shark_usa6.loc[shark_usa6['Shark'].str.contains('blue', case=False), 'Species'] = 'Blue Shark'\n",
    "shark_usa6.loc[shark_usa6['Shark'].str.contains('reef', case=False), 'Species'] = 'Reef Shark'\n",
    "\n",
    "shark_usa6.head()"
   ]
  },
  {
   "cell_type": "code",
   "execution_count": 19,
   "metadata": {},
   "outputs": [
    {
     "data": {
      "text/plain": [
       "Unknown             660\n",
       "White Shark         124\n",
       "Tiger Shark          67\n",
       "Blacktip Shark       49\n",
       "Bull Shark           41\n",
       "Sand Shark           17\n",
       "Hammerhead Shark     16\n",
       "Nurse Shark          13\n",
       "Spinner Shark        13\n",
       "Lemon Shark           7\n",
       "Mako Shark            7\n",
       "Reef Shark            5\n",
       "Blue Shark            4\n",
       "Angel Shark           1\n",
       "Name: Species, dtype: int64"
      ]
     },
     "execution_count": 19,
     "metadata": {},
     "output_type": "execute_result"
    }
   ],
   "source": [
    "shark_usa7 = shark_usa6.drop(['Shark'], axis=1)\n",
    "shark_usa7.Species.fillna(value='Unknown', inplace=True)\n",
    "\n",
    "shark_usa7.Species.value_counts()"
   ]
  },
  {
   "cell_type": "markdown",
   "metadata": {},
   "source": [
    "#### Clean Area variable to only US states"
   ]
  },
  {
   "cell_type": "code",
   "execution_count": 20,
   "metadata": {},
   "outputs": [
    {
     "data": {
      "text/plain": [
       "Florida            579\n",
       "California         132\n",
       "Hawaii             113\n",
       "South Carolina      52\n",
       "North Carolina      48\n",
       "Texas               28\n",
       "Oregon              18\n",
       "New Jersey          10\n",
       "Alabama              6\n",
       "Virginia             5\n",
       "Georgia              5\n",
       "Massachusetts        5\n",
       "New York             5\n",
       "Louisiana            3\n",
       "Delaware             2\n",
       "Johnston Atoll       1\n",
       "Connecticut          1\n",
       "Rhode Island         1\n",
       "Maryland             1\n",
       "Palmyra Atoll        1\n",
       "South Carolina       1\n",
       "Maine                1\n",
       "Name: Area, dtype: int64"
      ]
     },
     "execution_count": 20,
     "metadata": {},
     "output_type": "execute_result"
    }
   ],
   "source": [
    "shark_usa8 = shark_usa7[(shark_usa7.Area != 'Guam') & \n",
    "                        (shark_usa7.Area != 'Puerto Rico') & \n",
    "                        (shark_usa7.Area != 'US Virgin Islands') &\n",
    "                       (shark_usa7.Area != 'New Mexico')]\n",
    "\n",
    "shark_usa8.Area.value_counts()"
   ]
  },
  {
   "cell_type": "markdown",
   "metadata": {},
   "source": [
    "#### Clean Sex variable"
   ]
  },
  {
   "cell_type": "code",
   "execution_count": 21,
   "metadata": {},
   "outputs": [
    {
     "data": {
      "text/plain": [
       "M      822\n",
       "F      194\n",
       "lli      1\n",
       "M        1\n",
       "Name: Sex, dtype: int64"
      ]
     },
     "execution_count": 21,
     "metadata": {},
     "output_type": "execute_result"
    }
   ],
   "source": [
    "shark_usa8.Sex.value_counts()"
   ]
  },
  {
   "cell_type": "code",
   "execution_count": 22,
   "metadata": {},
   "outputs": [
    {
     "data": {
      "text/plain": [
       "M    822\n",
       "F    194\n",
       "Name: Sex, dtype: int64"
      ]
     },
     "execution_count": 22,
     "metadata": {},
     "output_type": "execute_result"
    }
   ],
   "source": [
    "shark_usa9 = shark_usa8[  (shark_usa8.Sex == 'M')|\n",
    "                          (shark_usa8.Sex == 'F')]\n",
    "\n",
    "shark_usa9['Sex'].value_counts()"
   ]
  },
  {
   "cell_type": "markdown",
   "metadata": {},
   "source": [
    "#### Clean Age variable, converting to to int and removing any string values"
   ]
  },
  {
   "cell_type": "code",
   "execution_count": 23,
   "metadata": {
    "scrolled": true
   },
   "outputs": [
    {
     "data": {
      "text/plain": [
       "65          1\n",
       "70          1\n",
       "86          1\n",
       "6�          1\n",
       "73          1\n",
       "Teen        1\n",
       "21 or 26    1\n",
       "75          1\n",
       "12 or 13    1\n",
       "�           1\n",
       "Name: Age, dtype: int64"
      ]
     },
     "execution_count": 23,
     "metadata": {},
     "output_type": "execute_result"
    }
   ],
   "source": [
    "shark_usa9.Age.value_counts().tail(10)"
   ]
  },
  {
   "cell_type": "code",
   "execution_count": 24,
   "metadata": {},
   "outputs": [
    {
     "data": {
      "text/plain": [
       "60.0    3\n",
       "66.0    2\n",
       "71.0    2\n",
       "62.0    2\n",
       "86.0    1\n",
       "70.0    1\n",
       "64.0    1\n",
       "65.0    1\n",
       "73.0    1\n",
       "75.0    1\n",
       "Name: Age, dtype: int64"
      ]
     },
     "execution_count": 24,
     "metadata": {},
     "output_type": "execute_result"
    }
   ],
   "source": [
    "shark_usa9['Age'] = pd.to_numeric(shark_usa9['Age'], \n",
    "                                  errors='coerce')\n",
    "\n",
    "shark_usa9 = shark_usa9[shark_usa9.Age.notnull()]\n",
    "\n",
    "shark_usa9.Age.value_counts().tail(10)"
   ]
  },
  {
   "cell_type": "markdown",
   "metadata": {},
   "source": [
    "#### Create new Ocean variable based on Area (state)"
   ]
  },
  {
   "cell_type": "code",
   "execution_count": 25,
   "metadata": {},
   "outputs": [
    {
     "data": {
      "text/html": [
       "<div>\n",
       "<style>\n",
       "    .dataframe thead tr:only-child th {\n",
       "        text-align: right;\n",
       "    }\n",
       "\n",
       "    .dataframe thead th {\n",
       "        text-align: left;\n",
       "    }\n",
       "\n",
       "    .dataframe tbody tr th {\n",
       "        vertical-align: top;\n",
       "    }\n",
       "</style>\n",
       "<table border=\"1\" class=\"dataframe\">\n",
       "  <thead>\n",
       "    <tr style=\"text-align: right;\">\n",
       "      <th></th>\n",
       "      <th>Type</th>\n",
       "      <th>Area</th>\n",
       "      <th>Sex</th>\n",
       "      <th>Age</th>\n",
       "      <th>Fatal</th>\n",
       "      <th>Activity_category</th>\n",
       "      <th>Time_of_day</th>\n",
       "      <th>Season</th>\n",
       "      <th>Species</th>\n",
       "      <th>Ocean</th>\n",
       "    </tr>\n",
       "  </thead>\n",
       "  <tbody>\n",
       "    <tr>\n",
       "      <th>2</th>\n",
       "      <td>Unprovoked</td>\n",
       "      <td>Florida</td>\n",
       "      <td>M</td>\n",
       "      <td>19.0</td>\n",
       "      <td>N</td>\n",
       "      <td>Surfing</td>\n",
       "      <td>Morning</td>\n",
       "      <td>Summer</td>\n",
       "      <td>Unknown</td>\n",
       "      <td>Gulf of Mexico</td>\n",
       "    </tr>\n",
       "    <tr>\n",
       "      <th>15</th>\n",
       "      <td>Unprovoked</td>\n",
       "      <td>South Carolina</td>\n",
       "      <td>F</td>\n",
       "      <td>33.0</td>\n",
       "      <td>N</td>\n",
       "      <td>Surfing</td>\n",
       "      <td>Morning</td>\n",
       "      <td>Spring</td>\n",
       "      <td>Unknown</td>\n",
       "      <td>Atlantic</td>\n",
       "    </tr>\n",
       "    <tr>\n",
       "      <th>23</th>\n",
       "      <td>Unprovoked</td>\n",
       "      <td>Hawaii</td>\n",
       "      <td>M</td>\n",
       "      <td>28.0</td>\n",
       "      <td>N</td>\n",
       "      <td>Surfing</td>\n",
       "      <td>Morning</td>\n",
       "      <td>Spring</td>\n",
       "      <td>Tiger Shark</td>\n",
       "      <td>Pacific</td>\n",
       "    </tr>\n",
       "    <tr>\n",
       "      <th>24</th>\n",
       "      <td>Unprovoked</td>\n",
       "      <td>Florida</td>\n",
       "      <td>M</td>\n",
       "      <td>17.0</td>\n",
       "      <td>N</td>\n",
       "      <td>Surfing</td>\n",
       "      <td>Afternoon</td>\n",
       "      <td>Spring</td>\n",
       "      <td>Unknown</td>\n",
       "      <td>Gulf of Mexico</td>\n",
       "    </tr>\n",
       "    <tr>\n",
       "      <th>27</th>\n",
       "      <td>Unprovoked</td>\n",
       "      <td>Florida</td>\n",
       "      <td>F</td>\n",
       "      <td>35.0</td>\n",
       "      <td>N</td>\n",
       "      <td>Surfing</td>\n",
       "      <td>Evening</td>\n",
       "      <td>Spring</td>\n",
       "      <td>Unknown</td>\n",
       "      <td>Gulf of Mexico</td>\n",
       "    </tr>\n",
       "  </tbody>\n",
       "</table>\n",
       "</div>"
      ],
      "text/plain": [
       "          Type            Area Sex   Age Fatal Activity_category Time_of_day  \\\n",
       "2   Unprovoked         Florida   M  19.0     N           Surfing     Morning   \n",
       "15  Unprovoked  South Carolina   F  33.0     N           Surfing     Morning   \n",
       "23  Unprovoked          Hawaii   M  28.0     N           Surfing     Morning   \n",
       "24  Unprovoked         Florida   M  17.0     N           Surfing   Afternoon   \n",
       "27  Unprovoked         Florida   F  35.0     N           Surfing     Evening   \n",
       "\n",
       "    Season      Species           Ocean  \n",
       "2   Summer      Unknown  Gulf of Mexico  \n",
       "15  Spring      Unknown        Atlantic  \n",
       "23  Spring  Tiger Shark         Pacific  \n",
       "24  Spring      Unknown  Gulf of Mexico  \n",
       "27  Spring      Unknown  Gulf of Mexico  "
      ]
     },
     "execution_count": 25,
     "metadata": {},
     "output_type": "execute_result"
    }
   ],
   "source": [
    "shark_usa9.loc[shark_usa9['Area'].str.contains('California', case=False), 'Ocean'] = 'Pacific'\n",
    "shark_usa9.loc[shark_usa9['Area'].str.contains('Oregon', case=False), 'Ocean'] = 'Pacific'\n",
    "shark_usa9.loc[shark_usa9['Area'].str.contains('Washington', case=False), 'Ocean'] = 'Pacific'\n",
    "shark_usa9.loc[shark_usa9['Area'].str.contains('Hawaii', case=False), 'Ocean'] = 'Pacific'\n",
    "\n",
    "shark_usa9.loc[shark_usa9['Area'].str.contains('Florida', case=False), 'Ocean'] = 'Gulf of Mexico'\n",
    "shark_usa9.loc[shark_usa9['Area'].str.contains('Texas', case=False), 'Ocean'] = 'Gulf of Mexico'\n",
    "shark_usa9.loc[shark_usa9['Area'].str.contains('Alabama', case=False), 'Ocean'] = 'Gulf of Mexico'\n",
    "shark_usa9.loc[shark_usa9['Area'].str.contains('Louisiana', case=False), 'Ocean'] = 'Gulf of Mexico'\n",
    "\n",
    "shark_usa9.loc[shark_usa9['Area'].str.contains('South Carolina', case=False), 'Ocean'] = 'Atlantic'\n",
    "shark_usa9.loc[shark_usa9['Area'].str.contains('North Carolina', case=False), 'Ocean'] = 'Atlantic'\n",
    "shark_usa9.loc[shark_usa9['Area'].str.contains('New Jersey', case=False), 'Ocean'] = 'Atlantic'\n",
    "shark_usa9.loc[shark_usa9['Area'].str.contains('Massachusetts', case=False), 'Ocean'] = 'Atlantic'\n",
    "shark_usa9.loc[shark_usa9['Area'].str.contains('Virginia', case=False), 'Ocean'] = 'Atlantic'\n",
    "shark_usa9.loc[shark_usa9['Area'].str.contains('Georgia', case=False), 'Ocean'] = 'Atlantic'\n",
    "shark_usa9.loc[shark_usa9['Area'].str.contains('New York', case=False), 'Ocean'] = 'Atlantic'\n",
    "shark_usa9.loc[shark_usa9['Area'].str.contains('Delaware', case=False), 'Ocean'] = 'Atlantic'\n",
    "shark_usa9.loc[shark_usa9['Area'].str.contains('Rhode Island', case=False), 'Ocean'] = 'Atlantic'\n",
    "shark_usa9.loc[shark_usa9['Area'].str.contains('Maryland', case=False), 'Ocean'] = 'Atlantic'\n",
    "shark_usa9.loc[shark_usa9['Area'].str.contains('Maine', case=False), 'Ocean'] = 'Atlantic'\n",
    "\n",
    "shark_usa9.head()\n"
   ]
  },
  {
   "cell_type": "code",
   "execution_count": 26,
   "metadata": {},
   "outputs": [
    {
     "data": {
      "text/plain": [
       "Gulf of Mexico    604\n",
       "Pacific           262\n",
       "Atlantic          134\n",
       "Name: Ocean, dtype: int64"
      ]
     },
     "execution_count": 26,
     "metadata": {},
     "output_type": "execute_result"
    }
   ],
   "source": [
    "shark_usa10 = shark_usa9[shark_usa9.Ocean.notnull()]\n",
    "\n",
    "shark_usa10.Ocean.value_counts(dropna=False)\n"
   ]
  },
  {
   "cell_type": "markdown",
   "metadata": {},
   "source": [
    "#### View of Clean Data"
   ]
  },
  {
   "cell_type": "code",
   "execution_count": 27,
   "metadata": {},
   "outputs": [
    {
     "data": {
      "text/html": [
       "<div>\n",
       "<style>\n",
       "    .dataframe thead tr:only-child th {\n",
       "        text-align: right;\n",
       "    }\n",
       "\n",
       "    .dataframe thead th {\n",
       "        text-align: left;\n",
       "    }\n",
       "\n",
       "    .dataframe tbody tr th {\n",
       "        vertical-align: top;\n",
       "    }\n",
       "</style>\n",
       "<table border=\"1\" class=\"dataframe\">\n",
       "  <thead>\n",
       "    <tr style=\"text-align: right;\">\n",
       "      <th></th>\n",
       "      <th>Type</th>\n",
       "      <th>Area</th>\n",
       "      <th>Sex</th>\n",
       "      <th>Age</th>\n",
       "      <th>Fatal</th>\n",
       "      <th>Activity_category</th>\n",
       "      <th>Time_of_day</th>\n",
       "      <th>Season</th>\n",
       "      <th>Species</th>\n",
       "      <th>Ocean</th>\n",
       "    </tr>\n",
       "  </thead>\n",
       "  <tbody>\n",
       "    <tr>\n",
       "      <th>4106</th>\n",
       "      <td>Unprovoked</td>\n",
       "      <td>Florida</td>\n",
       "      <td>F</td>\n",
       "      <td>38.0</td>\n",
       "      <td>N</td>\n",
       "      <td>Swimming</td>\n",
       "      <td>Evening</td>\n",
       "      <td>Summer</td>\n",
       "      <td>Unknown</td>\n",
       "      <td>Gulf of Mexico</td>\n",
       "    </tr>\n",
       "    <tr>\n",
       "      <th>4107</th>\n",
       "      <td>Unprovoked</td>\n",
       "      <td>South Carolina</td>\n",
       "      <td>M</td>\n",
       "      <td>7.0</td>\n",
       "      <td>N</td>\n",
       "      <td>Swimming</td>\n",
       "      <td>Afternoon</td>\n",
       "      <td>Summer</td>\n",
       "      <td>Unknown</td>\n",
       "      <td>Atlantic</td>\n",
       "    </tr>\n",
       "    <tr>\n",
       "      <th>4161</th>\n",
       "      <td>Unprovoked</td>\n",
       "      <td>California</td>\n",
       "      <td>M</td>\n",
       "      <td>19.0</td>\n",
       "      <td>N</td>\n",
       "      <td>Fishing</td>\n",
       "      <td>Afternoon</td>\n",
       "      <td>Winter</td>\n",
       "      <td>White Shark</td>\n",
       "      <td>Pacific</td>\n",
       "    </tr>\n",
       "    <tr>\n",
       "      <th>4228</th>\n",
       "      <td>Unprovoked</td>\n",
       "      <td>Hawaii</td>\n",
       "      <td>M</td>\n",
       "      <td>15.0</td>\n",
       "      <td>Y</td>\n",
       "      <td>Fishing</td>\n",
       "      <td>Morning</td>\n",
       "      <td>Summer</td>\n",
       "      <td>Unknown</td>\n",
       "      <td>Pacific</td>\n",
       "    </tr>\n",
       "    <tr>\n",
       "      <th>4237</th>\n",
       "      <td>Unprovoked</td>\n",
       "      <td>Texas</td>\n",
       "      <td>F</td>\n",
       "      <td>19.0</td>\n",
       "      <td>N</td>\n",
       "      <td>Swimming</td>\n",
       "      <td>Afternoon</td>\n",
       "      <td>Spring</td>\n",
       "      <td>Unknown</td>\n",
       "      <td>Gulf of Mexico</td>\n",
       "    </tr>\n",
       "    <tr>\n",
       "      <th>4257</th>\n",
       "      <td>Unprovoked</td>\n",
       "      <td>California</td>\n",
       "      <td>M</td>\n",
       "      <td>17.0</td>\n",
       "      <td>Y</td>\n",
       "      <td>Boarding</td>\n",
       "      <td>Afternoon</td>\n",
       "      <td>Winter</td>\n",
       "      <td>White Shark</td>\n",
       "      <td>Pacific</td>\n",
       "    </tr>\n",
       "    <tr>\n",
       "      <th>4319</th>\n",
       "      <td>Unprovoked</td>\n",
       "      <td>California</td>\n",
       "      <td>M</td>\n",
       "      <td>31.0</td>\n",
       "      <td>N</td>\n",
       "      <td>Boarding</td>\n",
       "      <td>Afternoon</td>\n",
       "      <td>Fall</td>\n",
       "      <td>White Shark</td>\n",
       "      <td>Pacific</td>\n",
       "    </tr>\n",
       "    <tr>\n",
       "      <th>4331</th>\n",
       "      <td>Unprovoked</td>\n",
       "      <td>Florida</td>\n",
       "      <td>M</td>\n",
       "      <td>25.0</td>\n",
       "      <td>Y</td>\n",
       "      <td>Other</td>\n",
       "      <td>Morning</td>\n",
       "      <td>Summer</td>\n",
       "      <td>Unknown</td>\n",
       "      <td>Gulf of Mexico</td>\n",
       "    </tr>\n",
       "    <tr>\n",
       "      <th>4367</th>\n",
       "      <td>Unprovoked</td>\n",
       "      <td>South Carolina</td>\n",
       "      <td>M</td>\n",
       "      <td>16.0</td>\n",
       "      <td>N</td>\n",
       "      <td>Swimming</td>\n",
       "      <td>Afternoon</td>\n",
       "      <td>Summer</td>\n",
       "      <td>Unknown</td>\n",
       "      <td>Atlantic</td>\n",
       "    </tr>\n",
       "    <tr>\n",
       "      <th>4428</th>\n",
       "      <td>Unprovoked</td>\n",
       "      <td>Florida</td>\n",
       "      <td>M</td>\n",
       "      <td>20.0</td>\n",
       "      <td>Y</td>\n",
       "      <td>Swimming</td>\n",
       "      <td>Morning</td>\n",
       "      <td>Summer</td>\n",
       "      <td>Unknown</td>\n",
       "      <td>Gulf of Mexico</td>\n",
       "    </tr>\n",
       "    <tr>\n",
       "      <th>4433</th>\n",
       "      <td>Unprovoked</td>\n",
       "      <td>Hawaii</td>\n",
       "      <td>M</td>\n",
       "      <td>35.0</td>\n",
       "      <td>N</td>\n",
       "      <td>Fishing</td>\n",
       "      <td>Morning</td>\n",
       "      <td>Summer</td>\n",
       "      <td>Unknown</td>\n",
       "      <td>Pacific</td>\n",
       "    </tr>\n",
       "    <tr>\n",
       "      <th>4601</th>\n",
       "      <td>Provoked</td>\n",
       "      <td>New York</td>\n",
       "      <td>M</td>\n",
       "      <td>43.0</td>\n",
       "      <td>N</td>\n",
       "      <td>Boating</td>\n",
       "      <td>Afternoon</td>\n",
       "      <td>Summer</td>\n",
       "      <td>Unknown</td>\n",
       "      <td>Atlantic</td>\n",
       "    </tr>\n",
       "    <tr>\n",
       "      <th>4604</th>\n",
       "      <td>Provoked</td>\n",
       "      <td>California</td>\n",
       "      <td>M</td>\n",
       "      <td>53.0</td>\n",
       "      <td>N</td>\n",
       "      <td>Fishing</td>\n",
       "      <td>Night</td>\n",
       "      <td>Spring</td>\n",
       "      <td>Mako Shark</td>\n",
       "      <td>Pacific</td>\n",
       "    </tr>\n",
       "    <tr>\n",
       "      <th>4706</th>\n",
       "      <td>Unprovoked</td>\n",
       "      <td>Texas</td>\n",
       "      <td>M</td>\n",
       "      <td>14.0</td>\n",
       "      <td>Y</td>\n",
       "      <td>Swimming</td>\n",
       "      <td>Night</td>\n",
       "      <td>Summer</td>\n",
       "      <td>Unknown</td>\n",
       "      <td>Gulf of Mexico</td>\n",
       "    </tr>\n",
       "    <tr>\n",
       "      <th>4730</th>\n",
       "      <td>Unprovoked</td>\n",
       "      <td>Massachusetts</td>\n",
       "      <td>M</td>\n",
       "      <td>16.0</td>\n",
       "      <td>Y</td>\n",
       "      <td>Swimming</td>\n",
       "      <td>Afternoon</td>\n",
       "      <td>Summer</td>\n",
       "      <td>White Shark</td>\n",
       "      <td>Atlantic</td>\n",
       "    </tr>\n",
       "    <tr>\n",
       "      <th>4751</th>\n",
       "      <td>Unprovoked</td>\n",
       "      <td>North Carolina</td>\n",
       "      <td>M</td>\n",
       "      <td>38.0</td>\n",
       "      <td>Y</td>\n",
       "      <td>Swimming</td>\n",
       "      <td>Night</td>\n",
       "      <td>Fall</td>\n",
       "      <td>Unknown</td>\n",
       "      <td>Atlantic</td>\n",
       "    </tr>\n",
       "    <tr>\n",
       "      <th>4932</th>\n",
       "      <td>Unprovoked</td>\n",
       "      <td>Florida</td>\n",
       "      <td>M</td>\n",
       "      <td>26.0</td>\n",
       "      <td>N</td>\n",
       "      <td>Swimming</td>\n",
       "      <td>Afternoon</td>\n",
       "      <td>Spring</td>\n",
       "      <td>Unknown</td>\n",
       "      <td>Gulf of Mexico</td>\n",
       "    </tr>\n",
       "    <tr>\n",
       "      <th>5107</th>\n",
       "      <td>Unprovoked</td>\n",
       "      <td>Florida</td>\n",
       "      <td>M</td>\n",
       "      <td>13.0</td>\n",
       "      <td>N</td>\n",
       "      <td>Swimming</td>\n",
       "      <td>Evening</td>\n",
       "      <td>Summer</td>\n",
       "      <td>Unknown</td>\n",
       "      <td>Gulf of Mexico</td>\n",
       "    </tr>\n",
       "    <tr>\n",
       "      <th>5160</th>\n",
       "      <td>Unprovoked</td>\n",
       "      <td>New Jersey</td>\n",
       "      <td>M</td>\n",
       "      <td>10.0</td>\n",
       "      <td>Y</td>\n",
       "      <td>Swimming</td>\n",
       "      <td>Morning</td>\n",
       "      <td>Summer</td>\n",
       "      <td>Unknown</td>\n",
       "      <td>Atlantic</td>\n",
       "    </tr>\n",
       "    <tr>\n",
       "      <th>5165</th>\n",
       "      <td>Unprovoked</td>\n",
       "      <td>New Jersey</td>\n",
       "      <td>M</td>\n",
       "      <td>24.0</td>\n",
       "      <td>Y</td>\n",
       "      <td>Swimming</td>\n",
       "      <td>Evening</td>\n",
       "      <td>Summer</td>\n",
       "      <td>White Shark</td>\n",
       "      <td>Atlantic</td>\n",
       "    </tr>\n",
       "    <tr>\n",
       "      <th>5341</th>\n",
       "      <td>Unprovoked</td>\n",
       "      <td>North Carolina</td>\n",
       "      <td>M</td>\n",
       "      <td>16.0</td>\n",
       "      <td>Y</td>\n",
       "      <td>Swimming</td>\n",
       "      <td>Afternoon</td>\n",
       "      <td>Summer</td>\n",
       "      <td>Unknown</td>\n",
       "      <td>Atlantic</td>\n",
       "    </tr>\n",
       "    <tr>\n",
       "      <th>5467</th>\n",
       "      <td>Unprovoked</td>\n",
       "      <td>Hawaii</td>\n",
       "      <td>M</td>\n",
       "      <td>35.0</td>\n",
       "      <td>Y</td>\n",
       "      <td>Fishing</td>\n",
       "      <td>Morning</td>\n",
       "      <td>Summer</td>\n",
       "      <td>Unknown</td>\n",
       "      <td>Pacific</td>\n",
       "    </tr>\n",
       "    <tr>\n",
       "      <th>5478</th>\n",
       "      <td>Unprovoked</td>\n",
       "      <td>Rhode Island</td>\n",
       "      <td>M</td>\n",
       "      <td>26.0</td>\n",
       "      <td>Y</td>\n",
       "      <td>Swimming</td>\n",
       "      <td>Early Morning</td>\n",
       "      <td>Summer</td>\n",
       "      <td>Unknown</td>\n",
       "      <td>Atlantic</td>\n",
       "    </tr>\n",
       "    <tr>\n",
       "      <th>5681</th>\n",
       "      <td>Unprovoked</td>\n",
       "      <td>New York</td>\n",
       "      <td>M</td>\n",
       "      <td>14.0</td>\n",
       "      <td>Y</td>\n",
       "      <td>Swimming</td>\n",
       "      <td>Afternoon</td>\n",
       "      <td>Summer</td>\n",
       "      <td>Unknown</td>\n",
       "      <td>Atlantic</td>\n",
       "    </tr>\n",
       "    <tr>\n",
       "      <th>5763</th>\n",
       "      <td>Unprovoked</td>\n",
       "      <td>New York</td>\n",
       "      <td>M</td>\n",
       "      <td>17.0</td>\n",
       "      <td>N</td>\n",
       "      <td>Swimming</td>\n",
       "      <td>Morning</td>\n",
       "      <td>Fall</td>\n",
       "      <td>Unknown</td>\n",
       "      <td>Atlantic</td>\n",
       "    </tr>\n",
       "  </tbody>\n",
       "</table>\n",
       "</div>"
      ],
      "text/plain": [
       "            Type            Area Sex   Age Fatal Activity_category  \\\n",
       "4106  Unprovoked         Florida   F  38.0     N          Swimming   \n",
       "4107  Unprovoked  South Carolina   M   7.0     N          Swimming   \n",
       "4161  Unprovoked      California   M  19.0     N           Fishing   \n",
       "4228  Unprovoked          Hawaii   M  15.0     Y           Fishing   \n",
       "4237  Unprovoked           Texas   F  19.0     N          Swimming   \n",
       "4257  Unprovoked      California   M  17.0     Y          Boarding   \n",
       "4319  Unprovoked      California   M  31.0     N          Boarding   \n",
       "4331  Unprovoked         Florida   M  25.0     Y             Other   \n",
       "4367  Unprovoked  South Carolina   M  16.0     N          Swimming   \n",
       "4428  Unprovoked         Florida   M  20.0     Y          Swimming   \n",
       "4433  Unprovoked          Hawaii   M  35.0     N           Fishing   \n",
       "4601    Provoked        New York   M  43.0     N           Boating   \n",
       "4604    Provoked      California   M  53.0     N           Fishing   \n",
       "4706  Unprovoked           Texas   M  14.0     Y          Swimming   \n",
       "4730  Unprovoked   Massachusetts   M  16.0     Y          Swimming   \n",
       "4751  Unprovoked  North Carolina   M  38.0     Y          Swimming   \n",
       "4932  Unprovoked         Florida   M  26.0     N          Swimming   \n",
       "5107  Unprovoked         Florida   M  13.0     N          Swimming   \n",
       "5160  Unprovoked      New Jersey   M  10.0     Y          Swimming   \n",
       "5165  Unprovoked      New Jersey   M  24.0     Y          Swimming   \n",
       "5341  Unprovoked  North Carolina   M  16.0     Y          Swimming   \n",
       "5467  Unprovoked          Hawaii   M  35.0     Y           Fishing   \n",
       "5478  Unprovoked    Rhode Island   M  26.0     Y          Swimming   \n",
       "5681  Unprovoked        New York   M  14.0     Y          Swimming   \n",
       "5763  Unprovoked        New York   M  17.0     N          Swimming   \n",
       "\n",
       "        Time_of_day  Season      Species           Ocean  \n",
       "4106        Evening  Summer      Unknown  Gulf of Mexico  \n",
       "4107      Afternoon  Summer      Unknown        Atlantic  \n",
       "4161      Afternoon  Winter  White Shark         Pacific  \n",
       "4228        Morning  Summer      Unknown         Pacific  \n",
       "4237      Afternoon  Spring      Unknown  Gulf of Mexico  \n",
       "4257      Afternoon  Winter  White Shark         Pacific  \n",
       "4319      Afternoon    Fall  White Shark         Pacific  \n",
       "4331        Morning  Summer      Unknown  Gulf of Mexico  \n",
       "4367      Afternoon  Summer      Unknown        Atlantic  \n",
       "4428        Morning  Summer      Unknown  Gulf of Mexico  \n",
       "4433        Morning  Summer      Unknown         Pacific  \n",
       "4601      Afternoon  Summer      Unknown        Atlantic  \n",
       "4604          Night  Spring   Mako Shark         Pacific  \n",
       "4706          Night  Summer      Unknown  Gulf of Mexico  \n",
       "4730      Afternoon  Summer  White Shark        Atlantic  \n",
       "4751          Night    Fall      Unknown        Atlantic  \n",
       "4932      Afternoon  Spring      Unknown  Gulf of Mexico  \n",
       "5107        Evening  Summer      Unknown  Gulf of Mexico  \n",
       "5160        Morning  Summer      Unknown        Atlantic  \n",
       "5165        Evening  Summer  White Shark        Atlantic  \n",
       "5341      Afternoon  Summer      Unknown        Atlantic  \n",
       "5467        Morning  Summer      Unknown         Pacific  \n",
       "5478  Early Morning  Summer      Unknown        Atlantic  \n",
       "5681      Afternoon  Summer      Unknown        Atlantic  \n",
       "5763        Morning    Fall      Unknown        Atlantic  "
      ]
     },
     "execution_count": 27,
     "metadata": {},
     "output_type": "execute_result"
    }
   ],
   "source": [
    "shark = shark_usa10\n",
    "shark.tail(25)"
   ]
  },
  {
   "cell_type": "markdown",
   "metadata": {},
   "source": [
    "#### Factorize categorical data columns (all except Age)"
   ]
  },
  {
   "cell_type": "code",
   "execution_count": 28,
   "metadata": {},
   "outputs": [
    {
     "data": {
      "text/html": [
       "<div>\n",
       "<style>\n",
       "    .dataframe thead tr:only-child th {\n",
       "        text-align: right;\n",
       "    }\n",
       "\n",
       "    .dataframe thead th {\n",
       "        text-align: left;\n",
       "    }\n",
       "\n",
       "    .dataframe tbody tr th {\n",
       "        vertical-align: top;\n",
       "    }\n",
       "</style>\n",
       "<table border=\"1\" class=\"dataframe\">\n",
       "  <thead>\n",
       "    <tr style=\"text-align: right;\">\n",
       "      <th></th>\n",
       "      <th>Type</th>\n",
       "      <th>Area</th>\n",
       "      <th>Sex</th>\n",
       "      <th>Age</th>\n",
       "      <th>Fatal</th>\n",
       "      <th>Activity_category</th>\n",
       "      <th>Time_of_day</th>\n",
       "      <th>Season</th>\n",
       "      <th>Species</th>\n",
       "      <th>Ocean</th>\n",
       "      <th>Fatal_num</th>\n",
       "      <th>Type_num</th>\n",
       "      <th>Sex_num</th>\n",
       "      <th>Activity_category_num</th>\n",
       "      <th>Time_of_day_num</th>\n",
       "      <th>Season_num</th>\n",
       "      <th>Species_num</th>\n",
       "      <th>Ocean_num</th>\n",
       "      <th>Area_num</th>\n",
       "    </tr>\n",
       "  </thead>\n",
       "  <tbody>\n",
       "    <tr>\n",
       "      <th>2</th>\n",
       "      <td>Unprovoked</td>\n",
       "      <td>Florida</td>\n",
       "      <td>M</td>\n",
       "      <td>19.0</td>\n",
       "      <td>N</td>\n",
       "      <td>Surfing</td>\n",
       "      <td>Morning</td>\n",
       "      <td>Summer</td>\n",
       "      <td>Unknown</td>\n",
       "      <td>Gulf of Mexico</td>\n",
       "      <td>0</td>\n",
       "      <td>0</td>\n",
       "      <td>0</td>\n",
       "      <td>0</td>\n",
       "      <td>0</td>\n",
       "      <td>0</td>\n",
       "      <td>0</td>\n",
       "      <td>0</td>\n",
       "      <td>0</td>\n",
       "    </tr>\n",
       "    <tr>\n",
       "      <th>15</th>\n",
       "      <td>Unprovoked</td>\n",
       "      <td>South Carolina</td>\n",
       "      <td>F</td>\n",
       "      <td>33.0</td>\n",
       "      <td>N</td>\n",
       "      <td>Surfing</td>\n",
       "      <td>Morning</td>\n",
       "      <td>Spring</td>\n",
       "      <td>Unknown</td>\n",
       "      <td>Atlantic</td>\n",
       "      <td>0</td>\n",
       "      <td>0</td>\n",
       "      <td>1</td>\n",
       "      <td>0</td>\n",
       "      <td>0</td>\n",
       "      <td>1</td>\n",
       "      <td>0</td>\n",
       "      <td>1</td>\n",
       "      <td>1</td>\n",
       "    </tr>\n",
       "    <tr>\n",
       "      <th>23</th>\n",
       "      <td>Unprovoked</td>\n",
       "      <td>Hawaii</td>\n",
       "      <td>M</td>\n",
       "      <td>28.0</td>\n",
       "      <td>N</td>\n",
       "      <td>Surfing</td>\n",
       "      <td>Morning</td>\n",
       "      <td>Spring</td>\n",
       "      <td>Tiger Shark</td>\n",
       "      <td>Pacific</td>\n",
       "      <td>0</td>\n",
       "      <td>0</td>\n",
       "      <td>0</td>\n",
       "      <td>0</td>\n",
       "      <td>0</td>\n",
       "      <td>1</td>\n",
       "      <td>1</td>\n",
       "      <td>2</td>\n",
       "      <td>2</td>\n",
       "    </tr>\n",
       "    <tr>\n",
       "      <th>24</th>\n",
       "      <td>Unprovoked</td>\n",
       "      <td>Florida</td>\n",
       "      <td>M</td>\n",
       "      <td>17.0</td>\n",
       "      <td>N</td>\n",
       "      <td>Surfing</td>\n",
       "      <td>Afternoon</td>\n",
       "      <td>Spring</td>\n",
       "      <td>Unknown</td>\n",
       "      <td>Gulf of Mexico</td>\n",
       "      <td>0</td>\n",
       "      <td>0</td>\n",
       "      <td>0</td>\n",
       "      <td>0</td>\n",
       "      <td>1</td>\n",
       "      <td>1</td>\n",
       "      <td>0</td>\n",
       "      <td>0</td>\n",
       "      <td>0</td>\n",
       "    </tr>\n",
       "    <tr>\n",
       "      <th>27</th>\n",
       "      <td>Unprovoked</td>\n",
       "      <td>Florida</td>\n",
       "      <td>F</td>\n",
       "      <td>35.0</td>\n",
       "      <td>N</td>\n",
       "      <td>Surfing</td>\n",
       "      <td>Evening</td>\n",
       "      <td>Spring</td>\n",
       "      <td>Unknown</td>\n",
       "      <td>Gulf of Mexico</td>\n",
       "      <td>0</td>\n",
       "      <td>0</td>\n",
       "      <td>1</td>\n",
       "      <td>0</td>\n",
       "      <td>2</td>\n",
       "      <td>1</td>\n",
       "      <td>0</td>\n",
       "      <td>0</td>\n",
       "      <td>0</td>\n",
       "    </tr>\n",
       "  </tbody>\n",
       "</table>\n",
       "</div>"
      ],
      "text/plain": [
       "          Type            Area Sex   Age Fatal Activity_category Time_of_day  \\\n",
       "2   Unprovoked         Florida   M  19.0     N           Surfing     Morning   \n",
       "15  Unprovoked  South Carolina   F  33.0     N           Surfing     Morning   \n",
       "23  Unprovoked          Hawaii   M  28.0     N           Surfing     Morning   \n",
       "24  Unprovoked         Florida   M  17.0     N           Surfing   Afternoon   \n",
       "27  Unprovoked         Florida   F  35.0     N           Surfing     Evening   \n",
       "\n",
       "    Season      Species           Ocean  Fatal_num  Type_num  Sex_num  \\\n",
       "2   Summer      Unknown  Gulf of Mexico          0         0        0   \n",
       "15  Spring      Unknown        Atlantic          0         0        1   \n",
       "23  Spring  Tiger Shark         Pacific          0         0        0   \n",
       "24  Spring      Unknown  Gulf of Mexico          0         0        0   \n",
       "27  Spring      Unknown  Gulf of Mexico          0         0        1   \n",
       "\n",
       "    Activity_category_num  Time_of_day_num  Season_num  Species_num  \\\n",
       "2                       0                0           0            0   \n",
       "15                      0                0           1            0   \n",
       "23                      0                0           1            1   \n",
       "24                      0                1           1            0   \n",
       "27                      0                2           1            0   \n",
       "\n",
       "    Ocean_num  Area_num  \n",
       "2           0         0  \n",
       "15          1         1  \n",
       "23          2         2  \n",
       "24          0         0  \n",
       "27          0         0  "
      ]
     },
     "execution_count": 28,
     "metadata": {},
     "output_type": "execute_result"
    }
   ],
   "source": [
    "shark['Fatal_num'] = shark.Fatal.factorize()[0]\n",
    "shark['Type_num'] = shark.Type.factorize()[0]\n",
    "shark['Sex_num'] = shark.Sex.factorize()[0]\n",
    "shark['Activity_category_num'] = shark.Activity_category.factorize()[0]\n",
    "shark['Time_of_day_num'] = shark.Time_of_day.factorize()[0]\n",
    "shark['Season_num'] = shark.Season.factorize()[0]\n",
    "shark['Species_num'] = shark.Species.factorize()[0]\n",
    "shark['Ocean_num'] = shark.Ocean.factorize()[0]\n",
    "shark['Area_num'] = shark.Area.factorize()[0]\n",
    "shark.head()"
   ]
  },
  {
   "cell_type": "markdown",
   "metadata": {
    "collapsed": true
   },
   "source": [
    "## Step 3: Visualizing and Analyzing\n",
    "\n"
   ]
  },
  {
   "cell_type": "code",
   "execution_count": 29,
   "metadata": {
    "scrolled": true
   },
   "outputs": [
    {
     "data": {
      "text/plain": [
       "N    952\n",
       "Y     48\n",
       "Name: Fatal, dtype: int64"
      ]
     },
     "execution_count": 29,
     "metadata": {},
     "output_type": "execute_result"
    },
    {
     "data": {
      "image/png": "[encoded data removed]",
      "text/plain": [
       "<matplotlib.figure.Figure at 0xc0a6ac8>"
      ]
     },
     "metadata": {},
     "output_type": "display_data"
    }
   ],
   "source": [
    "ax = shark['Fatal'].value_counts().plot(kind='bar', figsize=(10,4), color='green');\n",
    "ax.set_ylabel('Number of Attacks', fontsize=16);\n",
    "ax.set_xlabel('Fatal?', fontsize=16);\n",
    "ax.tick_params(axis='x', labelsize=14)\n",
    "shark['Fatal'].value_counts()"
   ]
  },
  {
   "cell_type": "markdown",
   "metadata": {},
   "source": [
    "### 95.19% of attacks are Non-Fatal. This is the benchmark for our model.\n",
    "\n",
    "#### Plotted correlation as a test (even though it's categorical data), just to see if anything stood out."
   ]
  },
  {
   "cell_type": "code",
   "execution_count": 30,
   "metadata": {},
   "outputs": [
    {
     "data": {
      "text/plain": [
       "<matplotlib.axes._subplots.AxesSubplot at 0xc53c550>"
      ]
     },
     "execution_count": 30,
     "metadata": {},
     "output_type": "execute_result"
    },
    {
     "data": {
      "image/png": "[encoded data removed]",
      "text/plain": [
       "<matplotlib.figure.Figure at 0xc2207f0>"
      ]
     },
     "metadata": {},
     "output_type": "display_data"
    }
   ],
   "source": [
    "sns.heatmap(shark.corr())"
   ]
  },
  {
   "cell_type": "markdown",
   "metadata": {},
   "source": [
    "#### Separating Fatal and Nonfatal into two variables, so they can be stacked in a graph."
   ]
  },
  {
   "cell_type": "code",
   "execution_count": 31,
   "metadata": {},
   "outputs": [
    {
     "data": {
      "text/html": [
       "<div>\n",
       "<style>\n",
       "    .dataframe thead tr:only-child th {\n",
       "        text-align: right;\n",
       "    }\n",
       "\n",
       "    .dataframe thead th {\n",
       "        text-align: left;\n",
       "    }\n",
       "\n",
       "    .dataframe tbody tr th {\n",
       "        vertical-align: top;\n",
       "    }\n",
       "</style>\n",
       "<table border=\"1\" class=\"dataframe\">\n",
       "  <thead>\n",
       "    <tr style=\"text-align: right;\">\n",
       "      <th></th>\n",
       "      <th>Fatal</th>\n",
       "      <th>Fatal_N</th>\n",
       "      <th>Fatal_Y</th>\n",
       "    </tr>\n",
       "  </thead>\n",
       "  <tbody>\n",
       "    <tr>\n",
       "      <th>4751</th>\n",
       "      <td>Y</td>\n",
       "      <td>0.0</td>\n",
       "      <td>1.0</td>\n",
       "    </tr>\n",
       "    <tr>\n",
       "      <th>4932</th>\n",
       "      <td>N</td>\n",
       "      <td>1.0</td>\n",
       "      <td>0.0</td>\n",
       "    </tr>\n",
       "    <tr>\n",
       "      <th>5107</th>\n",
       "      <td>N</td>\n",
       "      <td>1.0</td>\n",
       "      <td>0.0</td>\n",
       "    </tr>\n",
       "    <tr>\n",
       "      <th>5160</th>\n",
       "      <td>Y</td>\n",
       "      <td>0.0</td>\n",
       "      <td>1.0</td>\n",
       "    </tr>\n",
       "    <tr>\n",
       "      <th>5165</th>\n",
       "      <td>Y</td>\n",
       "      <td>0.0</td>\n",
       "      <td>1.0</td>\n",
       "    </tr>\n",
       "    <tr>\n",
       "      <th>5341</th>\n",
       "      <td>Y</td>\n",
       "      <td>0.0</td>\n",
       "      <td>1.0</td>\n",
       "    </tr>\n",
       "    <tr>\n",
       "      <th>5467</th>\n",
       "      <td>Y</td>\n",
       "      <td>0.0</td>\n",
       "      <td>1.0</td>\n",
       "    </tr>\n",
       "    <tr>\n",
       "      <th>5478</th>\n",
       "      <td>Y</td>\n",
       "      <td>0.0</td>\n",
       "      <td>1.0</td>\n",
       "    </tr>\n",
       "    <tr>\n",
       "      <th>5681</th>\n",
       "      <td>Y</td>\n",
       "      <td>0.0</td>\n",
       "      <td>1.0</td>\n",
       "    </tr>\n",
       "    <tr>\n",
       "      <th>5763</th>\n",
       "      <td>N</td>\n",
       "      <td>1.0</td>\n",
       "      <td>0.0</td>\n",
       "    </tr>\n",
       "  </tbody>\n",
       "</table>\n",
       "</div>"
      ],
      "text/plain": [
       "     Fatal  Fatal_N  Fatal_Y\n",
       "4751     Y      0.0      1.0\n",
       "4932     N      1.0      0.0\n",
       "5107     N      1.0      0.0\n",
       "5160     Y      0.0      1.0\n",
       "5165     Y      0.0      1.0\n",
       "5341     Y      0.0      1.0\n",
       "5467     Y      0.0      1.0\n",
       "5478     Y      0.0      1.0\n",
       "5681     Y      0.0      1.0\n",
       "5763     N      1.0      0.0"
      ]
     },
     "execution_count": 31,
     "metadata": {},
     "output_type": "execute_result"
    }
   ],
   "source": [
    "shark.loc[shark['Fatal'].str.contains('N', case=False), 'Fatal_N'] = 1\n",
    "shark.loc[shark['Fatal'].str.contains('Y', case=False), 'Fatal_N'] = 0\n",
    "shark.loc[shark['Fatal'].str.contains('Y', case=False), 'Fatal_Y'] = 1\n",
    "shark.loc[shark['Fatal'].str.contains('N', case=False), 'Fatal_Y'] = 0\n",
    "shark[['Fatal', 'Fatal_N', 'Fatal_Y']].tail(10)"
   ]
  },
  {
   "cell_type": "markdown",
   "metadata": {},
   "source": [
    "#### Gender Breakdown \n",
    "#### Fatality: Even. 4% Female, 5% Male\n",
    "\n",
    "\n"
   ]
  },
  {
   "cell_type": "code",
   "execution_count": 32,
   "metadata": {
    "scrolled": false
   },
   "outputs": [
    {
     "data": {
      "image/png": "[encoded data removed]",
      "text/plain": [
       "<matplotlib.figure.Figure at 0xe9051d0>"
      ]
     },
     "metadata": {},
     "output_type": "display_data"
    }
   ],
   "source": [
    "shark_sex = shark[['Sex', 'Fatal_N', 'Fatal_Y']]\n",
    "\n",
    "ax = shark_sex.groupby('Sex').sum().sort_values('Fatal_Y', ascending=False).plot(kind='bar', figsize=(16,8), stacked=True);\n",
    "ax.set_ylabel('Number of Attacks', fontsize=16);\n",
    "ax.tick_params(axis='x', labelsize=16)\n"
   ]
  },
  {
   "cell_type": "markdown",
   "metadata": {},
   "source": [
    "#### Age Breakdown \n",
    "#### Fatality: Generally increasing with age. Under 10 2%, 10-29 4%, 30-49 5%, 50-69 8%, and 70-89 17%.\n"
   ]
  },
  {
   "cell_type": "code",
   "execution_count": 33,
   "metadata": {},
   "outputs": [
    {
     "data": {
      "image/png": "[encoded data removed]",
      "text/plain": [
       "<matplotlib.figure.Figure at 0xe7a4710>"
      ]
     },
     "metadata": {},
     "output_type": "display_data"
    }
   ],
   "source": [
    "shark_age = shark[['Age', 'Fatal_N', 'Fatal_Y']]\n",
    "\n",
    "ax = shark_age.groupby('Age').sum().plot(kind='bar', figsize=(19,8), stacked=True);\n",
    "ax.set_ylabel('Number of Attacks', fontsize=16);\n",
    "ax.tick_params(axis='x', labelsize=16)"
   ]
  },
  {
   "cell_type": "markdown",
   "metadata": {},
   "source": [
    "#### Type Breakdown \n",
    "#### Fatality: Provoked attacks have favorable outcome. Provoked 2% fatality, Unprovoked 5%\n"
   ]
  },
  {
   "cell_type": "code",
   "execution_count": 35,
   "metadata": {},
   "outputs": [
    {
     "data": {
      "image/png": "[encoded data removed]",
      "text/plain": [
       "<matplotlib.figure.Figure at 0xeaff048>"
      ]
     },
     "metadata": {},
     "output_type": "display_data"
    }
   ],
   "source": [
    "shark_type = shark[['Type', 'Fatal_N', 'Fatal_Y']]\n",
    "\n",
    "ax = shark_type.groupby('Type').sum().sort_values('Fatal_Y', ascending=False).plot(kind='bar', figsize=(16,8), stacked=True);\n",
    "ax.set_ylabel('Number of Attacks', fontsize=16);\n",
    "ax.tick_params(axis='x', labelsize=16)"
   ]
  },
  {
   "cell_type": "markdown",
   "metadata": {},
   "source": [
    "#### Activity Breakdown \n",
    "#### Fatality: Highest fatality for Other (18%) and Snorkeling (10%), lowest for surfing (1%) and boating (0%)\n"
   ]
  },
  {
   "cell_type": "code",
   "execution_count": 38,
   "metadata": {},
   "outputs": [
    {
     "data": {
      "image/png": "[encoded data removed]",
      "text/plain": [
       "<matplotlib.figure.Figure at 0xfac0ac8>"
      ]
     },
     "metadata": {},
     "output_type": "display_data"
    }
   ],
   "source": [
    "shark_activity = shark[['Activity_category', 'Fatal_N', 'Fatal_Y']]\n",
    "\n",
    "ax =shark_activity.groupby('Activity_category').sum().sort_values('Fatal_Y', ascending=False).plot(kind='bar', figsize=(9,8), stacked=True);\n",
    "ax.set_ylabel('Number of Attacks', fontsize=16);\n",
    "ax.tick_params(axis='x', labelsize=16)"
   ]
  },
  {
   "cell_type": "markdown",
   "metadata": {},
   "source": [
    "#### Time Breakdown \n",
    "#### Fatality: Darker hours most dangerous. Night 24% fatality, Early morning 10% fatality.\n"
   ]
  },
  {
   "cell_type": "code",
   "execution_count": 37,
   "metadata": {},
   "outputs": [
    {
     "data": {
      "image/png": "[encoded data removed]",
      "text/plain": [
       "<matplotlib.figure.Figure at 0xf9be940>"
      ]
     },
     "metadata": {},
     "output_type": "display_data"
    }
   ],
   "source": [
    "shark_time = shark[['Time_of_day', 'Fatal_N', 'Fatal_Y']]\n",
    "\n",
    "ax = shark_time.groupby('Time_of_day').sum().sort_values('Fatal_Y', ascending=False).plot(kind='bar', figsize=(16,8), stacked=True);\n",
    "ax.set_ylabel('Number of Attacks', fontsize=16);\n",
    "ax.tick_params(axis='x', labelsize=16)"
   ]
  },
  {
   "cell_type": "markdown",
   "metadata": {},
   "source": [
    "#### Season Breakdown \n",
    "#### Fatality: Colder months have highest probability of deadly attack. Winter 11%, Spring 3%, Summer 6%, and Fall 4%.\n"
   ]
  },
  {
   "cell_type": "code",
   "execution_count": 36,
   "metadata": {},
   "outputs": [
    {
     "data": {
      "image/png": "[encoded data removed]",
      "text/plain": [
       "<matplotlib.figure.Figure at 0xfab4240>"
      ]
     },
     "metadata": {},
     "output_type": "display_data"
    }
   ],
   "source": [
    "shark_season = shark[['Season', 'Fatal_N', 'Fatal_Y']]\n",
    "\n",
    "ax = shark_season.groupby('Season').sum().sort_values('Fatal_Y', ascending=False).plot(kind='bar', figsize=(9,8), stacked=True);\n",
    "ax.set_ylabel('Number of Attacks', fontsize=16);\n",
    "ax.tick_params(axis='x', labelsize=16)"
   ]
  },
  {
   "cell_type": "markdown",
   "metadata": {},
   "source": [
    "#### Species Breakdown \n",
    "#### Fatality: Most attacks have no Species listed, but only 3% are fatal. Mako Sharks have 14%, White Sharks have 13%, Bull Sharks have 10%, Tiger Sharks have 9%, and Hammerheads have 6%. All other species listed have 0 fatalities.\n"
   ]
  },
  {
   "cell_type": "code",
   "execution_count": 39,
   "metadata": {},
   "outputs": [
    {
     "data": {
      "image/png": "[encoded data removed]",
      "text/plain": [
       "<matplotlib.figure.Figure at 0xf90b438>"
      ]
     },
     "metadata": {},
     "output_type": "display_data"
    }
   ],
   "source": [
    "shark_species = shark[['Species', 'Fatal_N', 'Fatal_Y']]\n",
    "\n",
    "ax = shark_species.groupby('Species').sum().sort_values('Fatal_Y', ascending=False).plot(kind='bar', figsize=(16,8), stacked=True);\n",
    "ax.set_ylabel('Number of Attacks', fontsize=16);\n",
    "ax.tick_params(axis='x', labelsize=16)"
   ]
  },
  {
   "cell_type": "markdown",
   "metadata": {},
   "source": [
    "#### Ocean Breakdown \n",
    "#### Fatality: Even though most attacks in Gulf, Atlantic and Pacific have a 9% fatality chance, and the Gulf is 2%.\n"
   ]
  },
  {
   "cell_type": "code",
   "execution_count": 37,
   "metadata": {},
   "outputs": [
    {
     "data": {
      "image/png": "[encoded data removed]",
      "text/plain": [
       "<matplotlib.figure.Figure at 0xfc968d0>"
      ]
     },
     "metadata": {},
     "output_type": "display_data"
    }
   ],
   "source": [
    "shark_ocean = shark[['Ocean', 'Fatal_N', 'Fatal_Y']]\n",
    "\n",
    "ax = shark_ocean.groupby('Ocean').sum().sort_values('Fatal_Y', ascending=False).plot(kind='bar', figsize=(9,8), stacked=True);\n",
    "ax.set_ylabel('Number of Attacks', fontsize=16);\n",
    "ax.tick_params(axis='x', labelsize=16)"
   ]
  },
  {
   "cell_type": "markdown",
   "metadata": {},
   "source": [
    "#### State Breakdown \n",
    "#### Fatality: States with most attacks are FL (2% fatal), CA (11% fatal), HI (9% fatal). States like SC has 0% fatality and MD has 100% fatality, but other only have 1 attack in the dataset.\n"
   ]
  },
  {
   "cell_type": "code",
   "execution_count": 317,
   "metadata": {},
   "outputs": [
    {
     "data": {
      "image/png": "[encoded data removed]",
      "text/plain": [
       "<matplotlib.figure.Figure at 0x1eb61668>"
      ]
     },
     "metadata": {},
     "output_type": "display_data"
    }
   ],
   "source": [
    "shark_area = shark[['Area', 'Fatal_N', 'Fatal_Y']]\n",
    "\n",
    "ax = shark_area.groupby('Area').sum().sort_values('Fatal_Y', ascending=False).plot(kind='bar', figsize=(16,8), stacked=True);\n",
    "ax.set_ylabel('Number of Attacks', fontsize=16);\n",
    "ax.tick_params(axis='x', labelsize=16)"
   ]
  },
  {
   "cell_type": "markdown",
   "metadata": {
    "collapsed": true
   },
   "source": [
    "## Step 4: Creating a Model\n",
    "\n",
    "#### Split into X vs Y, and train vs test"
   ]
  },
  {
   "cell_type": "code",
   "execution_count": 274,
   "metadata": {
    "collapsed": true
   },
   "outputs": [],
   "source": [
    "from sklearn.model_selection import train_test_split\n",
    "from sklearn import metrics\n",
    "\n",
    "feature_cols = ['Type_num', 'Time_of_day_num', 'Age',\n",
    "                'Season_num', 'Species_num', 'Area_num',\n",
    "                'Ocean_num', 'Activity_category_num']\n",
    "X = shark[feature_cols]\n",
    "y = shark.Fatal_num"
   ]
  },
  {
   "cell_type": "code",
   "execution_count": 275,
   "metadata": {
    "collapsed": true
   },
   "outputs": [],
   "source": [
    "X_train, X_test, y_train, y_test = train_test_split(X, y, test_size=0.2, random_state=99)"
   ]
  },
  {
   "cell_type": "markdown",
   "metadata": {},
   "source": [
    "#### KNN Classification"
   ]
  },
  {
   "cell_type": "code",
   "execution_count": 276,
   "metadata": {},
   "outputs": [
    {
     "data": {
      "text/plain": [
       "KNeighborsClassifier(algorithm='kd_tree', leaf_size=10, metric='minkowski',\n",
       "           metric_params=None, n_jobs=1, n_neighbors=5, p=2,\n",
       "           weights='distance')"
      ]
     },
     "execution_count": 276,
     "metadata": {},
     "output_type": "execute_result"
    }
   ],
   "source": [
    "from sklearn.neighbors import KNeighborsClassifier\n",
    "knn = KNeighborsClassifier(n_neighbors=5, weights = 'distance', \n",
    "                           algorithm  = 'kd_tree', leaf_size = 10)\n",
    "\n",
    "knn.fit(X_train, y_train)"
   ]
  },
  {
   "cell_type": "code",
   "execution_count": 277,
   "metadata": {},
   "outputs": [
    {
     "name": "stdout",
     "output_type": "stream",
     "text": [
      "96.0 % accuracy using KNN\n"
     ]
    }
   ],
   "source": [
    "y_pred_class = knn.predict(X_test)\n",
    "print((metrics.accuracy_score(y_test, y_pred_class))*100),\"% accuracy using KNN\"\n"
   ]
  },
  {
   "cell_type": "markdown",
   "metadata": {},
   "source": [
    "#### Logistic Regression"
   ]
  },
  {
   "cell_type": "code",
   "execution_count": 318,
   "metadata": {},
   "outputs": [
    {
     "data": {
      "text/plain": [
       "LogisticRegression(C=1.0, class_weight=None, dual=False, fit_intercept=True,\n",
       "          intercept_scaling=1, max_iter=100, multi_class='ovr', n_jobs=1,\n",
       "          penalty='l2', random_state=None, solver='liblinear', tol=0.0001,\n",
       "          verbose=0, warm_start=False)"
      ]
     },
     "execution_count": 318,
     "metadata": {},
     "output_type": "execute_result"
    }
   ],
   "source": [
    "from sklearn.linear_model import LogisticRegression\n",
    "LR = LogisticRegression()\n",
    "\n",
    "LR.fit(X_train,y_train)\n"
   ]
  },
  {
   "cell_type": "code",
   "execution_count": 321,
   "metadata": {},
   "outputs": [
    {
     "name": "stdout",
     "output_type": "stream",
     "text": [
      "96.5 % accuracy using Logistic Regression\n"
     ]
    }
   ],
   "source": [
    "y_pred_class = LR.predict(X_test)\n",
    "print((metrics.accuracy_score(y_test, y_pred_class))\n",
    "      *100),\"% accuracy using Logistic Regression\""
   ]
  },
  {
   "cell_type": "markdown",
   "metadata": {},
   "source": [
    "#### Decision Tree Classifier"
   ]
  },
  {
   "cell_type": "code",
   "execution_count": 325,
   "metadata": {},
   "outputs": [
    {
     "data": {
      "text/plain": [
       "DecisionTreeClassifier(class_weight=None, criterion='gini', max_depth=9,\n",
       "            max_features=None, max_leaf_nodes=None,\n",
       "            min_impurity_split=1e-07, min_samples_leaf=1,\n",
       "            min_samples_split=2, min_weight_fraction_leaf=0.0,\n",
       "            presort=False, random_state=1, splitter='best')"
      ]
     },
     "execution_count": 325,
     "metadata": {},
     "output_type": "execute_result"
    }
   ],
   "source": [
    "treeclf = DecisionTreeClassifier(max_depth=9, random_state=1)\n",
    "treeclf.fit(X, y)"
   ]
  },
  {
   "cell_type": "code",
   "execution_count": 326,
   "metadata": {},
   "outputs": [
    {
     "name": "stdout",
     "output_type": "stream",
     "text": [
      "98.5 % accuracy using Decision Tree Classification\n"
     ]
    }
   ],
   "source": [
    "y_pred_class = treeclf.predict(X_test)\n",
    "print((metrics.accuracy_score(y_test, y_pred_class))\n",
    "      *100),\"% accuracy using Decision Tree Classification\""
   ]
  },
  {
   "cell_type": "code",
   "execution_count": 322,
   "metadata": {},
   "outputs": [
    {
     "data": {
      "text/html": [
       "<div>\n",
       "<style>\n",
       "    .dataframe thead tr:only-child th {\n",
       "        text-align: right;\n",
       "    }\n",
       "\n",
       "    .dataframe thead th {\n",
       "        text-align: left;\n",
       "    }\n",
       "\n",
       "    .dataframe tbody tr th {\n",
       "        vertical-align: top;\n",
       "    }\n",
       "</style>\n",
       "<table border=\"1\" class=\"dataframe\">\n",
       "  <thead>\n",
       "    <tr style=\"text-align: right;\">\n",
       "      <th></th>\n",
       "      <th>feature</th>\n",
       "      <th>importance</th>\n",
       "    </tr>\n",
       "  </thead>\n",
       "  <tbody>\n",
       "    <tr>\n",
       "      <th>2</th>\n",
       "      <td>Age</td>\n",
       "      <td>0.333886</td>\n",
       "    </tr>\n",
       "    <tr>\n",
       "      <th>1</th>\n",
       "      <td>Time_of_day_num</td>\n",
       "      <td>0.169385</td>\n",
       "    </tr>\n",
       "    <tr>\n",
       "      <th>7</th>\n",
       "      <td>Activity_category_num</td>\n",
       "      <td>0.156238</td>\n",
       "    </tr>\n",
       "    <tr>\n",
       "      <th>5</th>\n",
       "      <td>Area_num</td>\n",
       "      <td>0.155471</td>\n",
       "    </tr>\n",
       "    <tr>\n",
       "      <th>4</th>\n",
       "      <td>Species_num</td>\n",
       "      <td>0.100785</td>\n",
       "    </tr>\n",
       "    <tr>\n",
       "      <th>3</th>\n",
       "      <td>Season_num</td>\n",
       "      <td>0.048688</td>\n",
       "    </tr>\n",
       "    <tr>\n",
       "      <th>0</th>\n",
       "      <td>Type_num</td>\n",
       "      <td>0.023147</td>\n",
       "    </tr>\n",
       "    <tr>\n",
       "      <th>6</th>\n",
       "      <td>Ocean_num</td>\n",
       "      <td>0.012400</td>\n",
       "    </tr>\n",
       "  </tbody>\n",
       "</table>\n",
       "</div>"
      ],
      "text/plain": [
       "                 feature  importance\n",
       "2                    Age    0.333886\n",
       "1        Time_of_day_num    0.169385\n",
       "7  Activity_category_num    0.156238\n",
       "5               Area_num    0.155471\n",
       "4            Species_num    0.100785\n",
       "3             Season_num    0.048688\n",
       "0               Type_num    0.023147\n",
       "6              Ocean_num    0.012400"
      ]
     },
     "execution_count": 322,
     "metadata": {},
     "output_type": "execute_result"
    }
   ],
   "source": [
    "pd.DataFrame({'feature':feature_cols, \n",
    "              'importance':treeclf.feature_importances_})\n",
    ".sort_values('importance', ascending=False)"
   ]
  },
  {
   "cell_type": "markdown",
   "metadata": {},
   "source": [
    "#### exporting the decision tree"
   ]
  },
  {
   "cell_type": "code",
   "execution_count": 282,
   "metadata": {
    "collapsed": true
   },
   "outputs": [],
   "source": [
    "from sklearn.tree import export_graphviz"
   ]
  },
  {
   "cell_type": "code",
   "execution_count": 283,
   "metadata": {
    "collapsed": true
   },
   "outputs": [],
   "source": [
    "export_graphviz(treeclf, out_file='./tree/tree1.dot', feature_names=feature_cols)"
   ]
  },
  {
   "cell_type": "markdown",
   "metadata": {},
   "source": [
    "## Step 5: Production\n"
   ]
  },
  {
   "cell_type": "markdown",
   "metadata": {},
   "source": [
    "##### Sex: F, Activity: Swimming, Age: 26, Area: California, Ocean: Pacific, Type: Unprovoked, Time: Afternoon, Season: Fall, Species: White"
   ]
  },
  {
   "cell_type": "code",
   "execution_count": 243,
   "metadata": {},
   "outputs": [
    {
     "data": {
      "text/plain": [
       "array([0], dtype=int64)"
      ]
     },
     "execution_count": 243,
     "metadata": {},
     "output_type": "execute_result"
    }
   ],
   "source": [
    "treeclf.predict(np.array([1, 1, 26.0, 3, 1, 4, 2, 2]).reshape(1, -1))"
   ]
  },
  {
   "cell_type": "markdown",
   "metadata": {},
   "source": [
    "##### Sex: M, Activity: Snorkeling, Age: 65, Area: Hawaii, Ocean: Pacific, Type: Unprovoked, Time: Early Morning, Season: Spring, Species: Tiger"
   ]
  },
  {
   "cell_type": "code",
   "execution_count": 298,
   "metadata": {},
   "outputs": [
    {
     "data": {
      "text/plain": [
       "array([1], dtype=int64)"
      ]
     },
     "execution_count": 298,
     "metadata": {},
     "output_type": "execute_result"
    }
   ],
   "source": [
    "treeclf.predict(np.array([0, 0, 65.0, 1, 0, 2, 2, 3]).reshape(1, -1))"
   ]
  }
 ],
 "metadata": {
  "kernelspec": {
   "display_name": "Python 2",
   "language": "python",
   "name": "python2"
  },
  "language_info": {
   "codemirror_mode": {
    "name": "ipython",
    "version": 2
   },
   "file_extension": ".py",
   "mimetype": "text/x-python",
   "name": "python",
   "nbconvert_exporter": "python",
   "pygments_lexer": "ipython2",
   "version": "2.7.13"
  }
 },
 "nbformat": 4,
 "nbformat_minor": 2
}
