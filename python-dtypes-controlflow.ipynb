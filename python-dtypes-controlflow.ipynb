{
 "cells": [
  {
   "cell_type": "markdown",
   "metadata": {},
   "source": [
    "<img src=\"http://imgur.com/1ZcRyrc.png\" style=\"float: left; margin: 20px; height: 55px\">\n",
    "\n",
    "# Introduction to Python\n",
    "\n",
    "_Authors: Kiefer Katovich (San Francisco), Dave Yerrington (San Francisco), Joseph Nelson (Washington, D.C.), Sam Stack (Washington, D.C.)_\n",
    "\n",
    "---"
   ]
  },
  {
   "cell_type": "markdown",
   "metadata": {},
   "source": [
    "\n",
    "### Learning Objectives\n",
    " \n",
    "#### Part 1: Python Datatypes\n",
    "**After this lesson, you will be able to:**\n",
    "- Discuss Python as a programming language.\n",
    "- Define integers, strings, tuples, lists, and dictionaries.\n",
    "- Demonstrate arithmetic operations and string operations.\n",
    "- Demonstrate variable assignment.\n",
    "\n",
    "#### Part 2: Python Iterations, Control Flow, and Functions\n",
    "**After this lesson, you will be able to:**\n",
    "- Understand `Python` control flow and conditional programming.  \n",
    "- Implement `for` and `while` loops to iterate through data structures.\n",
    "- Apply `if…else` conditional statements.\n",
    "- Create functions to perform repetitive actions.\n",
    "- Demonstrate error-handling using `try, except` statements.\n",
    "- Combine control flow and conditional statements to solve the classic \"FizzBuzz\" code challenge.\n",
    "- Use `Python` control flow and functions to help us parse, clean, edit, and analyze the Coffee Preferences data set.\n",
    "---"
   ]
  },
  {
   "cell_type": "markdown",
   "metadata": {},
   "source": [
    "### Lesson Guide\n",
    "\n",
    "#### [Part 1: Python Datatypes](#why_py)\n",
    "- [Why Python?](#why_py)\n",
    "- [Introduction to Data Types](#intro)\n",
    "- [Jupyter Notebook](#jupyter_nb)\n",
    "- [Python Variables](#variables)\n",
    "- [Operators](#operators)\n",
    "- [Integers and Floats](#numbers)\n",
    "- [Strings](#strings)\n",
    "\t-[String Indexing](#slicing)\n",
    "- [Printing Strings](#print)\n",
    "- [Lists](#lists)\n",
    "- [Tuples](#tuples)\n",
    "- [Dictionaries](#dictionary)\n",
    "- [Importing Packages and Documentation](#import)\n",
    "- [Practice With a Partner](#ind-practice)\n",
    "\n",
    "\n",
    "#### [Part 2: Python Iterations, Control Flow, and Functions](#py_i)\n",
    "- [`if…else` Statement](#if_else_statements)\n",
    "- [Iterating With `for` Loops](#for_loops)\n",
    "- [FizzBuzz](#fizz_buzz)\n",
    "- [Functions](#functions)\n",
    "- [`while` Loops](#while_loops)\n",
    "- [Practice Control Flow on Coffee Preference Data Set](#coffee_preference)\n",
    "- [Conclusion](#conclusion)\n",
    "----"
   ]
  },
  {
   "cell_type": "markdown",
   "metadata": {},
   "source": [
    "<a id='why_py'></a>\n",
    "\n",
    "## Why Python?\n",
    "\n",
    "Python was created by Guido van Rossum and released back in 1991. Since then, Python has greatly grown as a high-level, general-purpose programming language with a huge open-source community supporting it. The language was developed to emphasize readability of code (specifically, white-space use and syntax). \"The Zen of Python\" is a poem that explains the nature of the Python functionality.\n",
    "\n",
    "\n",
    "#### _The Zen of Python_  \n",
    "_Beautiful is better than ugly.  \n",
    "Explicit is better than implicit.  \n",
    "Simple is better than complex.  \n",
    "Complex is better than complicated.  \n",
    "Flat is better than nested.  \n",
    "Sparse is better than dense.  \n",
    "Readability counts.  \n",
    "Special cases aren't special enough to break the rules. Although practicality beats purity.   \n",
    "Errors should never pass silently.  \n",
    "Unless explicitly silenced.  \n",
    "In the face of ambiguity, refuse the temptation to guess.  \n",
    "There should be one — and preferably only one — obvious way to do it. Although that way may not be obvious at first unless you're Dutch.\n",
    "Now is better than never.  \n",
    "Although never is often better than right now.  \n",
    "If the implementation is hard to explain, it's a bad idea.  \n",
    "If the implementation is easy to explain, it may be a good idea.   \n",
    "Namespaces are one honking great idea — let's do more of those. _"
   ]
  },
  {
   "cell_type": "markdown",
   "metadata": {},
   "source": [
    "---\n",
    "\n",
    "## Why Python for Data Science?\n",
    "\n",
    "##### General Purpose, Open Source, and Readability\n",
    "\n",
    "These are some of the more prominent reasons Python has been so widely adopted for data science.\n",
    "\n",
    "**General purpose:** Python was not intended just to be used for software development or website development. Instead it comes with the basic building blocks you need to develop anything you want out of it.\n",
    "\n",
    "**Open Source:** Going back to the \"basic building blocks\" point; a large open-source community has already created hundreds of libraries containing combinations of the foundation blocks to create more specific toolsets. Here are a few examples:\n",
    "- Requests: Interacting with websites\n",
    "- Django: Python web framework\n",
    "- Pandas: Data scientists' best friend\n",
    "- Pyglet: GUI application building\n",
    "- TensorFlow: Google's machine learning library\n",
    "\n",
    "\n",
    "**Readability:** They're called programming languages because learning them is similar to learning a written language, but instead of learning how to communicate with a person, you're learning how to communicate with a computer. When a foreign language is similar to your native language it is much easier to pick up. The same can be said for Python, whose general flow makes it a lot easier for humans to read and interpret code.\n"
   ]
  },
  {
   "cell_type": "markdown",
   "metadata": {},
   "source": [
    "---\n",
    "\n",
    "<a id='intro'></a>\n",
    "## Introduction: Python Data Types\n",
    "\n",
    "There are several _standard_ data types within Python, the six most common being:\n",
    "\n",
    "**Integers:** Whole numbers from negative infinity to infinity, such as 1, 0, -5, etc.\n",
    "\n",
    "**Float:** Short for \"floating point number,\" any rational number, usually used with decimals, such as 2.8 or 3.14159.\n",
    "\n",
    "**Strings:** A set of letters, numbers, or other characters, e.g., \"Frank Underwood, I am your father.\"\n",
    "\n",
    "**Tuples:** A list with a fixed number of elements, e.g., in x=(1,2,3), the parentheses makes it a tuple. x = (\"Kirk\", \"Picard\", \"Spock\")\n",
    "\n",
    "**Lists:** A list without a fixed number of elements, e.g., in x=[1,2,3], note the square brackets a list. x = [\"Lord\", \"of\", \"the\", \"Rings\"]\n",
    "\n",
    "**Dictionaries**: A type with multiple elements, e.g., x = {1: 'a','b': 2,3: 3} where you address the elements with, e.g., a text.\n",
    "x = {'key1':'value1', 'key2':'value2'}\n",
    "\n",
    "Throughout the lesson, we will review each data type more in depth and discuss common ways of interacting with each of them.\n",
    "\n",
    "[Python Basic data types](https://en.wikiversity.org/wiki/Python/Basic_data_types)"
   ]
  },
  {
   "cell_type": "markdown",
   "metadata": {},
   "source": [
    "---\n",
    "\n",
    "<a id='jupyter_nb'></a>\n",
    "## Jupyter Notebook\n",
    "\n",
    "Before we get started, let's go over interacting with iPython in the Jupyter Notebook."
   ]
  },
  {
   "cell_type": "markdown",
   "metadata": {},
   "source": [
    "Code cells are run by pressing shift + enter or using the Play button in the toolbar."
   ]
  },
  {
   "cell_type": "code",
   "execution_count": 1,
   "metadata": {
    "collapsed": true
   },
   "outputs": [],
   "source": [
    "# This is a cell."
   ]
  },
  {
   "cell_type": "code",
   "execution_count": 5,
   "metadata": {
    "collapsed": true
   },
   "outputs": [],
   "source": [
    "# assigning a variable\n",
    "v = 1"
   ]
  },
  {
   "cell_type": "code",
   "execution_count": 2,
   "metadata": {
    "collapsed": true
   },
   "outputs": [],
   "source": [
    "# Assign another.\n",
    "dsi_ga = 'DSI is awesome!'"
   ]
  },
  {
   "cell_type": "code",
   "execution_count": 3,
   "metadata": {},
   "outputs": [
    {
     "data": {
      "text/plain": [
       "'DSI is awesome!'"
      ]
     },
     "execution_count": 3,
     "metadata": {},
     "output_type": "execute_result"
    }
   ],
   "source": [
    "# Run this!\n",
    "dsi_ga"
   ]
  },
  {
   "cell_type": "code",
   "execution_count": 6,
   "metadata": {
    "scrolled": true
   },
   "outputs": [
    {
     "name": "stdout",
     "output_type": "stream",
     "text": [
      "1\n"
     ]
    }
   ],
   "source": [
    "# Print this.\n",
    "print(v)"
   ]
  },
  {
   "cell_type": "markdown",
   "metadata": {},
   "source": [
    "You can also perform basic math using integers in the iPython notebook."
   ]
  },
  {
   "cell_type": "code",
   "execution_count": 9,
   "metadata": {},
   "outputs": [
    {
     "data": {
      "text/plain": [
       "34.5"
      ]
     },
     "execution_count": 9,
     "metadata": {},
     "output_type": "execute_result"
    }
   ],
   "source": [
    "45-10.5"
   ]
  },
  {
   "cell_type": "markdown",
   "metadata": {},
   "source": [
    "<a id='variables'></a>\n",
    "## Variables\n",
    "\n",
    "Variables are names that have been assigned to specific values or data.  These names can be almost anything you want, but there are some restrictions and best practices.\n",
    "\n",
    "**Restrictions**\n",
    "- Variable names cannot be just a number (i.e., `2`, `0.01`, `10000`).\n",
    "- Variables cannot be assigned the same name as a default or imported function (i.e., '`type`', '`print`', '`for`').\n",
    "- Variable names cannot have spaces in them.\n",
    "\n",
    "**Best Practices**\n",
    "- Variable names should be lowercase.\n",
    "- A variable's name should be representative of the value(s) it has been assigned.\n",
    "- If you must use multiple words in your variable name, use an underscore to separate them."
   ]
  },
  {
   "cell_type": "code",
   "execution_count": 11,
   "metadata": {},
   "outputs": [
    {
     "data": {
      "text/plain": [
       "float"
      ]
     },
     "execution_count": 11,
     "metadata": {},
     "output_type": "execute_result"
    }
   ],
   "source": [
    "# assigning a float\n",
    "x = 1.0\n",
    "type(x)"
   ]
  },
  {
   "cell_type": "code",
   "execution_count": 8,
   "metadata": {},
   "outputs": [
    {
     "data": {
      "text/plain": [
       "int"
      ]
     },
     "execution_count": 8,
     "metadata": {},
     "output_type": "execute_result"
    }
   ],
   "source": [
    "# assigning an int\n",
    "y = 1\n",
    "type(y)"
   ]
  },
  {
   "cell_type": "code",
   "execution_count": 13,
   "metadata": {},
   "outputs": [
    {
     "data": {
      "text/plain": [
       "tuple"
      ]
     },
     "execution_count": 13,
     "metadata": {},
     "output_type": "execute_result"
    }
   ],
   "source": [
    "# assigning a string\n",
    "z = (1,2,3)\n",
    "type(z)"
   ]
  },
  {
   "cell_type": "markdown",
   "metadata": {},
   "source": [
    "**It is critical to remember that when assigning variables, we are not stating that \"_x equals 1_\", we are stating that \"_x has been assigned the value of 1_\".**"
   ]
  },
  {
   "cell_type": "markdown",
   "metadata": {},
   "source": [
    "<a id='operators'></a>\n",
    "## Operators\n",
    "\n",
    "\"Operators are the constructs which can manipulate the value of operands.\" — [Tutorials Point: Python](https://www.tutorialspoint.com/python/python_basic_operators.htm)"
   ]
  },
  {
   "cell_type": "markdown",
   "metadata": {},
   "source": [
    "Operators can be used in a mathematical sense to calculate (or create) the sums, difference, products, or quotient of values or variables."
   ]
  },
  {
   "cell_type": "code",
   "execution_count": 15,
   "metadata": {},
   "outputs": [
    {
     "name": "stdout",
     "output_type": "stream",
     "text": [
      "3\n",
      "-1\n",
      "2\n",
      "0\n"
     ]
    }
   ],
   "source": [
    "# addition\n",
    "print 1 + 2\n",
    "# subtraction\n",
    "print 1 - 2\n",
    "# multiplication\n",
    "print 1 * 2\n",
    "# division\n",
    "print 1/2\n"
   ]
  },
  {
   "cell_type": "markdown",
   "metadata": {},
   "source": [
    "As you can see, the output of the division is not correct.  This is because \"`/`\" will round down the output in order to keep the datatypes of the input and output consistent.  \n",
    "_Not that this aspect has been removed in Python 3.0_\n",
    "\n",
    "Converting one or both of the integers to floats will allow proper division."
   ]
  },
  {
   "cell_type": "code",
   "execution_count": 11,
   "metadata": {},
   "outputs": [
    {
     "data": {
      "text/plain": [
       "0.5"
      ]
     },
     "execution_count": 11,
     "metadata": {},
     "output_type": "execute_result"
    }
   ],
   "source": [
    "# division of float numbers\n",
    "1 / 2.0"
   ]
  },
  {
   "cell_type": "markdown",
   "metadata": {},
   "source": [
    "There is also \"`//`\" division, whose output will be a whole number."
   ]
  },
  {
   "cell_type": "code",
   "execution_count": 12,
   "metadata": {},
   "outputs": [
    {
     "data": {
      "text/plain": [
       "1.0"
      ]
     },
     "execution_count": 12,
     "metadata": {},
     "output_type": "execute_result"
    }
   ],
   "source": [
    "# still a float, but a whole-number float\n",
    "3.0//2"
   ]
  },
  {
   "cell_type": "markdown",
   "metadata": {},
   "source": [
    "The equals sign in Python is known as the assignment operator. It is the means by which we can assign values to variables."
   ]
  },
  {
   "cell_type": "code",
   "execution_count": 13,
   "metadata": {},
   "outputs": [
    {
     "data": {
      "text/plain": [
       "float"
      ]
     },
     "execution_count": 13,
     "metadata": {},
     "output_type": "execute_result"
    }
   ],
   "source": [
    "number = 2.0\n",
    "type(number)"
   ]
  },
  {
   "cell_type": "code",
   "execution_count": 17,
   "metadata": {},
   "outputs": [
    {
     "data": {
      "text/plain": [
       "16"
      ]
     },
     "execution_count": 17,
     "metadata": {},
     "output_type": "execute_result"
    }
   ],
   "source": [
    "# exponent power operator\n",
    "2 ** 4"
   ]
  },
  {
   "cell_type": "code",
   "execution_count": 15,
   "metadata": {},
   "outputs": [
    {
     "data": {
      "text/plain": [
       "1"
      ]
     },
     "execution_count": 15,
     "metadata": {},
     "output_type": "execute_result"
    }
   ],
   "source": [
    "# module can be used to get the remainder\n",
    "5%2"
   ]
  },
  {
   "cell_type": "markdown",
   "metadata": {},
   "source": [
    "Booleans and Boolean evaluation operators.  Booleans exist as either true or false, and are generally used as a means of evaluation."
   ]
  },
  {
   "cell_type": "code",
   "execution_count": 16,
   "metadata": {},
   "outputs": [
    {
     "data": {
      "text/plain": [
       "False"
      ]
     },
     "execution_count": 16,
     "metadata": {},
     "output_type": "execute_result"
    }
   ],
   "source": [
    "True and False"
   ]
  },
  {
   "cell_type": "code",
   "execution_count": 17,
   "metadata": {},
   "outputs": [
    {
     "data": {
      "text/plain": [
       "True"
      ]
     },
     "execution_count": 17,
     "metadata": {},
     "output_type": "execute_result"
    }
   ],
   "source": [
    "not False"
   ]
  },
  {
   "cell_type": "code",
   "execution_count": 18,
   "metadata": {},
   "outputs": [
    {
     "data": {
      "text/plain": [
       "True"
      ]
     },
     "execution_count": 18,
     "metadata": {},
     "output_type": "execute_result"
    }
   ],
   "source": [
    "True or False"
   ]
  },
  {
   "cell_type": "markdown",
   "metadata": {},
   "source": [
    "Comparison Operators\n",
    "- Less than: **`<`**\n",
    "- Greater than: **`>`**\n",
    "- Less than or equal to: **`<=`**\n",
    "- Greater than or equal to: **`<=`**\n",
    "- Equals: **`==`**\n",
    "- Does not equal: **`!=`**\n"
   ]
  },
  {
   "cell_type": "code",
   "execution_count": 19,
   "metadata": {},
   "outputs": [
    {
     "data": {
      "text/plain": [
       "(True, False, False, False, True, True)"
      ]
     },
     "execution_count": 19,
     "metadata": {},
     "output_type": "execute_result"
    }
   ],
   "source": [
    "2 > 1, 2 < 1, 2 > 2, 2 < 2, 2 >= 2, 2 <= 2"
   ]
  },
  {
   "cell_type": "code",
   "execution_count": 20,
   "metadata": {},
   "outputs": [
    {
     "data": {
      "text/plain": [
       "(True, True)"
      ]
     },
     "execution_count": 20,
     "metadata": {},
     "output_type": "execute_result"
    }
   ],
   "source": [
    "# equality\n",
    "[1,2] == [1,2], [1,2] != [2,1]"
   ]
  },
  {
   "cell_type": "markdown",
   "metadata": {},
   "source": [
    "<a id='numbers'></a>\n",
    "## Numbers in Python\n",
    "\n",
    "Numbers in Python can be stored four ways. Two, floats and integers, are very common, and the other two, [Long](https://docs.python.org/2/library/functions.html#long) and [Complex](https://docs.python.org/2/library/functions.html#complex), are relatively uncommon. Today we will review integers and floats, as there is a good chance these will be the only ones you ever use.\n",
    "\n",
    "Integers are whole numbers. \n",
    "- 1\n",
    "- 200\n",
    "- 100009 \n",
    "\n",
    "Floats are numbers with decimals. The name \"float\" comes from \"floating point,\" as the decimal can _float_ the length of the number.\n",
    "- 1.11\n",
    "- 26.006\n",
    "- 3.0"
   ]
  },
  {
   "cell_type": "code",
   "execution_count": 19,
   "metadata": {},
   "outputs": [
    {
     "data": {
      "text/plain": [
       "(int, float)"
      ]
     },
     "execution_count": 19,
     "metadata": {},
     "output_type": "execute_result"
    }
   ],
   "source": [
    "x_int = 1\n",
    "x_float =1.0\n",
    "\n",
    "type(x_int), type(x_float)"
   ]
  },
  {
   "cell_type": "markdown",
   "metadata": {},
   "source": [
    "If a integer or float is compatible, it can be converted to the other type."
   ]
  },
  {
   "cell_type": "code",
   "execution_count": 22,
   "metadata": {},
   "outputs": [
    {
     "data": {
      "text/plain": [
       "1.0"
      ]
     },
     "execution_count": 22,
     "metadata": {},
     "output_type": "execute_result"
    }
   ],
   "source": [
    "float(x_int)"
   ]
  },
  {
   "cell_type": "code",
   "execution_count": 23,
   "metadata": {},
   "outputs": [
    {
     "data": {
      "text/plain": [
       "int"
      ]
     },
     "execution_count": 23,
     "metadata": {},
     "output_type": "execute_result"
    }
   ],
   "source": [
    "type(int(x_float))"
   ]
  },
  {
   "cell_type": "markdown",
   "metadata": {},
   "source": [
    "<a id='strings'></a>\n",
    "\n",
    "## Strings\n",
    "\n",
    "Strings are essentially any character combination in between quotes. They are most often used as a way of storing text."
   ]
  },
  {
   "cell_type": "code",
   "execution_count": 25,
   "metadata": {},
   "outputs": [
    {
     "data": {
      "text/plain": [
       "str"
      ]
     },
     "execution_count": 25,
     "metadata": {},
     "output_type": "execute_result"
    }
   ],
   "source": [
    "s = \"Hello world\"\n",
    "type(s)"
   ]
  },
  {
   "cell_type": "markdown",
   "metadata": {},
   "source": [
    "Strings have a lot of methods and attributes associated with them, which allow us to better understand and manipulate them."
   ]
  },
  {
   "cell_type": "code",
   "execution_count": 25,
   "metadata": {},
   "outputs": [
    {
     "data": {
      "text/plain": [
       "11"
      ]
     },
     "execution_count": 25,
     "metadata": {},
     "output_type": "execute_result"
    }
   ],
   "source": [
    "# length of the string\n",
    "len(s)"
   ]
  },
  {
   "cell_type": "code",
   "execution_count": 26,
   "metadata": {},
   "outputs": [
    {
     "name": "stdout",
     "output_type": "stream",
     "text": [
      "Hello test\n"
     ]
    }
   ],
   "source": [
    "# Replace an element of a string.\n",
    "s2 = s.replace(\"world\", \"test\")\n",
    "print(s2)"
   ]
  },
  {
   "cell_type": "markdown",
   "metadata": {},
   "source": [
    "<a id='slicing'></a>\n",
    "\n",
    "\n",
    "**String Indexing**  \n",
    "\n",
    "We can extract characters at specific index locations in a string using indexing."
   ]
  },
  {
   "cell_type": "code",
   "execution_count": 26,
   "metadata": {},
   "outputs": [
    {
     "data": {
      "text/plain": [
       "'H'"
      ]
     },
     "execution_count": 26,
     "metadata": {},
     "output_type": "execute_result"
    }
   ],
   "source": [
    "# indexing the first (index 0) character in the string\n",
    "s[0]"
   ]
  },
  {
   "cell_type": "markdown",
   "metadata": {},
   "source": [
    "The numbers you enter after the variable (the [0]) are called indices.\n",
    "\n",
    "_Counting in Python and many other programming languages begins at 0, as opposed to 1._  "
   ]
  },
  {
   "cell_type": "code",
   "execution_count": 29,
   "metadata": {},
   "outputs": [
    {
     "data": {
      "text/plain": [
       "'Hell'"
      ]
     },
     "execution_count": 29,
     "metadata": {},
     "output_type": "execute_result"
    }
   ],
   "source": [
    "# Objects at indexes 0,1,2,3 & 4\n",
    "\n",
    "s[0:4]"
   ]
  },
  {
   "cell_type": "markdown",
   "metadata": {},
   "source": [
    "Most ranges or functions with ranges have upper ends that are not inclusive. So a range of `[0:5]` starts at `0` and stops before `5`."
   ]
  },
  {
   "cell_type": "code",
   "execution_count": 31,
   "metadata": {},
   "outputs": [
    {
     "data": {
      "text/plain": [
       "'lo world'"
      ]
     },
     "execution_count": 31,
     "metadata": {},
     "output_type": "execute_result"
    }
   ],
   "source": [
    "# from index 6 up to the end of the string\n",
    "s[3:]"
   ]
  },
  {
   "cell_type": "code",
   "execution_count": 30,
   "metadata": {},
   "outputs": [
    {
     "data": {
      "text/plain": [
       "'Hello world'"
      ]
     },
     "execution_count": 30,
     "metadata": {},
     "output_type": "execute_result"
    }
   ],
   "source": [
    "# no start or end specified\n",
    "s[:]"
   ]
  },
  {
   "cell_type": "markdown",
   "metadata": {},
   "source": [
    "In addition to specifying a range, you can add a step size or character skip rate."
   ]
  },
  {
   "cell_type": "code",
   "execution_count": 33,
   "metadata": {},
   "outputs": [
    {
     "data": {
      "text/plain": [
       "'Hlowrd'"
      ]
     },
     "execution_count": 33,
     "metadata": {},
     "output_type": "execute_result"
    }
   ],
   "source": [
    "# Define step size of 2, every other character.\n",
    "s[::2]"
   ]
  },
  {
   "cell_type": "markdown",
   "metadata": {},
   "source": [
    "#### Concatenating\n",
    "To add two strings together, type the first string, an addition sign, and then the second string."
   ]
  },
  {
   "cell_type": "code",
   "execution_count": 1,
   "metadata": {},
   "outputs": [
    {
     "name": "stdout",
     "output_type": "stream",
     "text": [
      "Helloworld!\n"
     ]
    }
   ],
   "source": [
    "print 'Hello'+'world'+'!'"
   ]
  },
  {
   "cell_type": "markdown",
   "metadata": {},
   "source": [
    "You can do the same with variables referring to strings.\n",
    "In the iPython notebook, type:\n"
   ]
  },
  {
   "cell_type": "code",
   "execution_count": 33,
   "metadata": {},
   "outputs": [
    {
     "data": {
      "text/plain": [
       "'Helloworld'"
      ]
     },
     "execution_count": 33,
     "metadata": {},
     "output_type": "execute_result"
    }
   ],
   "source": [
    "x = 'Hello'\n",
    "y = 'world'\n",
    "\n",
    "x + y"
   ]
  },
  {
   "cell_type": "markdown",
   "metadata": {},
   "source": [
    "There is also \"C-style\" formatting, which allows us to create a string with placeholder values that we can populate."
   ]
  },
  {
   "cell_type": "code",
   "execution_count": 34,
   "metadata": {},
   "outputs": [
    {
     "name": "stdout",
     "output_type": "stream",
     "text": [
      "value = 1.000000\n"
     ]
    }
   ],
   "source": [
    "# C-style formatting\n",
    "print(\"value = %f\" % 1.0) \n",
    "# \"%f\" is the placeholder for a float."
   ]
  },
  {
   "cell_type": "code",
   "execution_count": 35,
   "metadata": {},
   "outputs": [
    {
     "name": "stdout",
     "output_type": "stream",
     "text": [
      "value1 = 3.1415, value2 = 1.5\n"
     ]
    }
   ],
   "source": [
    "# alternative, more intuitive way of formatting a string \n",
    "s3 = 'value1 = {0}, value2 = {1}'.format(3.1415, 1.5)\n",
    "print(s3)"
   ]
  },
  {
   "cell_type": "markdown",
   "metadata": {},
   "source": [
    "Multiplying is very easy and straightforward."
   ]
  },
  {
   "cell_type": "code",
   "execution_count": 2,
   "metadata": {},
   "outputs": [
    {
     "name": "stdout",
     "output_type": "stream",
     "text": [
      "What is your name?bridget\n",
      "Hi bridget\n"
     ]
    }
   ],
   "source": [
    "x = raw_input(\"What is your name?\")\n",
    "print \"Hi \" + x"
   ]
  },
  {
   "cell_type": "markdown",
   "metadata": {},
   "source": [
    "<a id='lists'></a>\n",
    "\n",
    "\n",
    "## Lists\n",
    "\n",
    "Lists are a way of storing ordered data.\n",
    "\n",
    "Lists can be composed of ints, floats, strings, or other lists, as well as other data types we have not covered yet."
   ]
  },
  {
   "cell_type": "code",
   "execution_count": 35,
   "metadata": {},
   "outputs": [
    {
     "name": "stdout",
     "output_type": "stream",
     "text": [
      "<type 'list'>\n",
      "[1, 2, 3, 4]\n"
     ]
    }
   ],
   "source": [
    "l = [1,2,3,4]\n",
    "\n",
    "print(type(l))\n",
    "print(l)"
   ]
  },
  {
   "cell_type": "code",
   "execution_count": 36,
   "metadata": {
    "collapsed": true
   },
   "outputs": [],
   "source": [
    "# The contents of a variable can be reassigned to another variable.\n",
    "a = l"
   ]
  },
  {
   "cell_type": "code",
   "execution_count": 38,
   "metadata": {},
   "outputs": [
    {
     "name": "stdout",
     "output_type": "stream",
     "text": [
      "[1, 2, 3, 4]\n"
     ]
    }
   ],
   "source": [
    "print a"
   ]
  },
  {
   "cell_type": "code",
   "execution_count": 43,
   "metadata": {},
   "outputs": [
    {
     "name": "stdout",
     "output_type": "stream",
     "text": [
      "['Joseph', 'Bob', 'Rick']\n"
     ]
    }
   ],
   "source": [
    "# list of strings\n",
    "names = ['Joseph', 'Bob', 'Rick']\n",
    "print(names)"
   ]
  },
  {
   "cell_type": "markdown",
   "metadata": {},
   "source": [
    "Lists also have several methods that allow us to alter them, such as the `.append()` method, which allows us to add another element on to the end of a list."
   ]
  },
  {
   "cell_type": "code",
   "execution_count": 44,
   "metadata": {
    "collapsed": true
   },
   "outputs": [],
   "source": [
    "names.append('John')"
   ]
  },
  {
   "cell_type": "code",
   "execution_count": 45,
   "metadata": {},
   "outputs": [
    {
     "data": {
      "text/plain": [
       "['Joseph', 'Bob', 'Rick', 'John']"
      ]
     },
     "execution_count": 45,
     "metadata": {},
     "output_type": "execute_result"
    }
   ],
   "source": [
    "names\n"
   ]
  },
  {
   "cell_type": "code",
   "execution_count": 43,
   "metadata": {},
   "outputs": [
    {
     "name": "stdout",
     "output_type": "stream",
     "text": [
      "[2, 3]\n",
      "[1, 3]\n"
     ]
    }
   ],
   "source": [
    "# Lists can be indexed in the same method as strings.\n",
    "print(l[1:3])\n",
    "print(l[::2])"
   ]
  },
  {
   "cell_type": "code",
   "execution_count": 44,
   "metadata": {},
   "outputs": [
    {
     "data": {
      "text/plain": [
       "'ob'"
      ]
     },
     "execution_count": 44,
     "metadata": {},
     "output_type": "execute_result"
    }
   ],
   "source": [
    "# We can slice a value in a list as well.\n",
    "names[1][1:]"
   ]
  },
  {
   "cell_type": "markdown",
   "metadata": {},
   "source": [
    "In the example above, the first index slice gets the string \"`Bob`\", and the second indexing aspect gets the characters in \"`Bob`\" at index 1 until the end."
   ]
  },
  {
   "cell_type": "code",
   "execution_count": 45,
   "metadata": {},
   "outputs": [
    {
     "name": "stdout",
     "output_type": "stream",
     "text": [
      "[1, 'a', 1.0, (1-1j)]\n"
     ]
    }
   ],
   "source": [
    "# Lists don't have to be the same type.\n",
    "l = [1, 'a', 1.0, 1-1j]\n",
    "print(l)"
   ]
  },
  {
   "cell_type": "code",
   "execution_count": 48,
   "metadata": {},
   "outputs": [
    {
     "data": {
      "text/plain": [
       "[10, 13, 16, 19, 22, 25, 28]"
      ]
     },
     "execution_count": 48,
     "metadata": {},
     "output_type": "execute_result"
    }
   ],
   "source": [
    "# We can create a list of values in a range using the \"range\" function.\n",
    "start = 10\n",
    "stop = 30\n",
    "step = 3\n",
    "range(start, stop, step)\n",
    "\n",
    "# Consume the iterator created by range.\n",
    "list(range(start, stop, step))"
   ]
  },
  {
   "cell_type": "markdown",
   "metadata": {},
   "source": [
    "Here's how we create a list from scratch."
   ]
  },
  {
   "cell_type": "code",
   "execution_count": 49,
   "metadata": {},
   "outputs": [
    {
     "name": "stdout",
     "output_type": "stream",
     "text": [
      "['A', 'd', 'd']\n"
     ]
    }
   ],
   "source": [
    "# Create a new empty list.\n",
    "l = []\n",
    "\n",
    "# Add an element using `append`.\n",
    "l.append(\"A\")\n",
    "l.append(\"d\")\n",
    "l.append(\"d\")\n",
    "\n",
    "print(l)"
   ]
  },
  {
   "cell_type": "code",
   "execution_count": 50,
   "metadata": {},
   "outputs": [
    {
     "name": "stdout",
     "output_type": "stream",
     "text": [
      "['A', 'B', 'c']\n"
     ]
    }
   ],
   "source": [
    "# Reassign a range of values with another list.\n",
    "l[1:3] = [\"B\", \"c\"]\n",
    "print(l)"
   ]
  },
  {
   "cell_type": "markdown",
   "metadata": {},
   "source": [
    "Use the `.insert()` method to add values at specific indexes."
   ]
  },
  {
   "cell_type": "code",
   "execution_count": 51,
   "metadata": {},
   "outputs": [
    {
     "name": "stdout",
     "output_type": "stream",
     "text": [
      "['i', 'n', 's', 'e', 'r', 'A', 't', 'B', 'c']\n"
     ]
    }
   ],
   "source": [
    "l.insert(0, \"i\")\n",
    "l.insert(1, \"n\")\n",
    "l.insert(2, \"s\")\n",
    "l.insert(3, \"e\")\n",
    "l.insert(4, \"r\")\n",
    "l.insert(6, \"t\")\n",
    "\n",
    "print(l)"
   ]
  },
  {
   "cell_type": "markdown",
   "metadata": {},
   "source": [
    "If a value already exists at an index where the new value is trying to be inserted, the original value gets bumped to the next index.\n",
    "\n",
    "---\n",
    "The `.remove()` method can be used to remove specific values if they appear in a list."
   ]
  },
  {
   "cell_type": "code",
   "execution_count": 50,
   "metadata": {},
   "outputs": [
    {
     "name": "stdout",
     "output_type": "stream",
     "text": [
      "['i', 'n', 's', 'e', 'r', 't', 'b', 'c']\n"
     ]
    }
   ],
   "source": [
    "l.remove(\"A\")\n",
    "print(l)"
   ]
  },
  {
   "cell_type": "markdown",
   "metadata": {},
   "source": [
    "On the other hand, the `del` function can be used with a list and index to delete values."
   ]
  },
  {
   "cell_type": "code",
   "execution_count": 51,
   "metadata": {},
   "outputs": [
    {
     "name": "stdout",
     "output_type": "stream",
     "text": [
      "['i', 'n', 's', 'e', 'r', 't']\n"
     ]
    }
   ],
   "source": [
    "\n",
    "del l[7]\n",
    "del l[6]\n",
    "\n",
    "print(l)"
   ]
  },
  {
   "cell_type": "markdown",
   "metadata": {},
   "source": [
    "<a id='tuples'></a>\n",
    "\n",
    "\n",
    "## Tuples\n",
    "\n",
    "Tuples are similar to lists in that they store a sequence of various separate values. However, tuples are not mutable, in that once they are created, the values in them cannot be changed."
   ]
  },
  {
   "cell_type": "code",
   "execution_count": 52,
   "metadata": {},
   "outputs": [
    {
     "name": "stdout",
     "output_type": "stream",
     "text": [
      "((10, 20), <type 'tuple'>)\n"
     ]
    }
   ],
   "source": [
    "point = (10, 20)\n",
    "print(point, type(point))"
   ]
  },
  {
   "cell_type": "code",
   "execution_count": 53,
   "metadata": {},
   "outputs": [
    {
     "data": {
      "text/plain": [
       "10"
      ]
     },
     "execution_count": 53,
     "metadata": {},
     "output_type": "execute_result"
    }
   ],
   "source": [
    "# They can be sliced just like lists and strings.\n",
    "point[0]"
   ]
  },
  {
   "cell_type": "markdown",
   "metadata": {},
   "source": [
    "Unpacking a variable is a common practice when iterating through Python data types. Unpacking essentially allows us to simultaneously set new variables to items in a list, tuple, or dictionary.  "
   ]
  },
  {
   "cell_type": "code",
   "execution_count": 54,
   "metadata": {},
   "outputs": [
    {
     "name": "stdout",
     "output_type": "stream",
     "text": [
      "('x =', 10)\n",
      "('y =', 20)\n"
     ]
    }
   ],
   "source": [
    "# unpacking\n",
    "x, y = point\n",
    "\n",
    "print(\"x =\", x)\n",
    "print(\"y =\", y)"
   ]
  },
  {
   "cell_type": "markdown",
   "metadata": {},
   "source": [
    "<a id='dictionary'></a>\n",
    "\n",
    "\n",
    "## Dictionaries\n",
    "\n",
    "Dictionaries are a nonsequential Python data type. Instead of using an ordered index to access data stored in a dictionary, we use a system of key-value pairs.\n",
    "\n",
    "A key is similar to a variable name. \n",
    "A value is similar to the value assigned to the variable.\n",
    "\n",
    "Curly brackets ({ }) enclose dictionaries. Note: You can also use curly brackets to construct a set. The first input in a dictionary pair is the \"key\". The second input in a dictionary pair is the \"value\". The general format looks like this:"
   ]
  },
  {
   "cell_type": "code",
   "execution_count": 52,
   "metadata": {},
   "outputs": [
    {
     "name": "stdout",
     "output_type": "stream",
     "text": [
      "<type 'dict'>\n",
      "{'key3': 3.0, 'key2': 2.0, 'key1': 1.0}\n"
     ]
    }
   ],
   "source": [
    "params = {\"key1\" : 1.0,\n",
    "          \"key2\" : 2.0,\n",
    "          \"key3\" : 3.0,}\n",
    "\n",
    "print(type(params))\n",
    "print(params)"
   ]
  },
  {
   "cell_type": "markdown",
   "metadata": {},
   "source": [
    "The keys stay the same but the values are changeable. You can also only have one occurrence of a key in a dictionary, but you may have the values all be the same."
   ]
  },
  {
   "cell_type": "code",
   "execution_count": 54,
   "metadata": {},
   "outputs": [
    {
     "data": {
      "text/plain": [
       "1.0"
      ]
     },
     "execution_count": 54,
     "metadata": {},
     "output_type": "execute_result"
    }
   ],
   "source": [
    "# value for parameter2 in the params dictionary\n",
    "params[\"key1\"]"
   ]
  },
  {
   "cell_type": "code",
   "execution_count": 57,
   "metadata": {
    "collapsed": true
   },
   "outputs": [],
   "source": [
    "# adding a new dictionary entry\n",
    "params[\"key4\"] = \"D\""
   ]
  },
  {
   "cell_type": "code",
   "execution_count": 58,
   "metadata": {},
   "outputs": [
    {
     "name": "stdout",
     "output_type": "stream",
     "text": [
      "{'key3': 3.0, 'key2': 2.0, 'key1': 1.0, 'key4': 'D'}\n"
     ]
    }
   ],
   "source": [
    "# Print the entirety of the dictionary.\n",
    "print(params)"
   ]
  },
  {
   "cell_type": "code",
   "execution_count": 59,
   "metadata": {
    "collapsed": true
   },
   "outputs": [],
   "source": [
    "# Reassigning the value of a key-value pair in the dictionary.\n",
    "params[\"key1\"] = \"A\"\n",
    "params[\"key\"] = \"B\"\n",
    "\n"
   ]
  },
  {
   "cell_type": "code",
   "execution_count": 60,
   "metadata": {},
   "outputs": [
    {
     "name": "stdout",
     "output_type": "stream",
     "text": [
      "hamburger = A\n",
      "Key 1 = 2.0\n",
      "Key 2 = 3.0\n",
      "Key 3 = D\n"
     ]
    }
   ],
   "source": [
    "print(\"hamburger = \" + str(params[\"key1\"]))\n",
    "print(\"Key 1 = \" + str(params[\"key2\"]))\n",
    "print(\"Key 2 = \" + str(params[\"key3\"]))\n",
    "print(\"Key 3 = \" + str(params[\"key4\"]))"
   ]
  },
  {
   "cell_type": "markdown",
   "metadata": {},
   "source": [
    "<a id='import'></a>\n",
    "\n",
    "## Importing Packages and Documentation"
   ]
  },
  {
   "cell_type": "markdown",
   "metadata": {},
   "source": [
    "Not everything we will use is readily available in Python. Sometimes, we'll need to import packages, which are assemblies of functions, or additional data types."
   ]
  },
  {
   "cell_type": "code",
   "execution_count": 61,
   "metadata": {},
   "outputs": [
    {
     "name": "stdout",
     "output_type": "stream",
     "text": [
      "1.0\n"
     ]
    }
   ],
   "source": [
    "import math\n",
    "\n",
    "x = math.cos(2 * math.pi)\n",
    "print(x)"
   ]
  },
  {
   "cell_type": "markdown",
   "metadata": {
    "collapsed": true
   },
   "source": [
    "Import the whole module into the current namespace instead."
   ]
  },
  {
   "cell_type": "code",
   "execution_count": 62,
   "metadata": {},
   "outputs": [
    {
     "name": "stdout",
     "output_type": "stream",
     "text": [
      "1.0\n"
     ]
    }
   ],
   "source": [
    "from math import *\n",
    "x = cos(2 * pi)\n",
    "print(x)"
   ]
  },
  {
   "cell_type": "markdown",
   "metadata": {},
   "source": [
    "There are several ways to look at documentation for a module. Within the Jupyter notebook we can use the `help()` function, or you can place your cursor inside of a function and press \"`shift + tab`\"."
   ]
  },
  {
   "cell_type": "code",
   "execution_count": 63,
   "metadata": {},
   "outputs": [
    {
     "name": "stdout",
     "output_type": "stream",
     "text": [
      "Help on built-in function cos in module math:\n",
      "\n",
      "cos(...)\n",
      "    cos(x)\n",
      "    \n",
      "    Return the cosine of x (measured in radians).\n",
      "\n"
     ]
    }
   ],
   "source": [
    "help(math.cos)"
   ]
  },
  {
   "cell_type": "markdown",
   "metadata": {},
   "source": [
    "<a name=\"ind-practice\"></a>\n",
    "## Independent Practice: Topic \n",
    "Pair up, and using strings, lists, indexing, concatenation, as well as other Python elements discussed in this lesson, make up your own statements and see if your partner can tell you what will be returned BEFORE running it.\n",
    "\n",
    "\n",
    "\n",
    "----\n"
   ]
  },
  {
   "cell_type": "markdown",
   "metadata": {},
   "source": [
    "<a id='py_i'></a>\n",
    "## Part 2: Python Iterations, Control Flow, and Functions\n",
    "\n",
    "We've gone over how data can exist within the Python language. Now let's look at the core ways of interacting with it.\n",
    "\n",
    "- `if…elif…else` statements\n",
    "- `for` and `while` loops\n",
    "- Error handling with `try` and `except`\n",
    "- Functions\n",
    "\n",
    "\n",
    "First, let's bring in one of the many libraries Python has available to help us with some of the statements we'll be creating."
   ]
  },
  {
   "cell_type": "code",
   "execution_count": 1,
   "metadata": {
    "collapsed": true
   },
   "outputs": [],
   "source": [
    "import numpy as np"
   ]
  },
  {
   "cell_type": "markdown",
   "metadata": {},
   "source": [
    "NumPy is one of the core data science libraries you will use. It has many functions for many useful mathematical operations already built so we don't have to build them ourselves.\n",
    "\n",
    "All you _need_ to do to import a library is execute ``` import <library name>```. In our situation, we import NumPy and assign it to the value 'np', which allows us to use 'np' as a shorthand.  \n",
    "\n",
    "_Why would we do this?_\n",
    "To access one of the functions within NumPy we would still have to call \"numpy\" `numpy.mean(x)`, and this just creates a shorthand for doing so."
   ]
  },
  {
   "cell_type": "markdown",
   "metadata": {},
   "source": [
    "<a id='if_else_statements'></a>\n",
    "\n",
    "# `if…else` Statements\n",
    "\n",
    "---\n",
    "\n",
    "### 1. Write an `if…else` statement to check whether the suitcase is over 50 pounds.\n",
    "\n",
    "Print a message indicating whether or not the suitcase is over 50 pounds."
   ]
  },
  {
   "cell_type": "code",
   "execution_count": 2,
   "metadata": {},
   "outputs": [
    {
     "name": "stdout",
     "output_type": "stream",
     "text": [
      "How many pounds does your suitcase weigh?57\n"
     ]
    }
   ],
   "source": [
    "weight = float(input(\"How many pounds does your suitcase weigh?\"))"
   ]
  },
  {
   "cell_type": "code",
   "execution_count": 3,
   "metadata": {},
   "outputs": [
    {
     "name": "stdout",
     "output_type": "stream",
     "text": [
      "Suitcase over 50\n"
     ]
    }
   ],
   "source": [
    "# A:\n",
    "if weight > 50:\n",
    "    print \"Suitcase over 50\"\n",
    "else:\n",
    "    print \"Suitcase under or equal to 50\"\n"
   ]
  },
  {
   "cell_type": "markdown",
   "metadata": {},
   "source": [
    "---\n",
    "\n",
    "### 2. Write an `if…else` statement for multiple conditions.\n",
    "\n",
    "Print out these recommendations based on the weather conditions:\n",
    "\n",
    "1. The temperature is higher than 60 degrees and it is raining: Bring an umbrella.\n",
    "2. The temperature is lower than or equal to 60 degrees and it is raining: Bring an umbrella and a jacket.\n",
    "3. The temperature is higher than 60 degrees and the sun is shining: Wear a T-shirt.\n",
    "4. The temperature is lower than or equal to 60 degrees and the sun is shining: Bring a jacket."
   ]
  },
  {
   "cell_type": "code",
   "execution_count": 78,
   "metadata": {},
   "outputs": [
    {
     "name": "stdout",
     "output_type": "stream",
     "text": [
      "What is the temperature? 49\n",
      "What is the weather (rain or shine)? shine\n"
     ]
    }
   ],
   "source": [
    "temperature = float(input('What is the temperature? '))\n",
    "weather = raw_input('What is the weather (rain or shine)? ')"
   ]
  },
  {
   "cell_type": "code",
   "execution_count": 79,
   "metadata": {},
   "outputs": [
    {
     "name": "stdout",
     "output_type": "stream",
     "text": [
      "bring a jacket\n"
     ]
    }
   ],
   "source": [
    "# A:\n",
    "if temperature >60 and weather == 'rain':\n",
    "    print \"bring an umbrella\"\n",
    "elif temperature <= 60 and weather == 'rain':\n",
    "    print \"bring and umbrella and a jacket\"\n",
    "elif temperature >60 and weather == 'shine':\n",
    "    print \"wear a tshit\"\n",
    "else:\n",
    "    print \"bring a jacket\""
   ]
  },
  {
   "cell_type": "markdown",
   "metadata": {},
   "source": [
    "---\n",
    "<a id='for_loops'></a>\n",
    "# `for` Loops\n",
    "\n",
    "\n",
    "One of the core aspects of using a programming language is to automate repetitive tasks. One just means in Python is the `for` loop.\n",
    "\n",
    "The `for` loop allows you to perform a repetitive task on every element within an object, such as every every name in a list.\n",
    "\n",
    "\n",
    "Let's see how the pseudocode works.\n",
    "\n",
    "```python\n",
    "# For each individual object in the list\n",
    "    # perform task_A on said object.\n",
    "    # Once task_A has been completed, move to next object in the list.\n",
    "```\n",
    "\n",
    "Let's say we wanted to print each of the names in the list, as well as \"Is Awesome!\""
   ]
  },
  {
   "cell_type": "code",
   "execution_count": 69,
   "metadata": {},
   "outputs": [
    {
     "name": "stdout",
     "output_type": "stream",
     "text": [
      "Alex Is Awesome!\n",
      "Brian Is Awesome!\n",
      "Catherine Is Awesome!\n"
     ]
    }
   ],
   "source": [
    "names = ['Alex','Brian', 'Catherine']\n",
    "\n",
    "for name in names:\n",
    "    print name + ' Is Awesome!'"
   ]
  },
  {
   "cell_type": "markdown",
   "metadata": {},
   "source": [
    "This process of cycling through a list item by item is known as \"iteration\". "
   ]
  },
  {
   "cell_type": "markdown",
   "metadata": {},
   "source": [
    "---\n",
    "\n",
    "### 3. Write a `for` loop that iterates from number 1 to number 15.\n",
    "\n",
    "On each iteration, print out the number.  \n",
    "\n"
   ]
  },
  {
   "cell_type": "code",
   "execution_count": 1,
   "metadata": {},
   "outputs": [
    {
     "name": "stdout",
     "output_type": "stream",
     "text": [
      "1\n",
      "2\n",
      "3\n",
      "4\n",
      "5\n",
      "6\n",
      "7\n",
      "8\n",
      "9\n",
      "10\n",
      "11\n",
      "12\n",
      "13\n",
      "14\n",
      "15\n"
     ]
    }
   ],
   "source": [
    "# A: \n",
    "\n",
    "num = range(1,16)\n",
    "\n",
    "for numbers in num:\n",
    "    print numbers"
   ]
  },
  {
   "cell_type": "markdown",
   "metadata": {},
   "source": [
    "---\n",
    "\n",
    "### 4. Iterate from 1 to 15, printing whether the number is odd or even.\n",
    "\n",
    "Hint: The modulus operator, `%`, can be used to take the remainder. For example:\n",
    "\n",
    "```python\n",
    "9 % 5 == 4\n",
    "```\n",
    "\n",
    "Or, in other words, the remainder of dividing 9 by 5 is 4."
   ]
  },
  {
   "cell_type": "code",
   "execution_count": 93,
   "metadata": {},
   "outputs": [
    {
     "name": "stdout",
     "output_type": "stream",
     "text": [
      "1 odd\n",
      "2 even\n",
      "3 odd\n",
      "4 even\n",
      "5 odd\n",
      "6 even\n",
      "7 odd\n",
      "8 even\n",
      "9 odd\n",
      "10 even\n",
      "11 odd\n",
      "12 even\n",
      "13 odd\n",
      "14 even\n",
      "15 odd\n"
     ]
    }
   ],
   "source": [
    "# A: num = range(1,16)\n",
    "\n",
    "num = range(1,16)\n",
    "\n",
    "for numbers in num:\n",
    "    if numbers % 2 == 1:\n",
    "        print str(numbers)+\" odd\"\n",
    "    else:\n",
    "        print str(numbers)+\" even\"\n",
    "    "
   ]
  },
  {
   "cell_type": "markdown",
   "metadata": {},
   "source": [
    "---\n",
    "<a id='fizz_buzz'></a>\n",
    "### 5. Iterate from 1 to 30 with the following instructions:\n",
    "\n",
    "1. If a number is divisible by 3, print \"fizz\". \n",
    "2. If a number is divisible by 5, print \"buzz\". \n",
    "3. If a number is both divisible by 3 and 5 print \"fizzbuzz\".\n",
    "4. Otherwise, print just the number."
   ]
  },
  {
   "cell_type": "code",
   "execution_count": 2,
   "metadata": {},
   "outputs": [
    {
     "name": "stdout",
     "output_type": "stream",
     "text": [
      "1\n",
      "2\n",
      "fizz!\n",
      "4\n",
      "buzz!\n",
      "fizz!\n",
      "7\n",
      "8\n",
      "fizz!\n",
      "buzz!\n",
      "11\n",
      "fizz!\n",
      "13\n",
      "14\n",
      "fizzbuzz!\n",
      "fizz!\n",
      "16\n",
      "17\n",
      "fizz!\n",
      "19\n",
      "buzz!\n",
      "fizz!\n",
      "22\n",
      "23\n",
      "fizz!\n",
      "buzz!\n",
      "26\n",
      "fizz!\n",
      "28\n",
      "29\n",
      "fizzbuzz!\n",
      "fizz!\n"
     ]
    }
   ],
   "source": [
    "# A:\n",
    "\n",
    "num = range(1,31)\n",
    "\n",
    "for numbers in num:\n",
    "    if (numbers%3 == 0) and (numbers%5 == 0):\n",
    "        print \"fizzbuzz!\"\n",
    "    if numbers % 3 == 0:\n",
    "        print \"fizz!\"\n",
    "    elif numbers % 5 == 0:\n",
    "        print \"buzz!\"\n",
    "    else:\n",
    "        print numbers\n"
   ]
  },
  {
   "cell_type": "markdown",
   "metadata": {},
   "source": [
    "Remember this example. FizzBuzz is a common coding challenge. It is relatively easy to solve, but those who ask are always looking for more creative ways to solve or optimize it."
   ]
  },
  {
   "cell_type": "markdown",
   "metadata": {},
   "source": [
    "---\n",
    "\n",
    "### 6. Iterate through the following list of animals, and print each one in all caps."
   ]
  },
  {
   "cell_type": "code",
   "execution_count": 46,
   "metadata": {},
   "outputs": [
    {
     "name": "stdout",
     "output_type": "stream",
     "text": [
      "['duck', 'cat', 'boar', 'slug', 'mammoth', 'gazelle']\n"
     ]
    }
   ],
   "source": [
    "animals = ['duck', 'cat', 'boar', 'slug', 'mammoth', 'gazelle']\n",
    "print(animals)"
   ]
  },
  {
   "cell_type": "code",
   "execution_count": 31,
   "metadata": {},
   "outputs": [
    {
     "name": "stdout",
     "output_type": "stream",
     "text": [
      "DUCK\n",
      "CAT\n",
      "BOAR\n",
      "SLUG\n",
      "MAMMOTH\n",
      "GAZELLE\n"
     ]
    }
   ],
   "source": [
    "# A: \n",
    "for fun in animals:\n",
    "    print(fun.upper())\n",
    "    "
   ]
  },
  {
   "cell_type": "markdown",
   "metadata": {},
   "source": [
    "---\n",
    "\n",
    "### 7. Iterate through the animals list. Capitalize the first letter and append the modified animals to a new list."
   ]
  },
  {
   "cell_type": "code",
   "execution_count": 32,
   "metadata": {},
   "outputs": [
    {
     "name": "stdout",
     "output_type": "stream",
     "text": [
      "['Duck', 'Cat', 'Boar', 'Slug', 'Mammoth', 'Gazelle']\n"
     ]
    }
   ],
   "source": [
    "\n",
    "newlist=[]\n",
    "\n",
    "for morefun in animals:\n",
    "    x=(morefun.title())\n",
    "    newlist.append(x)\n",
    "print(newlist)"
   ]
  },
  {
   "cell_type": "markdown",
   "metadata": {},
   "source": [
    "---\n",
    "\n",
    "### 8. Iterate through the animals. Print out the animal name and the number of vowels in the name.\n",
    "Hint: You may need to create a variable of vowels for comparison."
   ]
  },
  {
   "cell_type": "code",
   "execution_count": 54,
   "metadata": {},
   "outputs": [
    {
     "name": "stdout",
     "output_type": "stream",
     "text": [
      "1 duck\n",
      "1 cat\n",
      "2 boar\n",
      "1 slug\n",
      "2 mammoth\n",
      "3 gazelle\n"
     ]
    }
   ],
   "source": [
    "vowels = \"aeiou\"\n",
    "    \n",
    "for a1 in animals:\n",
    "    num_vowels=0\n",
    "    for a2 in a1:\n",
    "        if a2 in vowels:\n",
    "            num_vowels +=1\n",
    "    print str(num_vowels)+ ' ' + a1  \n",
    "\n"
   ]
  },
  {
   "cell_type": "markdown",
   "metadata": {},
   "source": [
    "---\n",
    "\n",
    "# Functions\n",
    "---\n",
    "\n",
    "Similar to the way we can use `for` loops as a means of performing repetitive tasks on a series of objects, we can also create functions to perform repetitive tasks. Within a function, we can write a large block of action and then call the function whenever we want to use it.  \n",
    "\n",
    "\n",
    "Let's make some pseudocode.\n",
    "```python\n",
    "# Define the function name and the requirements it needs.\n",
    "    # Perform actions.\n",
    "    # Optional: Return output.\n",
    "```\n",
    "\n",
    "Let's create a function that takes two numbers as arguments and returns their sum, difference, and product. "
   ]
  },
  {
   "cell_type": "code",
   "execution_count": 64,
   "metadata": {},
   "outputs": [
    {
     "name": "stdout",
     "output_type": "stream",
     "text": [
      "8\n",
      "-2\n",
      "15\n"
     ]
    }
   ],
   "source": [
    "def arithmetic(num1, num2):\n",
    "    print num1 + num2\n",
    "    print num1 - num2\n",
    "    print num1 * num2\n",
    "    \n",
    "arithmetic(3,5)"
   ]
  },
  {
   "cell_type": "markdown",
   "metadata": {},
   "source": [
    "Once we define the function, it will exist until we reset our kernel, close our notebook, or overwrite it."
   ]
  },
  {
   "cell_type": "code",
   "execution_count": 65,
   "metadata": {},
   "outputs": [
    {
     "name": "stdout",
     "output_type": "stream",
     "text": [
      "14\n",
      "-6\n",
      "40\n"
     ]
    }
   ],
   "source": [
    "arithmetic(4,10)"
   ]
  },
  {
   "cell_type": "markdown",
   "metadata": {},
   "source": [
    "### 9. Write a function that takes a word as an argument and returns the number of vowels in the word.\n",
    "\n",
    "Try it out on three words."
   ]
  },
  {
   "cell_type": "code",
   "execution_count": 75,
   "metadata": {},
   "outputs": [
    {
     "data": {
      "text/plain": [
       "49"
      ]
     },
     "execution_count": 75,
     "metadata": {},
     "output_type": "execute_result"
    }
   ],
   "source": [
    "# A:\n",
    "\n",
    "\n",
    "\n",
    "def countvowels(string):\n",
    "    num_vowels=0\n",
    "    for char in string:\n",
    "        if char in \"aeiouAEIOU\":\n",
    "            num_vowels = num_vowels+1\n",
    "    return num_vowels\n",
    "\n",
    "countvowels('aaaaaaaaaaaaaaaaaaaaaaaaaaaaaaaaaaaaaaaaaaaaaaaa a')"
   ]
  },
  {
   "cell_type": "markdown",
   "metadata": {},
   "source": [
    "---\n",
    "\n",
    "### 10. Write a function to calculate the area of a triangle using a height and width.\n",
    "\n",
    "Test it out."
   ]
  },
  {
   "cell_type": "code",
   "execution_count": 70,
   "metadata": {},
   "outputs": [
    {
     "data": {
      "text/plain": [
       "10.5"
      ]
     },
     "execution_count": 70,
     "metadata": {},
     "output_type": "execute_result"
    }
   ],
   "source": [
    "# A:\n",
    "\n",
    "def tri_area(b,h):\n",
    "    return (float(b*h)/2)\n",
    "    \n",
    "tri_area(3,7)"
   ]
  },
  {
   "cell_type": "markdown",
   "metadata": {},
   "source": [
    "---\n",
    "<a id='while_loops'></a>\n",
    "# `while` Loops\n",
    "---\n",
    "\n",
    "\n",
    "`while` loops are a different means of performing repetitive tasks/iteration. The function of a `for` loop is to perform tasks over a _finite list_. The function of a `while` loop is to perform a repetitive task until a _specific threshold or criteria is met_. Keep in mind this can be relatively dangerous, as it is easy to create a loop that never meets a criteria and runs forever.\n",
    "\n",
    "_We say \"list\", but we are not just talking about a Python list datatype. We're including any datatype where information can be iterated through._\n",
    "\n",
    "Let's look at some pseudocode.\n",
    "\n",
    "```python\n",
    "# A threshold or criteria is set.\n",
    "    # As long as the threshold or criteria isn't met,\n",
    "    # perform a task.\n",
    "    # Check threshold/criteria.\n",
    "        # If threshold/criteria is met or exceed,\n",
    "            # break loop.\n",
    "        # If not, repeat.\n",
    "    \n",
    "```\n",
    "\n",
    "Example of an infinite `while` loop:\n",
    "\n",
    "```python\n",
    "x = 0\n",
    "While x < 10:\n",
    "    print x\n",
    "```\n",
    "\n",
    "Because the value assigned to `x` never changes and always remains below 10, this loop will print \"`x`\" infinitely until you force-kill the kernel. \n",
    "We can fix this infinity loop by having a incrementation for `x` within the loop.\n",
    "\n",
    "```python\n",
    "x = 0\n",
    "While x < 10:\n",
    "    print x\n",
    "    x = x+1\n",
    "```\n",
    "\n"
   ]
  },
  {
   "cell_type": "markdown",
   "metadata": {},
   "source": [
    "### 11. Use `while` loops and strings.\n",
    "\n",
    "Iterate over the following sentence repeatedly, counting the number of vowels in the sentence until you have tallied 1 million. Print out the number of iterations it took to reach that amount."
   ]
  },
  {
   "cell_type": "code",
   "execution_count": 73,
   "metadata": {
    "collapsed": true
   },
   "outputs": [],
   "source": [
    "sentence = \"A MAN KNOCKED ON MY DOOR AND ASKED FOR A SMALL DONATION TOWARDS THE LOCAL SWIMMING POOL SO I GAVE HIM A GLASS OF WATER\""
   ]
  },
  {
   "cell_type": "code",
   "execution_count": 81,
   "metadata": {},
   "outputs": [
    {
     "name": "stdout",
     "output_type": "stream",
     "text": [
      "iterations:  27778\n",
      "vowels:  1000008\n"
     ]
    }
   ],
   "source": [
    "# A:\n",
    "\n",
    "\n",
    "iterations = 0\n",
    "vowels = 0\n",
    "while True:\n",
    "    iterations +=1\n",
    "    for char in sentence:\n",
    "        if char in \"AEIOU\":\n",
    "            vowels +=1\n",
    "    if vowels >= 1000000:\n",
    "        break\n",
    "print 'iterations: ', iterations\n",
    "print 'vowels: ', vowels\n",
    "\n",
    "#true evaluates from last if statement, everytime it's false it goes back to WHILE top, once it's false it goes to break line\n",
    "        "
   ]
  },
  {
   "cell_type": "markdown",
   "metadata": {},
   "source": [
    "---\n",
    "\n",
    "### 12. Try to convert elements in a list to floats.\n",
    "\n",
    "Create a new list with the converted numbers. If something cannot be converted, skip it and append nothing to the new list.\n",
    "\n",
    "_Hint: Use error-handling methods._"
   ]
  },
  {
   "cell_type": "code",
   "execution_count": 90,
   "metadata": {
    "collapsed": true
   },
   "outputs": [],
   "source": [
    "corrupted = ['1a', '23.1', '23.4.5', '??12', '.12', '12-12', '-11.1', '0-1', '*12.1', '1000']"
   ]
  },
  {
   "cell_type": "code",
   "execution_count": 92,
   "metadata": {},
   "outputs": [
    {
     "name": "stdout",
     "output_type": "stream",
     "text": [
      "[23.1, 0.12, -11.1, 1000.0]\n"
     ]
    }
   ],
   "source": [
    "# A: \n",
    "cleaned = []\n",
    "\n",
    "for floats in corrupted:\n",
    "    try:\n",
    "        cleaned.append(float(floats))\n",
    "    except:\n",
    "        pass\n",
    "print cleaned"
   ]
  },
  {
   "cell_type": "markdown",
   "metadata": {},
   "source": [
    "---\n",
    "<a id='coffee_preference'></a>\n",
    "\n",
    "# Practice Control Flow on Coffee Preference Data Set\n",
    "\n",
    "### 13. Load coffee preference data from file and print.\n",
    "\n",
    "The code to load in the data is provided below. \n",
    "\n",
    "The `with open(..., 'r') as f:` opens up a file in \"read\" mode (rather than \"write\"), and assigns this opened file to `f`. \n",
    "\n",
    "We can then use the `.readlines()` built-in function to split the csv file on newlines and assign it to the variable `lines`.v"
   ]
  },
  {
   "cell_type": "code",
   "execution_count": 26,
   "metadata": {
    "collapsed": true
   },
   "outputs": [],
   "source": [
    "with open('../assets/datasets/coffee-preferences.csv','r') as f:\n",
    "    lines = f.readlines()"
   ]
  },
  {
   "cell_type": "markdown",
   "metadata": {},
   "source": [
    "#### Iterate through lines and print them out."
   ]
  },
  {
   "cell_type": "code",
   "execution_count": 27,
   "metadata": {},
   "outputs": [
    {
     "name": "stdout",
     "output_type": "stream",
     "text": [
      "Timestamp,Name,Starbucks,PhilzCoffee,BlueBottleCoffee,PeetsTea,CaffeTrieste,GrandCoffee,RitualCoffee,FourBarrel,WorkshopCafe\n",
      "\n",
      "3/17/2015 18:37:58,Alison,3,5,4,3,,,5,5,\n",
      "\n",
      "3/17/2015 18:38:09,April,4,5,5,3,,,3,,5\n",
      "\n",
      "3/17/2015 18:38:25,Vijay,3,5,5,5,3,2,1,1,1\n",
      "\n",
      "3/17/2015 18:38:28,Vanessa,1,5,5,2,,,3,2,3\n",
      "\n",
      "3/17/2015 18:38:46,Isabel,1,4,4,2,4,,4,4,\n",
      "\n",
      "3/17/2015 18:39:01,India,5,3,3,3,3,1,,,3\n",
      "\n",
      "3/17/2015 18:39:01,Dave H,4,5,,5,,,,,\n",
      "\n",
      "3/17/2015 18:39:05,Deepthi,3,5,,2,,,,,2\n",
      "\n",
      "3/17/2015 18:39:14,Ramesh,3,4,,3,,,,,4\n",
      "\n",
      "3/17/2015 18:39:23,Hugh Jass,1,5,5,4,5,2,5,4,1\n",
      "\n",
      "3/17/2015 18:39:23,Alex,4,5,,3,,,,,\n",
      "\n",
      "3/17/2015 18:39:30,Ajay Anand,3,4,4,3,5,,,,\n",
      "\n",
      "3/17/2015 18:39:35,David Feng,2,3,4,2,2,,5,4,3\n",
      "\n",
      "3/17/2015 18:39:42,Zach,3,4,4,3,,,,,5\n",
      "\n",
      "3/17/2015 18:40:44,Matt,3,5,4,3,2,2,4,3,2\n",
      "\n",
      "3/17/2015 18:40:49,Markus,3,5,,3,,,4,,\n",
      "\n",
      "3/17/2015 18:41:18,Otto,4,2,2,5,,,3,3,3\n",
      "\n",
      "3/17/2015 18:41:23,Alessandro,1,5,3,2,,,4,3,\n",
      "\n",
      "3/17/2015 18:41:35,Rocky,3,5,4,3,3,3,4,4,3\n",
      "\n",
      "3/17/2015 18:42:01,cheong-tseng eng,3,1,,,,,4,,\n"
     ]
    }
   ],
   "source": [
    "# A:\n",
    "\n",
    "for test in lines:\n",
    "    print test\n"
   ]
  },
  {
   "cell_type": "markdown",
   "metadata": {},
   "source": [
    "#### Print out just the lines object by typing \"lines\" in a cell and hitting `enter`."
   ]
  },
  {
   "cell_type": "code",
   "execution_count": 3,
   "metadata": {},
   "outputs": [
    {
     "data": {
      "text/plain": [
       "['Timestamp,Name,Starbucks,PhilzCoffee,BlueBottleCoffee,PeetsTea,CaffeTrieste,GrandCoffee,RitualCoffee,FourBarrel,WorkshopCafe\\n',\n",
       " '3/17/2015 18:37:58,Alison,3,5,4,3,,,5,5,\\n',\n",
       " '3/17/2015 18:38:09,April,4,5,5,3,,,3,,5\\n',\n",
       " '3/17/2015 18:38:25,Vijay,3,5,5,5,3,2,1,1,1\\n',\n",
       " '3/17/2015 18:38:28,Vanessa,1,5,5,2,,,3,2,3\\n',\n",
       " '3/17/2015 18:38:46,Isabel,1,4,4,2,4,,4,4,\\n',\n",
       " '3/17/2015 18:39:01,India,5,3,3,3,3,1,,,3\\n',\n",
       " '3/17/2015 18:39:01,Dave H,4,5,,5,,,,,\\n',\n",
       " '3/17/2015 18:39:05,Deepthi,3,5,,2,,,,,2\\n',\n",
       " '3/17/2015 18:39:14,Ramesh,3,4,,3,,,,,4\\n',\n",
       " '3/17/2015 18:39:23,Hugh Jass,1,5,5,4,5,2,5,4,1\\n',\n",
       " '3/17/2015 18:39:23,Alex,4,5,,3,,,,,\\n',\n",
       " '3/17/2015 18:39:30,Ajay Anand,3,4,4,3,5,,,,\\n',\n",
       " '3/17/2015 18:39:35,David Feng,2,3,4,2,2,,5,4,3\\n',\n",
       " '3/17/2015 18:39:42,Zach,3,4,4,3,,,,,5\\n',\n",
       " '3/17/2015 18:40:44,Matt,3,5,4,3,2,2,4,3,2\\n',\n",
       " '3/17/2015 18:40:49,Markus,3,5,,3,,,4,,\\n',\n",
       " '3/17/2015 18:41:18,Otto,4,2,2,5,,,3,3,3\\n',\n",
       " '3/17/2015 18:41:23,Alessandro,1,5,3,2,,,4,3,\\n',\n",
       " '3/17/2015 18:41:35,Rocky,3,5,4,3,3,3,4,4,3\\n',\n",
       " '3/17/2015 18:42:01,cheong-tseng eng,3,1,,,,,4,,']"
      ]
     },
     "execution_count": 3,
     "metadata": {},
     "output_type": "execute_result"
    }
   ],
   "source": [
    "# A:\n",
    "\n",
    "lines"
   ]
  },
  {
   "cell_type": "markdown",
   "metadata": {},
   "source": [
    "---\n",
    "\n",
    "### 14. Remove the remaining newline `'\\n'` characters with a `for` loop.\n",
    "\n",
    "Iterate through the lines of the data and remove the unwanted newline characters.\n",
    "\n",
    "**.replace('\\n', '')** is a built-in string function that will take the substring you want to replace as its first argument, and the string you want to replace it with as its second."
   ]
  },
  {
   "cell_type": "code",
   "execution_count": 16,
   "metadata": {},
   "outputs": [
    {
     "name": "stdout",
     "output_type": "stream",
     "text": [
      "['Timestamp,Name,Starbucks,PhilzCoffee,BlueBottleCoffee,PeetsTea,CaffeTrieste,GrandCoffee,RitualCoffee,FourBarrel,WorkshopCafe', '3/17/2015 18:37:58,Alison,3,5,4,3,,,5,5,', '3/17/2015 18:38:09,April,4,5,5,3,,,3,,5', '3/17/2015 18:38:25,Vijay,3,5,5,5,3,2,1,1,1', '3/17/2015 18:38:28,Vanessa,1,5,5,2,,,3,2,3', '3/17/2015 18:38:46,Isabel,1,4,4,2,4,,4,4,', '3/17/2015 18:39:01,India,5,3,3,3,3,1,,,3', '3/17/2015 18:39:01,Dave H,4,5,,5,,,,,', '3/17/2015 18:39:05,Deepthi,3,5,,2,,,,,2', '3/17/2015 18:39:14,Ramesh,3,4,,3,,,,,4', '3/17/2015 18:39:23,Hugh Jass,1,5,5,4,5,2,5,4,1', '3/17/2015 18:39:23,Alex,4,5,,3,,,,,', '3/17/2015 18:39:30,Ajay Anand,3,4,4,3,5,,,,', '3/17/2015 18:39:35,David Feng,2,3,4,2,2,,5,4,3', '3/17/2015 18:39:42,Zach,3,4,4,3,,,,,5', '3/17/2015 18:40:44,Matt,3,5,4,3,2,2,4,3,2', '3/17/2015 18:40:49,Markus,3,5,,3,,,4,,', '3/17/2015 18:41:18,Otto,4,2,2,5,,,3,3,3', '3/17/2015 18:41:23,Alessandro,1,5,3,2,,,4,3,', '3/17/2015 18:41:35,Rocky,3,5,4,3,3,3,4,4,3', '3/17/2015 18:42:01,cheong-tseng eng,3,1,,,,,4,,']\n",
      "['Timestamp,Name,Starbucks,PhilzCoffee,BlueBottleCoffee,PeetsTea,CaffeTrieste,GrandCoffee,RitualCoffee,FourBarrel,WorkshopCafe\\n', '3/17/2015 18:37:58,Alison,3,5,4,3,,,5,5,\\n', '3/17/2015 18:38:09,April,4,5,5,3,,,3,,5\\n', '3/17/2015 18:38:25,Vijay,3,5,5,5,3,2,1,1,1\\n', '3/17/2015 18:38:28,Vanessa,1,5,5,2,,,3,2,3\\n', '3/17/2015 18:38:46,Isabel,1,4,4,2,4,,4,4,\\n', '3/17/2015 18:39:01,India,5,3,3,3,3,1,,,3\\n', '3/17/2015 18:39:01,Dave H,4,5,,5,,,,,\\n', '3/17/2015 18:39:05,Deepthi,3,5,,2,,,,,2\\n', '3/17/2015 18:39:14,Ramesh,3,4,,3,,,,,4\\n', '3/17/2015 18:39:23,Hugh Jass,1,5,5,4,5,2,5,4,1\\n', '3/17/2015 18:39:23,Alex,4,5,,3,,,,,\\n', '3/17/2015 18:39:30,Ajay Anand,3,4,4,3,5,,,,\\n', '3/17/2015 18:39:35,David Feng,2,3,4,2,2,,5,4,3\\n', '3/17/2015 18:39:42,Zach,3,4,4,3,,,,,5\\n', '3/17/2015 18:40:44,Matt,3,5,4,3,2,2,4,3,2\\n', '3/17/2015 18:40:49,Markus,3,5,,3,,,4,,\\n', '3/17/2015 18:41:18,Otto,4,2,2,5,,,3,3,3\\n', '3/17/2015 18:41:23,Alessandro,1,5,3,2,,,4,3,\\n', '3/17/2015 18:41:35,Rocky,3,5,4,3,3,3,4,4,3\\n', '3/17/2015 18:42:01,cheong-tseng eng,3,1,,,,,4,,']\n"
     ]
    }
   ],
   "source": [
    "# A:\n",
    "\n",
    "new_lines= []\n",
    "\n",
    "for rem in lines:\n",
    "    new_rem = rem.replace('\\n', '')\n",
    "    new_lines.append(new_rem)\n",
    "print(new_lines)\n",
    "print(lines)"
   ]
  },
  {
   "cell_type": "markdown",
   "metadata": {},
   "source": [
    "---\n",
    "\n",
    "### 15. Split the lines into \"header\" and \"data\" variables.\n",
    "\n",
    "The header is the first string in the list of strings. It contains the column names of our data."
   ]
  },
  {
   "cell_type": "code",
   "execution_count": 40,
   "metadata": {},
   "outputs": [
    {
     "name": "stdout",
     "output_type": "stream",
     "text": [
      "<type 'list'>\n",
      "Timestamp,Name,Starbucks,PhilzCoffee,BlueBottleCoffee,PeetsTea,CaffeTrieste,GrandCoffee,RitualCoffee,FourBarrel,WorkshopCafe\n"
     ]
    }
   ],
   "source": [
    "# A:\n",
    "\n",
    "header = new_lines[0]\n",
    "data = new_lines[1:]\n",
    "\n",
    "print data\n",
    "print header"
   ]
  },
  {
   "cell_type": "markdown",
   "metadata": {},
   "source": [
    "---\n",
    "\n",
    "### 16. Split the header and the data strings on commas.\n",
    "\n",
    "To split a string on the comma character, use the built in **`.split(',')`** function. \n",
    "\n",
    "Split the header on commas, then print it. You can see that the original string is now a list containing items that were originally separated by commas."
   ]
  },
  {
   "cell_type": "code",
   "execution_count": 49,
   "metadata": {},
   "outputs": [
    {
     "name": "stdout",
     "output_type": "stream",
     "text": [
      "['Timestamp', 'Name', 'Starbucks', 'PhilzCoffee', 'BlueBottleCoffee', 'PeetsTea', 'CaffeTrieste', 'GrandCoffee', 'RitualCoffee', 'FourBarrel', 'WorkshopCafe']\n"
     ]
    }
   ],
   "source": [
    "# A:\n",
    "\n",
    "head_sp = (header.split(','))\n",
    "\n",
    "print head_sp\n"
   ]
  },
  {
   "cell_type": "markdown",
   "metadata": {},
   "source": [
    "---\n",
    "\n",
    "### 17. Remove the \"Timestamp\" column.\n",
    "\n",
    "We aren't interested in the \"Timestamp\" column in our data, so remove it from the header and the data list.\n",
    "\n",
    "Removing the Timestamp from the header can be done with list functions or with slicing. To remove the header column from the data, use a `for` loop.\n",
    "\n",
    "Print out the new data object with the timestamps removed."
   ]
  },
  {
   "cell_type": "code",
   "execution_count": 114,
   "metadata": {},
   "outputs": [
    {
     "name": "stdout",
     "output_type": "stream",
     "text": [
      "['Name', 'Starbucks', 'PhilzCoffee', 'BlueBottleCoffee', 'PeetsTea', 'CaffeTrieste', 'GrandCoffee', 'RitualCoffee', 'FourBarrel', 'WorkshopCafe']\n",
      "[['Alison', '3', '5', '4', '3', '', '', '5', '5', ''], ['April', '4', '5', '5', '3', '', '', '3', '', '5'], ['Vijay', '3', '5', '5', '5', '3', '2', '1', '1', '1'], ['Vanessa', '1', '5', '5', '2', '', '', '3', '2', '3'], ['Isabel', '1', '4', '4', '2', '4', '', '4', '4', ''], ['India', '5', '3', '3', '3', '3', '1', '', '', '3'], ['Dave H', '4', '5', '', '5', '', '', '', '', ''], ['Deepthi', '3', '5', '', '2', '', '', '', '', '2'], ['Ramesh', '3', '4', '', '3', '', '', '', '', '4'], ['Hugh Jass', '1', '5', '5', '4', '5', '2', '5', '4', '1'], ['Alex', '4', '5', '', '3', '', '', '', '', ''], ['Ajay Anand', '3', '4', '4', '3', '5', '', '', '', ''], ['David Feng', '2', '3', '4', '2', '2', '', '5', '4', '3'], ['Zach', '3', '4', '4', '3', '', '', '', '', '5'], ['Matt', '3', '5', '4', '3', '2', '2', '4', '3', '2'], ['Markus', '3', '5', '', '3', '', '', '4', '', ''], ['Otto', '4', '2', '2', '5', '', '', '3', '3', '3'], ['Alessandro', '1', '5', '3', '2', '', '', '4', '3', ''], ['Rocky', '3', '5', '4', '3', '3', '3', '4', '4', '3'], ['cheong-tseng eng', '3', '1', '', '', '', '', '4', '', '']]\n"
     ]
    }
   ],
   "source": [
    "# A:\n",
    "\n",
    "new_head = head_sp[1:]\n",
    "new_data = []\n",
    "\n",
    "print new_head\n",
    "\n",
    "\n",
    "for no_ts in data:\n",
    "    data_line = (no_ts.split(',')) \n",
    "    new_data.append(data_line[1:])\n",
    "print new_data\n",
    "\n",
    "#now it's a list of lists, rather than a list of strings... \n",
    "\n"
   ]
  },
  {
   "cell_type": "markdown",
   "metadata": {},
   "source": [
    "---\n",
    "\n",
    "### 18. Convert numeric columns to floats and empty fields to `None`.\n",
    "\n",
    "Iterate through the data, and construct a new data list of lists that contains the numeric ratings converted from strings into floats and the empty fields (which are empty strings '') replaced with the None object.\n",
    "\n",
    "Use a nested `for` loop (a `for` loop within another `for` loop) to get the job done. You will likely need to use `if…else` conditional statements as well.\n",
    "\n",
    "Print out the new data object to make sure you've succeeded."
   ]
  },
  {
   "cell_type": "code",
   "execution_count": 227,
   "metadata": {
    "scrolled": false
   },
   "outputs": [
    {
     "name": "stdout",
     "output_type": "stream",
     "text": [
      "['Alison', 3, 5, 4, 3, 'None', 'None', 5, 5, 'None', 'April', 4, 5, 5, 3, 'None', 'None', 3, 'None', 5, 'Vijay', 3, 5, 5, 5, 3, 2, 1, 1, 1, 'Vanessa', 1, 5, 5, 2, 'None', 'None', 3, 2, 3, 'Isabel', 1, 4, 4, 2, 4, 'None', 4, 4, 'None', 'India', 5, 3, 3, 3, 3, 1, 'None', 'None', 3, 'Dave H', 4, 5, 'None', 5, 'None', 'None', 'None', 'None', 'None', 'Deepthi', 3, 5, 'None', 2, 'None', 'None', 'None', 'None', 2, 'Ramesh', 3, 4, 'None', 3, 'None', 'None', 'None', 'None', 4, 'Hugh Jass', 1, 5, 5, 4, 5, 2, 5, 4, 1, 'Alex', 4, 5, 'None', 3, 'None', 'None', 'None', 'None', 'None', 'Ajay Anand', 3, 4, 4, 3, 5, 'None', 'None', 'None', 'None', 'David Feng', 2, 3, 4, 2, 2, 'None', 5, 4, 3, 'Zach', 3, 4, 4, 3, 'None', 'None', 'None', 'None', 5, 'Matt', 3, 5, 4, 3, 2, 2, 4, 3, 2, 'Markus', 3, 5, 'None', 3, 'None', 'None', 4, 'None', 'None', 'Otto', 4, 2, 2, 5, 'None', 'None', 3, 3, 3, 'Alessandro', 1, 5, 3, 2, 'None', 'None', 4, 3, 'None', 'Rocky', 3, 5, 4, 3, 3, 3, 4, 4, 3, 'cheong-tseng eng', 3, 1, 'None', 'None', 'None', 'None', 4, 'None', 'None']\n"
     ]
    }
   ],
   "source": [
    "# A:\n",
    "\n",
    "new_data2 = []\n",
    "new_data3 = []\n",
    "cleaned = []\n",
    "\n",
    "for lines in new_data:\n",
    "    for i in xrange(len(lines)):\n",
    "        if lines[i] == '':\n",
    "            lines[i] = 'None'  \n",
    "    new_data2.append(lines)\n",
    "#print new_data2\n",
    "\n",
    "\n",
    "\n",
    "for lines2 in new_data2:\n",
    "    for records in lines2:\n",
    "        try:\n",
    "            records1= int(records)\n",
    "        except:\n",
    "            records1= records\n",
    "        new_data3.append(records1)  \n",
    "print new_data3\n",
    "\n",
    "#all records in one giant string, not sure how to get back into separate lists. new_data2 is half-rght"
   ]
  },
  {
   "cell_type": "markdown",
   "metadata": {},
   "source": [
    "---\n",
    "\n",
    "### 19. Count the `None` values per person, and put counts in a dictionary.\n",
    "\n",
    "Use a `for` loop to count the number of `None` values per person. Create a dictionary with the names of the people as keys, and the counts of `None` as values.\n",
    "\n",
    "Who rated the most coffee brands? Who rated the least?"
   ]
  },
  {
   "cell_type": "code",
   "execution_count": 199,
   "metadata": {},
   "outputs": [
    {
     "name": "stdout",
     "output_type": "stream",
     "text": [
      "{'Dave H': 6, 'Ramesh': 5, 'Alex': 6, 'Rocky': 0, 'Zach': 4, 'Vanessa': 2, 'Deepthi': 5, 'India': 2, 'Matt': 0, 'Isabel': 2, 'April': 3, 'Alessandro': 3, 'Ajay Anand': 4, 'Otto': 2, 'Markus': 5, 'Hugh Jass': 0, 'David Feng': 1, 'Vijay': 0, 'cheong-tseng eng': 6, 'Alison': 3}\n"
     ]
    }
   ],
   "source": [
    "# A:\n",
    "\n",
    "dict={}\n",
    "    \n",
    "for person in new_data2:\n",
    "    none_count = 0\n",
    "    for record in person:\n",
    "        if record == 'None':\n",
    "            none_count +=1\n",
    "    dict[person[0]] = none_count  \n",
    "\n",
    "print dict"
   ]
  },
  {
   "cell_type": "markdown",
   "metadata": {},
   "source": [
    "---\n",
    "\n",
    "### 20. Calculate average rating per coffee brand.\n",
    "\n",
    "**Excluding `None` values**, calculate the average rating per brand of coffee.\n",
    "\n",
    "The final output should be a dictionary with keys as the coffee brand names, and their average rating as the values.\n",
    "\n",
    "Remember that the average can be calculated as the sum of the ratings over the number of ratings:\n",
    "\n",
    "```python\n",
    "average_rating = float(sum(ratings_list))/len(ratings_list)\n",
    "```\n",
    "\n",
    "Print your dictionary to see the average brand ratings."
   ]
  },
  {
   "cell_type": "code",
   "execution_count": 186,
   "metadata": {},
   "outputs": [],
   "source": [
    "# A:\n",
    "\n",
    "# need variable new_data3 from ex18 to work first, can't use new_data2 because strings not converted"
   ]
  },
  {
   "cell_type": "markdown",
   "metadata": {},
   "source": [
    "---\n",
    "\n",
    "### 21. Create a list containing only the people's names."
   ]
  },
  {
   "cell_type": "code",
   "execution_count": 185,
   "metadata": {},
   "outputs": [
    {
     "name": "stdout",
     "output_type": "stream",
     "text": [
      "['Alison', 'April', 'Vijay', 'Vanessa', 'Isabel', 'India', 'Dave H', 'Deepthi', 'Ramesh', 'Hugh Jass', 'Alex', 'Ajay Anand', 'David Feng', 'Zach', 'Matt', 'Markus', 'Otto', 'Alessandro', 'Rocky', 'cheong-tseng eng']\n"
     ]
    }
   ],
   "source": [
    "# A:\n",
    "\n",
    "name_list = []\n",
    "\n",
    "\n",
    "for lines in new_data2:\n",
    "    name = lines[0]\n",
    "    name_list.append(name)\n",
    "print name_list"
   ]
  },
  {
   "cell_type": "markdown",
   "metadata": {},
   "source": [
    "---\n",
    "\n",
    "### 22. Picking a name at random. What are the odds of choosing the same name three times in a row?\n",
    "\n",
    "Now we'll use a `while` loop to \"brute force\" the odds of choosing the same name three times in a row randomly from the list of names.\n",
    "\n",
    "\"Brute Force\" is a term used quite frequently in programming to reference a computationally inefficient way of solving a problem. It's brute force in this situation because we can use statistics to solve this much more efficiently than actually playing out an entire scenario.\n",
    "\n",
    "Below I've imported the **`random`** package, which has the essential function for this code **`random.choice()`**.\n",
    "The function takes a list as an argument, and returns one of the elements of that list at random."
   ]
  },
  {
   "cell_type": "code",
   "execution_count": 200,
   "metadata": {},
   "outputs": [
    {
     "data": {
      "text/plain": [
       "'Vanessa'"
      ]
     },
     "execution_count": 200,
     "metadata": {},
     "output_type": "execute_result"
    }
   ],
   "source": [
    "import random\n",
    "# Choose a random person from the list of people:\n",
    "random.choice(name_list)"
   ]
  },
  {
   "cell_type": "markdown",
   "metadata": {},
   "source": [
    "Write a function to choose a person from the list randomly three times and check if they are all the same.\n",
    "\n",
    "Define a function that has the following properties:\n",
    "\n",
    "1. Takes a list (your list of names) as an argument.\n",
    "2. Selects a name using `random.choice(people)` three separate times.\n",
    "3. Returns `True` if the name was the same all three times. Otherwise returns `False`."
   ]
  },
  {
   "cell_type": "code",
   "execution_count": 209,
   "metadata": {},
   "outputs": [
    {
     "name": "stdout",
     "output_type": "stream",
     "text": [
      "False\n"
     ]
    }
   ],
   "source": [
    "# A:\n",
    "\n",
    "def testing(name_list):\n",
    "    a = random.choice(name_list)\n",
    "    b = random.choice(name_list)\n",
    "    c = random.choice(name_list)\n",
    "    if a==b and b==c:\n",
    "        print(True)\n",
    "    else:\n",
    "        print(False)\n",
    "        \n",
    "testing(name_list)"
   ]
  },
  {
   "cell_type": "markdown",
   "metadata": {},
   "source": [
    "---\n",
    "\n",
    "### 23. Construct a `while` loop to run the choosing function until it returns `True`.\n",
    "\n",
    "Run the function until you draw the same person three times using a `while` loop. Keep track of how many tries it took and print out the number of tries after it runs."
   ]
  },
  {
   "cell_type": "code",
   "execution_count": 226,
   "metadata": {},
   "outputs": [
    {
     "name": "stdout",
     "output_type": "stream",
     "text": [
      "iterations: 231\n"
     ]
    }
   ],
   "source": [
    "# A:\n",
    "\n",
    "iterations = 0\n",
    "\n",
    "while True:\n",
    "    iterations += 1\n",
    "    a = random.choice(name_list)\n",
    "    b = random.choice(name_list)\n",
    "    c = random.choice(name_list)\n",
    "    if a==b and b==c:\n",
    "        print 'iterations:', iterations\n",
    "        break\n",
    "\n",
    "    "
   ]
  },
  {
   "cell_type": "markdown",
   "metadata": {
    "collapsed": true
   },
   "source": [
    "\n",
    "<a name=\"conclusion\"></a>\n",
    "## Lesson Summary\n",
    "\n",
    "\n",
    "Let's review what we learned today:\n",
    "\n",
    "- Discussed why Python is popular for data science.\n",
    "- Demonstrated variable assignment.\n",
    "- Defined integers, strings, tuples, lists, and dictionaries.\n",
    "- Demonstrated arithmetic operations and string operations.\n",
    "- Reviewed `Python` control flow and conditional programming. \n",
    "- Implemented `for` and `while` loops to iterate through data structures.\n",
    "- Applied `if…else` conditional statements.\n",
    "- Created functions to perform repetitive actions.\n",
    "- Demonstrated error-handling using `try, except` statements.\n",
    "- Combined control flow and conditional statements to solve the classic \"FizzBuzz\" code challenge.\n",
    "- Used `Python` control flow and functions to help us parse, clean, edit, and analyze the Coffee Preferences data set.\n",
    "\n",
    "\n",
    "\n",
    "### Additional Questions?\n",
    "\n",
    "\n",
    "....\n",
    "\n",
    "### Additional Resources\n",
    "\n",
    "- [Learn Python on Codecademy](https://www.codecademy.com/learn/python)\n",
    "- [Learn Python the Hard Way](https://learnpythonthehardway.org)\n",
    "- [Python Datatypes and Variables](http://www.python-course.eu/variables.php)\n",
    "- [Python IF…ELIF…ELSE Statements](https://www.tutorialspoint.com/python/python_if_else.htm)\n",
    "- [Python Loops](https://www.tutorialspoint.com/python/python_loops.htm)\n",
    "- [Python Control Flow](https://python.swaroopch.com/control_flow.html)"
   ]
  },
  {
   "cell_type": "code",
   "execution_count": null,
   "metadata": {
    "collapsed": true
   },
   "outputs": [],
   "source": []
  }
 ],
 "metadata": {
  "anaconda-cloud": {},
  "kernelspec": {
   "display_name": "Python 2",
   "language": "python",
   "name": "python2"
  },
  "language_info": {
   "codemirror_mode": {
    "name": "ipython",
    "version": 2
   },
   "file_extension": ".py",
   "mimetype": "text/x-python",
   "name": "python",
   "nbconvert_exporter": "python",
   "pygments_lexer": "ipython2",
   "version": "2.7.13"
  }
 },
 "nbformat": 4,
 "nbformat_minor": 1
}
